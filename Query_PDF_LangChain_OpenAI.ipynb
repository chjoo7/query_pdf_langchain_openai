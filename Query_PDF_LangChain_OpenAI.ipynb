{
 "cells": [
  {
   "cell_type": "markdown",
   "id": "cf1746b2",
   "metadata": {},
   "source": [
    "###  Question to PDF using LangChain and OpenAI LLM ###\n",
    "- Ask a question using Korean sentence target to large PDF files via LangChain and OpenAI API.\n",
    "- Split documents using LangChain splitter or fixed chunks and store into Dataframe\n",
    "- Query embedding compare cosine similarity with embedding data in Dataframe and return by similarity ranking TopN."
   ]
  },
  {
   "cell_type": "code",
   "execution_count": 1,
   "id": "8e02191b",
   "metadata": {},
   "outputs": [
    {
     "name": "stdout",
     "output_type": "stream",
     "text": [
      "Requirement already up-to-date: openai in /home/jovyan_venv/.venv/torch1.12.1-py3.8-cuda11.3/lib/python3.8/site-packages (0.27.4)\n",
      "Requirement already satisfied, skipping upgrade: requests>=2.20 in /usr/local/lib/python3.8/dist-packages (from openai) (2.28.2)\n",
      "Requirement already satisfied, skipping upgrade: aiohttp in /usr/local/lib/python3.8/dist-packages (from openai) (3.8.4)\n",
      "Requirement already satisfied, skipping upgrade: tqdm in /usr/local/lib/python3.8/dist-packages (from openai) (4.65.0)\n",
      "Requirement already satisfied, skipping upgrade: certifi>=2017.4.17 in /usr/local/lib/python3.8/dist-packages (from requests>=2.20->openai) (2022.12.7)\n",
      "Requirement already satisfied, skipping upgrade: urllib3<1.27,>=1.21.1 in /usr/local/lib/python3.8/dist-packages (from requests>=2.20->openai) (1.26.14)\n",
      "Requirement already satisfied, skipping upgrade: charset-normalizer<4,>=2 in /usr/local/lib/python3.8/dist-packages (from requests>=2.20->openai) (3.0.1)\n",
      "Requirement already satisfied, skipping upgrade: idna<4,>=2.5 in /usr/local/lib/python3.8/dist-packages (from requests>=2.20->openai) (3.4)\n",
      "Requirement already satisfied, skipping upgrade: attrs>=17.3.0 in /usr/local/lib/python3.8/dist-packages (from aiohttp->openai) (19.3.0)\n",
      "Requirement already satisfied, skipping upgrade: async-timeout<5.0,>=4.0.0a3 in /usr/local/lib/python3.8/dist-packages (from aiohttp->openai) (4.0.2)\n",
      "Requirement already satisfied, skipping upgrade: aiosignal>=1.1.2 in /usr/local/lib/python3.8/dist-packages (from aiohttp->openai) (1.3.1)\n",
      "Requirement already satisfied, skipping upgrade: multidict<7.0,>=4.5 in /usr/local/lib/python3.8/dist-packages (from aiohttp->openai) (6.0.4)\n",
      "Requirement already satisfied, skipping upgrade: frozenlist>=1.1.1 in /usr/local/lib/python3.8/dist-packages (from aiohttp->openai) (1.3.3)\n",
      "Requirement already satisfied, skipping upgrade: yarl<2.0,>=1.0 in /usr/local/lib/python3.8/dist-packages (from aiohttp->openai) (1.8.2)\n"
     ]
    }
   ],
   "source": [
    "!pip install -Uq openai"
   ]
  },
  {
   "cell_type": "code",
   "execution_count": 2,
   "id": "f8af1451",
   "metadata": {},
   "outputs": [
    {
     "name": "stdout",
     "output_type": "stream",
     "text": [
      "Requirement already satisfied: langchain in /home/jovyan_venv/.venv/torch1.12.1-py3.8-cuda11.3/lib/python3.8/site-packages (0.0.141)\n",
      "Requirement already satisfied: aiohttp<4.0.0,>=3.8.3 in /usr/local/lib/python3.8/dist-packages (from langchain) (3.8.4)\n",
      "Requirement already satisfied: pydantic<2,>=1 in /home/jovyan_venv/.venv/torch1.12.1-py3.8-cuda11.3/lib/python3.8/site-packages (from langchain) (1.10.7)\n",
      "Requirement already satisfied: dataclasses-json<0.6.0,>=0.5.7 in /home/jovyan_venv/.venv/torch1.12.1-py3.8-cuda11.3/lib/python3.8/site-packages (from langchain) (0.5.7)\n",
      "Requirement already satisfied: PyYAML>=5.4.1 in /usr/local/lib/python3.8/dist-packages (from langchain) (6.0)\n",
      "Requirement already satisfied: async-timeout<5.0.0,>=4.0.0; python_version < \"3.11\" in /usr/local/lib/python3.8/dist-packages (from langchain) (4.0.2)\n",
      "Requirement already satisfied: gptcache>=0.1.7 in /home/jovyan_venv/.venv/torch1.12.1-py3.8-cuda11.3/lib/python3.8/site-packages (from langchain) (0.1.11)\n",
      "Requirement already satisfied: tenacity<9.0.0,>=8.1.0 in /usr/local/lib/python3.8/dist-packages (from langchain) (8.2.1)\n",
      "Requirement already satisfied: openapi-schema-pydantic<2.0,>=1.2 in /home/jovyan_venv/.venv/torch1.12.1-py3.8-cuda11.3/lib/python3.8/site-packages (from langchain) (1.2.4)\n",
      "Requirement already satisfied: numpy<2,>=1 in /home/jovyan_venv/.venv/torch1.12.1-py3.8-cuda11.3/lib/python3.8/site-packages (from langchain) (1.23.5)\n",
      "Requirement already satisfied: SQLAlchemy<2,>=1 in /home/jovyan_venv/.venv/torch1.12.1-py3.8-cuda11.3/lib/python3.8/site-packages (from langchain) (1.4.47)\n",
      "Requirement already satisfied: requests<3,>=2 in /usr/local/lib/python3.8/dist-packages (from langchain) (2.28.2)\n",
      "Requirement already satisfied: multidict<7.0,>=4.5 in /usr/local/lib/python3.8/dist-packages (from aiohttp<4.0.0,>=3.8.3->langchain) (6.0.4)\n",
      "Requirement already satisfied: frozenlist>=1.1.1 in /usr/local/lib/python3.8/dist-packages (from aiohttp<4.0.0,>=3.8.3->langchain) (1.3.3)\n",
      "Requirement already satisfied: aiosignal>=1.1.2 in /usr/local/lib/python3.8/dist-packages (from aiohttp<4.0.0,>=3.8.3->langchain) (1.3.1)\n",
      "Requirement already satisfied: charset-normalizer<4.0,>=2.0 in /usr/local/lib/python3.8/dist-packages (from aiohttp<4.0.0,>=3.8.3->langchain) (3.0.1)\n",
      "Requirement already satisfied: attrs>=17.3.0 in /usr/local/lib/python3.8/dist-packages (from aiohttp<4.0.0,>=3.8.3->langchain) (19.3.0)\n",
      "Requirement already satisfied: yarl<2.0,>=1.0 in /usr/local/lib/python3.8/dist-packages (from aiohttp<4.0.0,>=3.8.3->langchain) (1.8.2)\n",
      "Requirement already satisfied: typing-extensions>=4.2.0 in /home/jovyan_venv/.venv/torch1.12.1-py3.8-cuda11.3/lib/python3.8/site-packages (from pydantic<2,>=1->langchain) (4.5.0)\n",
      "Requirement already satisfied: marshmallow-enum<2.0.0,>=1.5.1 in /home/jovyan_venv/.venv/torch1.12.1-py3.8-cuda11.3/lib/python3.8/site-packages (from dataclasses-json<0.6.0,>=0.5.7->langchain) (1.5.1)\n",
      "Requirement already satisfied: marshmallow<4.0.0,>=3.3.0 in /home/jovyan_venv/.venv/torch1.12.1-py3.8-cuda11.3/lib/python3.8/site-packages (from dataclasses-json<0.6.0,>=0.5.7->langchain) (3.19.0)\n",
      "Requirement already satisfied: typing-inspect>=0.4.0 in /home/jovyan_venv/.venv/torch1.12.1-py3.8-cuda11.3/lib/python3.8/site-packages (from dataclasses-json<0.6.0,>=0.5.7->langchain) (0.8.0)\n",
      "Requirement already satisfied: cachetools in /usr/local/lib/python3.8/dist-packages (from gptcache>=0.1.7->langchain) (5.2.0)\n",
      "Requirement already satisfied: openai in /home/jovyan_venv/.venv/torch1.12.1-py3.8-cuda11.3/lib/python3.8/site-packages (from gptcache>=0.1.7->langchain) (0.27.4)\n",
      "Requirement already satisfied: greenlet!=0.4.17; python_version >= \"3\" and (platform_machine == \"aarch64\" or (platform_machine == \"ppc64le\" or (platform_machine == \"x86_64\" or (platform_machine == \"amd64\" or (platform_machine == \"AMD64\" or (platform_machine == \"win32\" or platform_machine == \"WIN32\")))))) in /usr/local/lib/python3.8/dist-packages (from SQLAlchemy<2,>=1->langchain) (2.0.2)\n",
      "Requirement already satisfied: urllib3<1.27,>=1.21.1 in /usr/local/lib/python3.8/dist-packages (from requests<3,>=2->langchain) (1.26.14)\n",
      "Requirement already satisfied: certifi>=2017.4.17 in /usr/local/lib/python3.8/dist-packages (from requests<3,>=2->langchain) (2022.12.7)\n",
      "Requirement already satisfied: idna<4,>=2.5 in /usr/local/lib/python3.8/dist-packages (from requests<3,>=2->langchain) (3.4)\n",
      "Requirement already satisfied: packaging>=17.0 in /usr/local/lib/python3.8/dist-packages (from marshmallow<4.0.0,>=3.3.0->dataclasses-json<0.6.0,>=0.5.7->langchain) (23.0)\n",
      "Requirement already satisfied: mypy-extensions>=0.3.0 in /home/jovyan_venv/.venv/torch1.12.1-py3.8-cuda11.3/lib/python3.8/site-packages (from typing-inspect>=0.4.0->dataclasses-json<0.6.0,>=0.5.7->langchain) (1.0.0)\n",
      "Requirement already satisfied: tqdm in /usr/local/lib/python3.8/dist-packages (from openai->gptcache>=0.1.7->langchain) (4.65.0)\n"
     ]
    }
   ],
   "source": [
    "!pip install -q langchain"
   ]
  },
  {
   "cell_type": "code",
   "execution_count": 3,
   "id": "b15eb86b",
   "metadata": {},
   "outputs": [
    {
     "name": "stdout",
     "output_type": "stream",
     "text": [
      "Requirement already satisfied: ipython in /usr/local/lib/python3.8/dist-packages (8.10.0)\n",
      "Requirement already satisfied: pygments>=2.4.0 in /usr/local/lib/python3.8/dist-packages (from ipython) (2.14.0)\n",
      "Requirement already satisfied: jedi>=0.16 in /usr/local/lib/python3.8/dist-packages (from ipython) (0.17.2)\n",
      "Requirement already satisfied: pickleshare in /usr/local/lib/python3.8/dist-packages (from ipython) (0.7.5)\n",
      "Requirement already satisfied: stack-data in /usr/local/lib/python3.8/dist-packages (from ipython) (0.6.2)\n",
      "Requirement already satisfied: decorator in /usr/local/lib/python3.8/dist-packages (from ipython) (5.1.1)\n",
      "Requirement already satisfied: matplotlib-inline in /usr/local/lib/python3.8/dist-packages (from ipython) (0.1.6)\n",
      "Requirement already satisfied: traitlets>=5 in /usr/local/lib/python3.8/dist-packages (from ipython) (5.9.0)\n",
      "Requirement already satisfied: prompt-toolkit<3.1.0,>=3.0.30 in /usr/local/lib/python3.8/dist-packages (from ipython) (3.0.36)\n",
      "Requirement already satisfied: backcall in /usr/local/lib/python3.8/dist-packages (from ipython) (0.2.0)\n",
      "Requirement already satisfied: pexpect>4.3; sys_platform != \"win32\" in /usr/local/lib/python3.8/dist-packages (from ipython) (4.8.0)\n",
      "Requirement already satisfied: parso<0.8.0,>=0.7.0 in /usr/local/lib/python3.8/dist-packages (from jedi>=0.16->ipython) (0.7.1)\n",
      "Requirement already satisfied: executing>=1.2.0 in /usr/local/lib/python3.8/dist-packages (from stack-data->ipython) (1.2.0)\n",
      "Requirement already satisfied: pure-eval in /usr/local/lib/python3.8/dist-packages (from stack-data->ipython) (0.2.2)\n",
      "Requirement already satisfied: asttokens>=2.1.0 in /usr/local/lib/python3.8/dist-packages (from stack-data->ipython) (2.2.1)\n",
      "Requirement already satisfied: wcwidth in /usr/local/lib/python3.8/dist-packages (from prompt-toolkit<3.1.0,>=3.0.30->ipython) (0.2.6)\n",
      "Requirement already satisfied: ptyprocess>=0.5 in /usr/local/lib/python3.8/dist-packages (from pexpect>4.3; sys_platform != \"win32\"->ipython) (0.7.0)\n",
      "Requirement already satisfied: six in /usr/local/lib/python3.8/dist-packages (from asttokens>=2.1.0->stack-data->ipython) (1.16.0)\n"
     ]
    }
   ],
   "source": [
    "!pip install -q ipython"
   ]
  },
  {
   "cell_type": "code",
   "execution_count": 4,
   "id": "de1ae286",
   "metadata": {},
   "outputs": [],
   "source": [
    "!pip install -qU pinecone-client"
   ]
  },
  {
   "cell_type": "code",
   "execution_count": 5,
   "id": "111b9049",
   "metadata": {},
   "outputs": [
    {
     "name": "stdout",
     "output_type": "stream",
     "text": [
      "Requirement already up-to-date: tiktoken in /home/jovyan_venv/.venv/torch1.12.1-py3.8-cuda11.3/lib/python3.8/site-packages (0.3.3)\n",
      "Requirement already satisfied, skipping upgrade: requests>=2.26.0 in /usr/local/lib/python3.8/dist-packages (from tiktoken) (2.28.2)\n",
      "Requirement already satisfied, skipping upgrade: regex>=2022.1.18 in /home/jovyan_venv/.venv/torch1.12.1-py3.8-cuda11.3/lib/python3.8/site-packages (from tiktoken) (2023.3.23)\n",
      "Requirement already satisfied, skipping upgrade: certifi>=2017.4.17 in /usr/local/lib/python3.8/dist-packages (from requests>=2.26.0->tiktoken) (2022.12.7)\n",
      "Requirement already satisfied, skipping upgrade: urllib3<1.27,>=1.21.1 in /usr/local/lib/python3.8/dist-packages (from requests>=2.26.0->tiktoken) (1.26.14)\n",
      "Requirement already satisfied, skipping upgrade: idna<4,>=2.5 in /usr/local/lib/python3.8/dist-packages (from requests>=2.26.0->tiktoken) (3.4)\n",
      "Requirement already satisfied, skipping upgrade: charset-normalizer<4,>=2 in /usr/local/lib/python3.8/dist-packages (from requests>=2.26.0->tiktoken) (3.0.1)\n",
      "Note: you may need to restart the kernel to use updated packages.\n"
     ]
    }
   ],
   "source": [
    "%pip install --upgrade tiktoken"
   ]
  },
  {
   "cell_type": "code",
   "execution_count": 6,
   "id": "a65c775f",
   "metadata": {},
   "outputs": [],
   "source": [
    "from langchain.document_loaders import UnstructuredPDFLoader, OnlinePDFLoader\n",
    "from langchain.text_splitter import RecursiveCharacterTextSplitter"
   ]
  },
  {
   "cell_type": "code",
   "execution_count": 7,
   "id": "32cb4a3f",
   "metadata": {},
   "outputs": [
    {
     "name": "stdout",
     "output_type": "stream",
     "text": [
      "Requirement already satisfied: chromadb in /home/jovyan_venv/.venv/torch1.12.1-py3.8-cuda11.3/lib/python3.8/site-packages (0.3.21)\n",
      "Requirement already satisfied: fastapi>=0.85.1 in /home/jovyan_venv/.venv/torch1.12.1-py3.8-cuda11.3/lib/python3.8/site-packages (from chromadb) (0.95.1)\n",
      "Requirement already satisfied: pydantic>=1.9 in /home/jovyan_venv/.venv/torch1.12.1-py3.8-cuda11.3/lib/python3.8/site-packages (from chromadb) (1.10.7)\n",
      "Requirement already satisfied: duckdb>=0.7.1 in /home/jovyan_venv/.venv/torch1.12.1-py3.8-cuda11.3/lib/python3.8/site-packages (from chromadb) (0.7.1)\n",
      "Requirement already satisfied: numpy>=1.21.6 in /home/jovyan_venv/.venv/torch1.12.1-py3.8-cuda11.3/lib/python3.8/site-packages (from chromadb) (1.23.5)\n",
      "Requirement already satisfied: pandas>=1.3 in /usr/local/lib/python3.8/dist-packages (from chromadb) (1.4.4)\n",
      "Requirement already satisfied: sentence-transformers>=2.2.2 in /home/jovyan_venv/.venv/torch1.12.1-py3.8-cuda11.3/lib/python3.8/site-packages (from chromadb) (2.2.2)\n",
      "Requirement already satisfied: clickhouse-connect>=0.5.7 in /home/jovyan_venv/.venv/torch1.12.1-py3.8-cuda11.3/lib/python3.8/site-packages (from chromadb) (0.5.20)\n",
      "Requirement already satisfied: requests>=2.28 in /usr/local/lib/python3.8/dist-packages (from chromadb) (2.28.2)\n",
      "Requirement already satisfied: hnswlib>=0.7 in /home/jovyan_venv/.venv/torch1.12.1-py3.8-cuda11.3/lib/python3.8/site-packages (from chromadb) (0.7.0)\n",
      "Requirement already satisfied: uvicorn[standard]>=0.18.3 in /home/jovyan_venv/.venv/torch1.12.1-py3.8-cuda11.3/lib/python3.8/site-packages (from chromadb) (0.21.1)\n",
      "Requirement already satisfied: posthog>=2.4.0 in /home/jovyan_venv/.venv/torch1.12.1-py3.8-cuda11.3/lib/python3.8/site-packages (from chromadb) (2.5.0)\n",
      "Requirement already satisfied: starlette<0.27.0,>=0.26.1 in /home/jovyan_venv/.venv/torch1.12.1-py3.8-cuda11.3/lib/python3.8/site-packages (from fastapi>=0.85.1->chromadb) (0.26.1)\n",
      "Requirement already satisfied: typing-extensions>=4.2.0 in /home/jovyan_venv/.venv/torch1.12.1-py3.8-cuda11.3/lib/python3.8/site-packages (from pydantic>=1.9->chromadb) (4.5.0)\n",
      "Requirement already satisfied: python-dateutil>=2.8.1 in /usr/local/lib/python3.8/dist-packages (from pandas>=1.3->chromadb) (2.8.2)\n",
      "Requirement already satisfied: pytz>=2020.1 in /usr/local/lib/python3.8/dist-packages (from pandas>=1.3->chromadb) (2020.1)\n",
      "Requirement already satisfied: tqdm in /usr/local/lib/python3.8/dist-packages (from sentence-transformers>=2.2.2->chromadb) (4.65.0)\n",
      "Requirement already satisfied: torch>=1.6.0 in /home/jovyan_venv/.venv/torch1.12.1-py3.8-cuda11.3/lib/python3.8/site-packages (from sentence-transformers>=2.2.2->chromadb) (1.12.1+cu113)\n",
      "Requirement already satisfied: transformers<5.0.0,>=4.6.0 in /home/jovyan_venv/.venv/torch1.12.1-py3.8-cuda11.3/lib/python3.8/site-packages (from sentence-transformers>=2.2.2->chromadb) (4.28.1)\n",
      "Requirement already satisfied: huggingface-hub>=0.4.0 in /home/jovyan_venv/.venv/torch1.12.1-py3.8-cuda11.3/lib/python3.8/site-packages (from sentence-transformers>=2.2.2->chromadb) (0.13.4)\n",
      "Requirement already satisfied: scikit-learn in /usr/local/lib/python3.8/dist-packages (from sentence-transformers>=2.2.2->chromadb) (1.2.1)\n",
      "Requirement already satisfied: scipy in /usr/local/lib/python3.8/dist-packages (from sentence-transformers>=2.2.2->chromadb) (1.10.1)\n",
      "Requirement already satisfied: nltk in /home/jovyan_venv/.venv/torch1.12.1-py3.8-cuda11.3/lib/python3.8/site-packages (from sentence-transformers>=2.2.2->chromadb) (3.8.1)\n",
      "Requirement already satisfied: sentencepiece in /home/jovyan_venv/.venv/torch1.12.1-py3.8-cuda11.3/lib/python3.8/site-packages (from sentence-transformers>=2.2.2->chromadb) (0.1.98)\n",
      "Requirement already satisfied: torchvision in /home/jovyan_venv/.venv/torch1.12.1-py3.8-cuda11.3/lib/python3.8/site-packages (from sentence-transformers>=2.2.2->chromadb) (0.13.1+cu113)\n",
      "Requirement already satisfied: certifi in /usr/local/lib/python3.8/dist-packages (from clickhouse-connect>=0.5.7->chromadb) (2022.12.7)\n",
      "Requirement already satisfied: zstandard in /home/jovyan_venv/.venv/torch1.12.1-py3.8-cuda11.3/lib/python3.8/site-packages (from clickhouse-connect>=0.5.7->chromadb) (0.21.0)\n",
      "Requirement already satisfied: urllib3>=1.26 in /usr/local/lib/python3.8/dist-packages (from clickhouse-connect>=0.5.7->chromadb) (1.26.14)\n",
      "Requirement already satisfied: lz4 in /home/jovyan_venv/.venv/torch1.12.1-py3.8-cuda11.3/lib/python3.8/site-packages (from clickhouse-connect>=0.5.7->chromadb) (4.3.2)\n",
      "Requirement already satisfied: charset-normalizer<4,>=2 in /usr/local/lib/python3.8/dist-packages (from requests>=2.28->chromadb) (3.0.1)\n",
      "Requirement already satisfied: idna<4,>=2.5 in /usr/local/lib/python3.8/dist-packages (from requests>=2.28->chromadb) (3.4)\n",
      "Requirement already satisfied: h11>=0.8 in /home/jovyan_venv/.venv/torch1.12.1-py3.8-cuda11.3/lib/python3.8/site-packages (from uvicorn[standard]>=0.18.3->chromadb) (0.14.0)\n",
      "Requirement already satisfied: click>=7.0 in /usr/local/lib/python3.8/dist-packages (from uvicorn[standard]>=0.18.3->chromadb) (8.0.0)\n",
      "Requirement already satisfied: python-dotenv>=0.13; extra == \"standard\" in /home/jovyan_venv/.venv/torch1.12.1-py3.8-cuda11.3/lib/python3.8/site-packages (from uvicorn[standard]>=0.18.3->chromadb) (1.0.0)\n",
      "Requirement already satisfied: websockets>=10.4; extra == \"standard\" in /home/jovyan_venv/.venv/torch1.12.1-py3.8-cuda11.3/lib/python3.8/site-packages (from uvicorn[standard]>=0.18.3->chromadb) (11.0.1)\n",
      "Requirement already satisfied: uvloop!=0.15.0,!=0.15.1,>=0.14.0; sys_platform != \"win32\" and (sys_platform != \"cygwin\" and platform_python_implementation != \"PyPy\") and extra == \"standard\" in /home/jovyan_venv/.venv/torch1.12.1-py3.8-cuda11.3/lib/python3.8/site-packages (from uvicorn[standard]>=0.18.3->chromadb) (0.17.0)\n",
      "Requirement already satisfied: pyyaml>=5.1; extra == \"standard\" in /usr/local/lib/python3.8/dist-packages (from uvicorn[standard]>=0.18.3->chromadb) (6.0)\n",
      "Requirement already satisfied: httptools>=0.5.0; extra == \"standard\" in /home/jovyan_venv/.venv/torch1.12.1-py3.8-cuda11.3/lib/python3.8/site-packages (from uvicorn[standard]>=0.18.3->chromadb) (0.5.0)\n",
      "Requirement already satisfied: watchfiles>=0.13; extra == \"standard\" in /home/jovyan_venv/.venv/torch1.12.1-py3.8-cuda11.3/lib/python3.8/site-packages (from uvicorn[standard]>=0.18.3->chromadb) (0.19.0)\n",
      "Requirement already satisfied: backoff>=1.10.0 in /home/jovyan_venv/.venv/torch1.12.1-py3.8-cuda11.3/lib/python3.8/site-packages (from posthog>=2.4.0->chromadb) (2.2.1)\n",
      "Requirement already satisfied: monotonic>=1.5 in /home/jovyan_venv/.venv/torch1.12.1-py3.8-cuda11.3/lib/python3.8/site-packages (from posthog>=2.4.0->chromadb) (1.6)\n",
      "Requirement already satisfied: six>=1.5 in /usr/local/lib/python3.8/dist-packages (from posthog>=2.4.0->chromadb) (1.16.0)\n",
      "Requirement already satisfied: anyio<5,>=3.4.0 in /usr/local/lib/python3.8/dist-packages (from starlette<0.27.0,>=0.26.1->fastapi>=0.85.1->chromadb) (3.6.2)\n",
      "Requirement already satisfied: regex!=2019.12.17 in /home/jovyan_venv/.venv/torch1.12.1-py3.8-cuda11.3/lib/python3.8/site-packages (from transformers<5.0.0,>=4.6.0->sentence-transformers>=2.2.2->chromadb) (2023.3.23)\n",
      "Requirement already satisfied: filelock in /home/jovyan_venv/.venv/torch1.12.1-py3.8-cuda11.3/lib/python3.8/site-packages (from transformers<5.0.0,>=4.6.0->sentence-transformers>=2.2.2->chromadb) (3.11.0)\n",
      "Requirement already satisfied: packaging>=20.0 in /usr/local/lib/python3.8/dist-packages (from transformers<5.0.0,>=4.6.0->sentence-transformers>=2.2.2->chromadb) (23.0)\n",
      "Requirement already satisfied: tokenizers!=0.11.3,<0.14,>=0.11.1 in /home/jovyan_venv/.venv/torch1.12.1-py3.8-cuda11.3/lib/python3.8/site-packages (from transformers<5.0.0,>=4.6.0->sentence-transformers>=2.2.2->chromadb) (0.13.3)\n",
      "Requirement already satisfied: threadpoolctl>=2.0.0 in /usr/local/lib/python3.8/dist-packages (from scikit-learn->sentence-transformers>=2.2.2->chromadb) (3.1.0)\n",
      "Requirement already satisfied: joblib>=1.1.1 in /usr/local/lib/python3.8/dist-packages (from scikit-learn->sentence-transformers>=2.2.2->chromadb) (1.2.0)\n",
      "Requirement already satisfied: pillow!=8.3.*,>=5.3.0 in /usr/local/lib/python3.8/dist-packages (from torchvision->sentence-transformers>=2.2.2->chromadb) (9.4.0)\n",
      "Requirement already satisfied: sniffio>=1.1 in /usr/local/lib/python3.8/dist-packages (from anyio<5,>=3.4.0->starlette<0.27.0,>=0.26.1->fastapi>=0.85.1->chromadb) (1.3.0)\n"
     ]
    }
   ],
   "source": [
    "!pip install -q chromadb"
   ]
  },
  {
   "cell_type": "code",
   "execution_count": 8,
   "id": "1ced6d81",
   "metadata": {},
   "outputs": [
    {
     "name": "stdout",
     "output_type": "stream",
     "text": [
      "Requirement already satisfied: unstructured in /home/jovyan_venv/.venv/torch1.12.1-py3.8-cuda11.3/lib/python3.8/site-packages (0.5.12)\n",
      "Requirement already satisfied: pandas in /usr/local/lib/python3.8/dist-packages (from unstructured) (1.4.4)\n",
      "Requirement already satisfied: requests in /usr/local/lib/python3.8/dist-packages (from unstructured) (2.28.2)\n",
      "Requirement already satisfied: openpyxl in /home/jovyan_venv/.venv/torch1.12.1-py3.8-cuda11.3/lib/python3.8/site-packages (from unstructured) (3.1.2)\n",
      "Requirement already satisfied: pypandoc in /home/jovyan_venv/.venv/torch1.12.1-py3.8-cuda11.3/lib/python3.8/site-packages (from unstructured) (1.11)\n",
      "Requirement already satisfied: certifi>=2022.12.07 in /usr/local/lib/python3.8/dist-packages (from unstructured) (2022.12.7)\n",
      "Requirement already satisfied: argilla in /home/jovyan_venv/.venv/torch1.12.1-py3.8-cuda11.3/lib/python3.8/site-packages (from unstructured) (1.6.0)\n",
      "Requirement already satisfied: lxml in /usr/local/lib/python3.8/dist-packages (from unstructured) (4.9.2)\n",
      "Requirement already satisfied: msg-parser in /home/jovyan_venv/.venv/torch1.12.1-py3.8-cuda11.3/lib/python3.8/site-packages (from unstructured) (1.2.0)\n",
      "Requirement already satisfied: pillow in /usr/local/lib/python3.8/dist-packages (from unstructured) (9.4.0)\n",
      "Requirement already satisfied: python-pptx in /home/jovyan_venv/.venv/torch1.12.1-py3.8-cuda11.3/lib/python3.8/site-packages (from unstructured) (0.6.21)\n",
      "Requirement already satisfied: markdown in /usr/local/lib/python3.8/dist-packages (from unstructured) (3.3.7)\n",
      "Requirement already satisfied: nltk in /home/jovyan_venv/.venv/torch1.12.1-py3.8-cuda11.3/lib/python3.8/site-packages (from unstructured) (3.8.1)\n",
      "Requirement already satisfied: python-magic in /home/jovyan_venv/.venv/torch1.12.1-py3.8-cuda11.3/lib/python3.8/site-packages (from unstructured) (0.4.27)\n",
      "Requirement already satisfied: python-docx in /home/jovyan_venv/.venv/torch1.12.1-py3.8-cuda11.3/lib/python3.8/site-packages (from unstructured) (0.8.11)\n",
      "Requirement already satisfied: numpy>=1.18.5; platform_machine != \"aarch64\" and platform_machine != \"arm64\" and python_version < \"3.10\" in /home/jovyan_venv/.venv/torch1.12.1-py3.8-cuda11.3/lib/python3.8/site-packages (from pandas->unstructured) (1.23.5)\n",
      "Requirement already satisfied: python-dateutil>=2.8.1 in /usr/local/lib/python3.8/dist-packages (from pandas->unstructured) (2.8.2)\n",
      "Requirement already satisfied: pytz>=2020.1 in /usr/local/lib/python3.8/dist-packages (from pandas->unstructured) (2020.1)\n",
      "Requirement already satisfied: charset-normalizer<4,>=2 in /usr/local/lib/python3.8/dist-packages (from requests->unstructured) (3.0.1)\n",
      "Requirement already satisfied: idna<4,>=2.5 in /usr/local/lib/python3.8/dist-packages (from requests->unstructured) (3.4)\n",
      "Requirement already satisfied: urllib3<1.27,>=1.21.1 in /usr/local/lib/python3.8/dist-packages (from requests->unstructured) (1.26.14)\n",
      "Requirement already satisfied: et-xmlfile in /home/jovyan_venv/.venv/torch1.12.1-py3.8-cuda11.3/lib/python3.8/site-packages (from openpyxl->unstructured) (1.1.0)\n",
      "Requirement already satisfied: backoff in /home/jovyan_venv/.venv/torch1.12.1-py3.8-cuda11.3/lib/python3.8/site-packages (from argilla->unstructured) (2.2.1)\n",
      "Requirement already satisfied: wrapt<1.15,>=1.13 in /home/jovyan_venv/.venv/torch1.12.1-py3.8-cuda11.3/lib/python3.8/site-packages (from argilla->unstructured) (1.14.1)\n",
      "Requirement already satisfied: pydantic>=1.7.1 in /home/jovyan_venv/.venv/torch1.12.1-py3.8-cuda11.3/lib/python3.8/site-packages (from argilla->unstructured) (1.10.7)\n",
      "Requirement already satisfied: deprecated~=1.2.0 in /home/jovyan_venv/.venv/torch1.12.1-py3.8-cuda11.3/lib/python3.8/site-packages (from argilla->unstructured) (1.2.13)\n",
      "Requirement already satisfied: monotonic in /home/jovyan_venv/.venv/torch1.12.1-py3.8-cuda11.3/lib/python3.8/site-packages (from argilla->unstructured) (1.6)\n",
      "Requirement already satisfied: rich<=13.0.1 in /home/jovyan_venv/.venv/torch1.12.1-py3.8-cuda11.3/lib/python3.8/site-packages (from argilla->unstructured) (13.0.1)\n",
      "Requirement already satisfied: tqdm>=4.27.0 in /usr/local/lib/python3.8/dist-packages (from argilla->unstructured) (4.65.0)\n",
      "Requirement already satisfied: httpx<0.24,>=0.15 in /home/jovyan_venv/.venv/torch1.12.1-py3.8-cuda11.3/lib/python3.8/site-packages (from argilla->unstructured) (0.23.3)\n",
      "Requirement already satisfied: packaging>=20.0 in /usr/local/lib/python3.8/dist-packages (from argilla->unstructured) (23.0)\n",
      "Requirement already satisfied: olefile>=0.46 in /home/jovyan_venv/.venv/torch1.12.1-py3.8-cuda11.3/lib/python3.8/site-packages (from msg-parser->unstructured) (0.46)\n",
      "Requirement already satisfied: XlsxWriter>=0.5.7 in /home/jovyan_venv/.venv/torch1.12.1-py3.8-cuda11.3/lib/python3.8/site-packages (from python-pptx->unstructured) (3.1.0)\n",
      "Requirement already satisfied: importlib-metadata>=4.4; python_version < \"3.10\" in /usr/local/lib/python3.8/dist-packages (from markdown->unstructured) (6.0.0)\n",
      "Requirement already satisfied: regex>=2021.8.3 in /home/jovyan_venv/.venv/torch1.12.1-py3.8-cuda11.3/lib/python3.8/site-packages (from nltk->unstructured) (2023.3.23)\n",
      "Requirement already satisfied: joblib in /usr/local/lib/python3.8/dist-packages (from nltk->unstructured) (1.2.0)\n",
      "Requirement already satisfied: click in /usr/local/lib/python3.8/dist-packages (from nltk->unstructured) (8.0.0)\n",
      "Requirement already satisfied: six>=1.5 in /usr/local/lib/python3.8/dist-packages (from python-dateutil>=2.8.1->pandas->unstructured) (1.16.0)\n",
      "Requirement already satisfied: typing-extensions>=4.2.0 in /home/jovyan_venv/.venv/torch1.12.1-py3.8-cuda11.3/lib/python3.8/site-packages (from pydantic>=1.7.1->argilla->unstructured) (4.5.0)\n",
      "Requirement already satisfied: commonmark<0.10.0,>=0.9.0 in /home/jovyan_venv/.venv/torch1.12.1-py3.8-cuda11.3/lib/python3.8/site-packages (from rich<=13.0.1->argilla->unstructured) (0.9.1)\n",
      "Requirement already satisfied: pygments<3.0.0,>=2.6.0 in /usr/local/lib/python3.8/dist-packages (from rich<=13.0.1->argilla->unstructured) (2.14.0)\n",
      "Requirement already satisfied: httpcore<0.17.0,>=0.15.0 in /home/jovyan_venv/.venv/torch1.12.1-py3.8-cuda11.3/lib/python3.8/site-packages (from httpx<0.24,>=0.15->argilla->unstructured) (0.16.3)\n",
      "Requirement already satisfied: rfc3986[idna2008]<2,>=1.3 in /home/jovyan_venv/.venv/torch1.12.1-py3.8-cuda11.3/lib/python3.8/site-packages (from httpx<0.24,>=0.15->argilla->unstructured) (1.5.0)\n",
      "Requirement already satisfied: sniffio in /usr/local/lib/python3.8/dist-packages (from httpx<0.24,>=0.15->argilla->unstructured) (1.3.0)\n",
      "Requirement already satisfied: zipp>=0.5 in /usr/local/lib/python3.8/dist-packages (from importlib-metadata>=4.4; python_version < \"3.10\"->markdown->unstructured) (3.14.0)\n",
      "Requirement already satisfied: anyio<5.0,>=3.0 in /usr/local/lib/python3.8/dist-packages (from httpcore<0.17.0,>=0.15.0->httpx<0.24,>=0.15->argilla->unstructured) (3.6.2)\n",
      "Requirement already satisfied: h11<0.15,>=0.13 in /home/jovyan_venv/.venv/torch1.12.1-py3.8-cuda11.3/lib/python3.8/site-packages (from httpcore<0.17.0,>=0.15.0->httpx<0.24,>=0.15->argilla->unstructured) (0.14.0)\n"
     ]
    }
   ],
   "source": [
    "!pip install -q unstructured"
   ]
  },
  {
   "cell_type": "code",
   "execution_count": 9,
   "id": "de774ff9",
   "metadata": {},
   "outputs": [
    {
     "name": "stdout",
     "output_type": "stream",
     "text": [
      "Requirement already satisfied: unstructured[local-inference] in /home/jovyan_venv/.venv/torch1.12.1-py3.8-cuda11.3/lib/python3.8/site-packages (0.5.12)\n",
      "Requirement already satisfied: python-docx in /home/jovyan_venv/.venv/torch1.12.1-py3.8-cuda11.3/lib/python3.8/site-packages (from unstructured[local-inference]) (0.8.11)\n",
      "Requirement already satisfied: msg-parser in /home/jovyan_venv/.venv/torch1.12.1-py3.8-cuda11.3/lib/python3.8/site-packages (from unstructured[local-inference]) (1.2.0)\n",
      "Requirement already satisfied: pillow in /usr/local/lib/python3.8/dist-packages (from unstructured[local-inference]) (9.4.0)\n",
      "Requirement already satisfied: markdown in /usr/local/lib/python3.8/dist-packages (from unstructured[local-inference]) (3.3.7)\n",
      "Requirement already satisfied: certifi>=2022.12.07 in /usr/local/lib/python3.8/dist-packages (from unstructured[local-inference]) (2022.12.7)\n",
      "Requirement already satisfied: lxml in /usr/local/lib/python3.8/dist-packages (from unstructured[local-inference]) (4.9.2)\n",
      "Requirement already satisfied: argilla in /home/jovyan_venv/.venv/torch1.12.1-py3.8-cuda11.3/lib/python3.8/site-packages (from unstructured[local-inference]) (1.6.0)\n",
      "Requirement already satisfied: nltk in /home/jovyan_venv/.venv/torch1.12.1-py3.8-cuda11.3/lib/python3.8/site-packages (from unstructured[local-inference]) (3.8.1)\n",
      "Requirement already satisfied: pandas in /usr/local/lib/python3.8/dist-packages (from unstructured[local-inference]) (1.4.4)\n",
      "Requirement already satisfied: python-magic in /home/jovyan_venv/.venv/torch1.12.1-py3.8-cuda11.3/lib/python3.8/site-packages (from unstructured[local-inference]) (0.4.27)\n",
      "Requirement already satisfied: requests in /usr/local/lib/python3.8/dist-packages (from unstructured[local-inference]) (2.28.2)\n",
      "Requirement already satisfied: openpyxl in /home/jovyan_venv/.venv/torch1.12.1-py3.8-cuda11.3/lib/python3.8/site-packages (from unstructured[local-inference]) (3.1.2)\n",
      "Requirement already satisfied: pypandoc in /home/jovyan_venv/.venv/torch1.12.1-py3.8-cuda11.3/lib/python3.8/site-packages (from unstructured[local-inference]) (1.11)\n",
      "Requirement already satisfied: python-pptx in /home/jovyan_venv/.venv/torch1.12.1-py3.8-cuda11.3/lib/python3.8/site-packages (from unstructured[local-inference]) (0.6.21)\n",
      "Requirement already satisfied: unstructured-inference==0.3.2; extra == \"local-inference\" in /home/jovyan_venv/.venv/torch1.12.1-py3.8-cuda11.3/lib/python3.8/site-packages (from unstructured[local-inference]) (0.3.2)\n",
      "Requirement already satisfied: olefile>=0.46 in /home/jovyan_venv/.venv/torch1.12.1-py3.8-cuda11.3/lib/python3.8/site-packages (from msg-parser->unstructured[local-inference]) (0.46)\n",
      "Requirement already satisfied: importlib-metadata>=4.4; python_version < \"3.10\" in /usr/local/lib/python3.8/dist-packages (from markdown->unstructured[local-inference]) (6.0.0)\n",
      "Requirement already satisfied: monotonic in /home/jovyan_venv/.venv/torch1.12.1-py3.8-cuda11.3/lib/python3.8/site-packages (from argilla->unstructured[local-inference]) (1.6)\n",
      "Requirement already satisfied: pydantic>=1.7.1 in /home/jovyan_venv/.venv/torch1.12.1-py3.8-cuda11.3/lib/python3.8/site-packages (from argilla->unstructured[local-inference]) (1.10.7)\n",
      "Requirement already satisfied: httpx<0.24,>=0.15 in /home/jovyan_venv/.venv/torch1.12.1-py3.8-cuda11.3/lib/python3.8/site-packages (from argilla->unstructured[local-inference]) (0.23.3)\n",
      "Requirement already satisfied: tqdm>=4.27.0 in /usr/local/lib/python3.8/dist-packages (from argilla->unstructured[local-inference]) (4.65.0)\n",
      "Requirement already satisfied: backoff in /home/jovyan_venv/.venv/torch1.12.1-py3.8-cuda11.3/lib/python3.8/site-packages (from argilla->unstructured[local-inference]) (2.2.1)\n",
      "Requirement already satisfied: rich<=13.0.1 in /home/jovyan_venv/.venv/torch1.12.1-py3.8-cuda11.3/lib/python3.8/site-packages (from argilla->unstructured[local-inference]) (13.0.1)\n",
      "Requirement already satisfied: wrapt<1.15,>=1.13 in /home/jovyan_venv/.venv/torch1.12.1-py3.8-cuda11.3/lib/python3.8/site-packages (from argilla->unstructured[local-inference]) (1.14.1)\n",
      "Requirement already satisfied: packaging>=20.0 in /usr/local/lib/python3.8/dist-packages (from argilla->unstructured[local-inference]) (23.0)\n",
      "Requirement already satisfied: numpy<1.24.0 in /home/jovyan_venv/.venv/torch1.12.1-py3.8-cuda11.3/lib/python3.8/site-packages (from argilla->unstructured[local-inference]) (1.23.5)\n",
      "Requirement already satisfied: deprecated~=1.2.0 in /home/jovyan_venv/.venv/torch1.12.1-py3.8-cuda11.3/lib/python3.8/site-packages (from argilla->unstructured[local-inference]) (1.2.13)\n",
      "Requirement already satisfied: regex>=2021.8.3 in /home/jovyan_venv/.venv/torch1.12.1-py3.8-cuda11.3/lib/python3.8/site-packages (from nltk->unstructured[local-inference]) (2023.3.23)\n",
      "Requirement already satisfied: joblib in /usr/local/lib/python3.8/dist-packages (from nltk->unstructured[local-inference]) (1.2.0)\n",
      "Requirement already satisfied: click in /usr/local/lib/python3.8/dist-packages (from nltk->unstructured[local-inference]) (8.0.0)\n",
      "Requirement already satisfied: python-dateutil>=2.8.1 in /usr/local/lib/python3.8/dist-packages (from pandas->unstructured[local-inference]) (2.8.2)\n",
      "Requirement already satisfied: pytz>=2020.1 in /usr/local/lib/python3.8/dist-packages (from pandas->unstructured[local-inference]) (2020.1)\n",
      "Requirement already satisfied: urllib3<1.27,>=1.21.1 in /usr/local/lib/python3.8/dist-packages (from requests->unstructured[local-inference]) (1.26.14)\n",
      "Requirement already satisfied: charset-normalizer<4,>=2 in /usr/local/lib/python3.8/dist-packages (from requests->unstructured[local-inference]) (3.0.1)\n",
      "Requirement already satisfied: idna<4,>=2.5 in /usr/local/lib/python3.8/dist-packages (from requests->unstructured[local-inference]) (3.4)\n",
      "Requirement already satisfied: et-xmlfile in /home/jovyan_venv/.venv/torch1.12.1-py3.8-cuda11.3/lib/python3.8/site-packages (from openpyxl->unstructured[local-inference]) (1.1.0)\n",
      "Requirement already satisfied: XlsxWriter>=0.5.7 in /home/jovyan_venv/.venv/torch1.12.1-py3.8-cuda11.3/lib/python3.8/site-packages (from python-pptx->unstructured[local-inference]) (3.1.0)\n",
      "Requirement already satisfied: uvicorn in /home/jovyan_venv/.venv/torch1.12.1-py3.8-cuda11.3/lib/python3.8/site-packages (from unstructured-inference==0.3.2; extra == \"local-inference\"->unstructured[local-inference]) (0.21.1)\n",
      "Requirement already satisfied: onnxruntime in /home/jovyan_venv/.venv/torch1.12.1-py3.8-cuda11.3/lib/python3.8/site-packages (from unstructured-inference==0.3.2; extra == \"local-inference\"->unstructured[local-inference]) (1.14.1)\n",
      "Requirement already satisfied: transformers in /home/jovyan_venv/.venv/torch1.12.1-py3.8-cuda11.3/lib/python3.8/site-packages (from unstructured-inference==0.3.2; extra == \"local-inference\"->unstructured[local-inference]) (4.28.1)\n",
      "Requirement already satisfied: python-multipart in /home/jovyan_venv/.venv/torch1.12.1-py3.8-cuda11.3/lib/python3.8/site-packages (from unstructured-inference==0.3.2; extra == \"local-inference\"->unstructured[local-inference]) (0.0.6)\n",
      "Requirement already satisfied: huggingface-hub in /home/jovyan_venv/.venv/torch1.12.1-py3.8-cuda11.3/lib/python3.8/site-packages (from unstructured-inference==0.3.2; extra == \"local-inference\"->unstructured[local-inference]) (0.13.4)\n",
      "Requirement already satisfied: layoutparser[layoutmodels,tesseract] in /home/jovyan_venv/.venv/torch1.12.1-py3.8-cuda11.3/lib/python3.8/site-packages (from unstructured-inference==0.3.2; extra == \"local-inference\"->unstructured[local-inference]) (0.3.4)\n",
      "Requirement already satisfied: fastapi in /home/jovyan_venv/.venv/torch1.12.1-py3.8-cuda11.3/lib/python3.8/site-packages (from unstructured-inference==0.3.2; extra == \"local-inference\"->unstructured[local-inference]) (0.95.1)\n",
      "Requirement already satisfied: opencv-python==4.6.0.66 in /home/jovyan_venv/.venv/torch1.12.1-py3.8-cuda11.3/lib/python3.8/site-packages (from unstructured-inference==0.3.2; extra == \"local-inference\"->unstructured[local-inference]) (4.6.0.66)\n",
      "Requirement already satisfied: zipp>=0.5 in /usr/local/lib/python3.8/dist-packages (from importlib-metadata>=4.4; python_version < \"3.10\"->markdown->unstructured[local-inference]) (3.14.0)\n",
      "Requirement already satisfied: typing-extensions>=4.2.0 in /home/jovyan_venv/.venv/torch1.12.1-py3.8-cuda11.3/lib/python3.8/site-packages (from pydantic>=1.7.1->argilla->unstructured[local-inference]) (4.5.0)\n",
      "Requirement already satisfied: rfc3986[idna2008]<2,>=1.3 in /home/jovyan_venv/.venv/torch1.12.1-py3.8-cuda11.3/lib/python3.8/site-packages (from httpx<0.24,>=0.15->argilla->unstructured[local-inference]) (1.5.0)\n",
      "Requirement already satisfied: httpcore<0.17.0,>=0.15.0 in /home/jovyan_venv/.venv/torch1.12.1-py3.8-cuda11.3/lib/python3.8/site-packages (from httpx<0.24,>=0.15->argilla->unstructured[local-inference]) (0.16.3)\n",
      "Requirement already satisfied: sniffio in /usr/local/lib/python3.8/dist-packages (from httpx<0.24,>=0.15->argilla->unstructured[local-inference]) (1.3.0)\n",
      "Requirement already satisfied: commonmark<0.10.0,>=0.9.0 in /home/jovyan_venv/.venv/torch1.12.1-py3.8-cuda11.3/lib/python3.8/site-packages (from rich<=13.0.1->argilla->unstructured[local-inference]) (0.9.1)\n",
      "Requirement already satisfied: pygments<3.0.0,>=2.6.0 in /usr/local/lib/python3.8/dist-packages (from rich<=13.0.1->argilla->unstructured[local-inference]) (2.14.0)\n",
      "Requirement already satisfied: six>=1.5 in /usr/local/lib/python3.8/dist-packages (from python-dateutil>=2.8.1->pandas->unstructured[local-inference]) (1.16.0)\n",
      "Requirement already satisfied: h11>=0.8 in /home/jovyan_venv/.venv/torch1.12.1-py3.8-cuda11.3/lib/python3.8/site-packages (from uvicorn->unstructured-inference==0.3.2; extra == \"local-inference\"->unstructured[local-inference]) (0.14.0)\n",
      "Requirement already satisfied: flatbuffers in /home/jovyan_venv/.venv/torch1.12.1-py3.8-cuda11.3/lib/python3.8/site-packages (from onnxruntime->unstructured-inference==0.3.2; extra == \"local-inference\"->unstructured[local-inference]) (23.3.3)\n",
      "Requirement already satisfied: sympy in /usr/local/lib/python3.8/dist-packages (from onnxruntime->unstructured-inference==0.3.2; extra == \"local-inference\"->unstructured[local-inference]) (1.11.1)\n",
      "Requirement already satisfied: protobuf in /usr/local/lib/python3.8/dist-packages (from onnxruntime->unstructured-inference==0.3.2; extra == \"local-inference\"->unstructured[local-inference]) (3.20.3)\n",
      "Requirement already satisfied: coloredlogs in /home/jovyan_venv/.venv/torch1.12.1-py3.8-cuda11.3/lib/python3.8/site-packages (from onnxruntime->unstructured-inference==0.3.2; extra == \"local-inference\"->unstructured[local-inference]) (15.0.1)\n",
      "Requirement already satisfied: pyyaml>=5.1 in /usr/local/lib/python3.8/dist-packages (from transformers->unstructured-inference==0.3.2; extra == \"local-inference\"->unstructured[local-inference]) (6.0)\n",
      "Requirement already satisfied: filelock in /home/jovyan_venv/.venv/torch1.12.1-py3.8-cuda11.3/lib/python3.8/site-packages (from transformers->unstructured-inference==0.3.2; extra == \"local-inference\"->unstructured[local-inference]) (3.11.0)\n",
      "Requirement already satisfied: tokenizers!=0.11.3,<0.14,>=0.11.1 in /home/jovyan_venv/.venv/torch1.12.1-py3.8-cuda11.3/lib/python3.8/site-packages (from transformers->unstructured-inference==0.3.2; extra == \"local-inference\"->unstructured[local-inference]) (0.13.3)\n"
     ]
    },
    {
     "name": "stdout",
     "output_type": "stream",
     "text": [
      "Requirement already satisfied: iopath in /home/jovyan_venv/.venv/torch1.12.1-py3.8-cuda11.3/lib/python3.8/site-packages (from layoutparser[layoutmodels,tesseract]->unstructured-inference==0.3.2; extra == \"local-inference\"->unstructured[local-inference]) (0.1.9)\n",
      "Requirement already satisfied: pdf2image in /home/jovyan_venv/.venv/torch1.12.1-py3.8-cuda11.3/lib/python3.8/site-packages (from layoutparser[layoutmodels,tesseract]->unstructured-inference==0.3.2; extra == \"local-inference\"->unstructured[local-inference]) (1.16.3)\n",
      "Requirement already satisfied: pdfplumber in /home/jovyan_venv/.venv/torch1.12.1-py3.8-cuda11.3/lib/python3.8/site-packages (from layoutparser[layoutmodels,tesseract]->unstructured-inference==0.3.2; extra == \"local-inference\"->unstructured[local-inference]) (0.9.0)\n",
      "Requirement already satisfied: scipy in /usr/local/lib/python3.8/dist-packages (from layoutparser[layoutmodels,tesseract]->unstructured-inference==0.3.2; extra == \"local-inference\"->unstructured[local-inference]) (1.10.1)\n",
      "Requirement already satisfied: effdet; extra == \"layoutmodels\" in /home/jovyan_venv/.venv/torch1.12.1-py3.8-cuda11.3/lib/python3.8/site-packages (from layoutparser[layoutmodels,tesseract]->unstructured-inference==0.3.2; extra == \"local-inference\"->unstructured[local-inference]) (0.3.0)\n",
      "Requirement already satisfied: torch; extra == \"layoutmodels\" in /home/jovyan_venv/.venv/torch1.12.1-py3.8-cuda11.3/lib/python3.8/site-packages (from layoutparser[layoutmodels,tesseract]->unstructured-inference==0.3.2; extra == \"local-inference\"->unstructured[local-inference]) (1.12.1+cu113)\n",
      "Requirement already satisfied: torchvision; extra == \"layoutmodels\" in /home/jovyan_venv/.venv/torch1.12.1-py3.8-cuda11.3/lib/python3.8/site-packages (from layoutparser[layoutmodels,tesseract]->unstructured-inference==0.3.2; extra == \"local-inference\"->unstructured[local-inference]) (0.13.1+cu113)\n",
      "Requirement already satisfied: pytesseract; extra == \"tesseract\" in /home/jovyan_venv/.venv/torch1.12.1-py3.8-cuda11.3/lib/python3.8/site-packages (from layoutparser[layoutmodels,tesseract]->unstructured-inference==0.3.2; extra == \"local-inference\"->unstructured[local-inference]) (0.3.10)\n",
      "Requirement already satisfied: starlette<0.27.0,>=0.26.1 in /home/jovyan_venv/.venv/torch1.12.1-py3.8-cuda11.3/lib/python3.8/site-packages (from fastapi->unstructured-inference==0.3.2; extra == \"local-inference\"->unstructured[local-inference]) (0.26.1)\n",
      "Requirement already satisfied: anyio<5.0,>=3.0 in /usr/local/lib/python3.8/dist-packages (from httpcore<0.17.0,>=0.15.0->httpx<0.24,>=0.15->argilla->unstructured[local-inference]) (3.6.2)\n",
      "Requirement already satisfied: mpmath>=0.19 in /usr/local/lib/python3.8/dist-packages (from sympy->onnxruntime->unstructured-inference==0.3.2; extra == \"local-inference\"->unstructured[local-inference]) (1.2.1)\n",
      "Requirement already satisfied: humanfriendly>=9.1 in /home/jovyan_venv/.venv/torch1.12.1-py3.8-cuda11.3/lib/python3.8/site-packages (from coloredlogs->onnxruntime->unstructured-inference==0.3.2; extra == \"local-inference\"->unstructured[local-inference]) (10.0)\n",
      "Requirement already satisfied: portalocker in /home/jovyan_venv/.venv/torch1.12.1-py3.8-cuda11.3/lib/python3.8/site-packages (from iopath->layoutparser[layoutmodels,tesseract]->unstructured-inference==0.3.2; extra == \"local-inference\"->unstructured[local-inference]) (2.7.0)\n",
      "Requirement already satisfied: Wand>=0.6.10 in /home/jovyan_venv/.venv/torch1.12.1-py3.8-cuda11.3/lib/python3.8/site-packages (from pdfplumber->layoutparser[layoutmodels,tesseract]->unstructured-inference==0.3.2; extra == \"local-inference\"->unstructured[local-inference]) (0.6.11)\n",
      "Requirement already satisfied: pdfminer.six==20221105 in /home/jovyan_venv/.venv/torch1.12.1-py3.8-cuda11.3/lib/python3.8/site-packages (from pdfplumber->layoutparser[layoutmodels,tesseract]->unstructured-inference==0.3.2; extra == \"local-inference\"->unstructured[local-inference]) (20221105)\n",
      "Requirement already satisfied: omegaconf>=2.0 in /home/jovyan_venv/.venv/torch1.12.1-py3.8-cuda11.3/lib/python3.8/site-packages (from effdet; extra == \"layoutmodels\"->layoutparser[layoutmodels,tesseract]->unstructured-inference==0.3.2; extra == \"local-inference\"->unstructured[local-inference]) (2.3.0)\n",
      "Requirement already satisfied: timm>=0.4.12 in /home/jovyan_venv/.venv/torch1.12.1-py3.8-cuda11.3/lib/python3.8/site-packages (from effdet; extra == \"layoutmodels\"->layoutparser[layoutmodels,tesseract]->unstructured-inference==0.3.2; extra == \"local-inference\"->unstructured[local-inference]) (0.6.13)\n",
      "Requirement already satisfied: pycocotools>=2.0.2 in /home/jovyan_venv/.venv/torch1.12.1-py3.8-cuda11.3/lib/python3.8/site-packages (from effdet; extra == \"layoutmodels\"->layoutparser[layoutmodels,tesseract]->unstructured-inference==0.3.2; extra == \"local-inference\"->unstructured[local-inference]) (2.0.6)\n",
      "Requirement already satisfied: cryptography>=36.0.0 in /home/jovyan_venv/.venv/torch1.12.1-py3.8-cuda11.3/lib/python3.8/site-packages (from pdfminer.six==20221105->pdfplumber->layoutparser[layoutmodels,tesseract]->unstructured-inference==0.3.2; extra == \"local-inference\"->unstructured[local-inference]) (40.0.2)\n",
      "Requirement already satisfied: antlr4-python3-runtime==4.9.* in /home/jovyan_venv/.venv/torch1.12.1-py3.8-cuda11.3/lib/python3.8/site-packages (from omegaconf>=2.0->effdet; extra == \"layoutmodels\"->layoutparser[layoutmodels,tesseract]->unstructured-inference==0.3.2; extra == \"local-inference\"->unstructured[local-inference]) (4.9.3)\n",
      "Requirement already satisfied: matplotlib>=2.1.0 in /usr/local/lib/python3.8/dist-packages (from pycocotools>=2.0.2->effdet; extra == \"layoutmodels\"->layoutparser[layoutmodels,tesseract]->unstructured-inference==0.3.2; extra == \"local-inference\"->unstructured[local-inference]) (3.6.3)\n",
      "Requirement already satisfied: cffi>=1.12 in /usr/local/lib/python3.8/dist-packages (from cryptography>=36.0.0->pdfminer.six==20221105->pdfplumber->layoutparser[layoutmodels,tesseract]->unstructured-inference==0.3.2; extra == \"local-inference\"->unstructured[local-inference]) (1.15.1)\n",
      "Requirement already satisfied: cycler>=0.10 in /usr/local/lib/python3.8/dist-packages (from matplotlib>=2.1.0->pycocotools>=2.0.2->effdet; extra == \"layoutmodels\"->layoutparser[layoutmodels,tesseract]->unstructured-inference==0.3.2; extra == \"local-inference\"->unstructured[local-inference]) (0.11.0)\n",
      "Requirement already satisfied: pyparsing>=2.2.1 in /usr/local/lib/python3.8/dist-packages (from matplotlib>=2.1.0->pycocotools>=2.0.2->effdet; extra == \"layoutmodels\"->layoutparser[layoutmodels,tesseract]->unstructured-inference==0.3.2; extra == \"local-inference\"->unstructured[local-inference]) (3.0.9)\n",
      "Requirement already satisfied: contourpy>=1.0.1 in /usr/local/lib/python3.8/dist-packages (from matplotlib>=2.1.0->pycocotools>=2.0.2->effdet; extra == \"layoutmodels\"->layoutparser[layoutmodels,tesseract]->unstructured-inference==0.3.2; extra == \"local-inference\"->unstructured[local-inference]) (1.0.7)\n",
      "Requirement already satisfied: fonttools>=4.22.0 in /usr/local/lib/python3.8/dist-packages (from matplotlib>=2.1.0->pycocotools>=2.0.2->effdet; extra == \"layoutmodels\"->layoutparser[layoutmodels,tesseract]->unstructured-inference==0.3.2; extra == \"local-inference\"->unstructured[local-inference]) (4.38.0)\n",
      "Requirement already satisfied: kiwisolver>=1.0.1 in /usr/local/lib/python3.8/dist-packages (from matplotlib>=2.1.0->pycocotools>=2.0.2->effdet; extra == \"layoutmodels\"->layoutparser[layoutmodels,tesseract]->unstructured-inference==0.3.2; extra == \"local-inference\"->unstructured[local-inference]) (1.4.4)\n",
      "Requirement already satisfied: pycparser in /usr/local/lib/python3.8/dist-packages (from cffi>=1.12->cryptography>=36.0.0->pdfminer.six==20221105->pdfplumber->layoutparser[layoutmodels,tesseract]->unstructured-inference==0.3.2; extra == \"local-inference\"->unstructured[local-inference]) (2.21)\n"
     ]
    }
   ],
   "source": [
    "!pip install -q unstructured[local-inference]"
   ]
  },
  {
   "cell_type": "code",
   "execution_count": 10,
   "id": "80b57ebf",
   "metadata": {},
   "outputs": [
    {
     "name": "stdout",
     "output_type": "stream",
     "text": [
      "Collecting git+https://github.com/facebookresearch/detectron2.git\n",
      "  Cloning https://github.com/facebookresearch/detectron2.git to /tmp/pip-req-build-ot09z5vg\n",
      "  Running command git clone -q https://github.com/facebookresearch/detectron2.git /tmp/pip-req-build-ot09z5vg\n",
      "Requirement already satisfied (use --upgrade to upgrade): detectron2==0.6 from git+https://github.com/facebookresearch/detectron2.git in /home/jovyan_venv/.venv/torch1.12.1-py3.8-cuda11.3/lib/python3.8/site-packages\n",
      "Requirement already satisfied: Pillow>=7.1 in /usr/local/lib/python3.8/dist-packages (from detectron2==0.6) (9.4.0)\n",
      "Requirement already satisfied: black in /home/jovyan_venv/.venv/torch1.12.1-py3.8-cuda11.3/lib/python3.8/site-packages (from detectron2==0.6) (23.3.0)\n",
      "Requirement already satisfied: cloudpickle in /usr/local/lib/python3.8/dist-packages (from detectron2==0.6) (2.2.1)\n",
      "Requirement already satisfied: fvcore<0.1.6,>=0.1.5 in /home/jovyan_venv/.venv/torch1.12.1-py3.8-cuda11.3/lib/python3.8/site-packages (from detectron2==0.6) (0.1.5.post20221221)\n",
      "Requirement already satisfied: hydra-core>=1.1 in /home/jovyan_venv/.venv/torch1.12.1-py3.8-cuda11.3/lib/python3.8/site-packages (from detectron2==0.6) (1.3.2)\n",
      "Requirement already satisfied: iopath<0.1.10,>=0.1.7 in /home/jovyan_venv/.venv/torch1.12.1-py3.8-cuda11.3/lib/python3.8/site-packages (from detectron2==0.6) (0.1.9)\n",
      "Requirement already satisfied: matplotlib in /usr/local/lib/python3.8/dist-packages (from detectron2==0.6) (3.6.3)\n",
      "Requirement already satisfied: omegaconf>=2.1 in /home/jovyan_venv/.venv/torch1.12.1-py3.8-cuda11.3/lib/python3.8/site-packages (from detectron2==0.6) (2.3.0)\n",
      "Requirement already satisfied: packaging in /usr/local/lib/python3.8/dist-packages (from detectron2==0.6) (23.0)\n",
      "Requirement already satisfied: pycocotools>=2.0.2 in /home/jovyan_venv/.venv/torch1.12.1-py3.8-cuda11.3/lib/python3.8/site-packages (from detectron2==0.6) (2.0.6)\n",
      "Requirement already satisfied: tabulate in /home/jovyan_venv/.venv/torch1.12.1-py3.8-cuda11.3/lib/python3.8/site-packages (from detectron2==0.6) (0.9.0)\n",
      "Requirement already satisfied: tensorboard in /home/jovyan_venv/.venv/torch1.12.1-py3.8-cuda11.3/lib/python3.8/site-packages (from detectron2==0.6) (2.7.0)\n",
      "Requirement already satisfied: termcolor>=1.1 in /home/jovyan_venv/.venv/torch1.12.1-py3.8-cuda11.3/lib/python3.8/site-packages (from detectron2==0.6) (2.2.0)\n",
      "Requirement already satisfied: tqdm>4.29.0 in /usr/local/lib/python3.8/dist-packages (from detectron2==0.6) (4.65.0)\n",
      "Requirement already satisfied: yacs>=0.1.8 in /home/jovyan_venv/.venv/torch1.12.1-py3.8-cuda11.3/lib/python3.8/site-packages (from detectron2==0.6) (0.1.8)\n",
      "Requirement already satisfied: click>=8.0.0 in /usr/local/lib/python3.8/dist-packages (from black->detectron2==0.6) (8.0.0)\n",
      "Requirement already satisfied: platformdirs>=2 in /usr/local/lib/python3.8/dist-packages (from black->detectron2==0.6) (3.0.0)\n",
      "Requirement already satisfied: tomli>=1.1.0; python_version < \"3.11\" in /usr/local/lib/python3.8/dist-packages (from black->detectron2==0.6) (2.0.1)\n",
      "Requirement already satisfied: pathspec>=0.9.0 in /home/jovyan_venv/.venv/torch1.12.1-py3.8-cuda11.3/lib/python3.8/site-packages (from black->detectron2==0.6) (0.11.1)\n",
      "Requirement already satisfied: typing-extensions>=3.10.0.0; python_version < \"3.10\" in /home/jovyan_venv/.venv/torch1.12.1-py3.8-cuda11.3/lib/python3.8/site-packages (from black->detectron2==0.6) (4.5.0)\n",
      "Requirement already satisfied: mypy-extensions>=0.4.3 in /home/jovyan_venv/.venv/torch1.12.1-py3.8-cuda11.3/lib/python3.8/site-packages (from black->detectron2==0.6) (1.0.0)\n",
      "Requirement already satisfied: numpy in /home/jovyan_venv/.venv/torch1.12.1-py3.8-cuda11.3/lib/python3.8/site-packages (from fvcore<0.1.6,>=0.1.5->detectron2==0.6) (1.23.5)\n",
      "Requirement already satisfied: pyyaml>=5.1 in /usr/local/lib/python3.8/dist-packages (from fvcore<0.1.6,>=0.1.5->detectron2==0.6) (6.0)\n",
      "Requirement already satisfied: antlr4-python3-runtime==4.9.* in /home/jovyan_venv/.venv/torch1.12.1-py3.8-cuda11.3/lib/python3.8/site-packages (from hydra-core>=1.1->detectron2==0.6) (4.9.3)\n",
      "Requirement already satisfied: importlib-resources; python_version < \"3.9\" in /usr/local/lib/python3.8/dist-packages (from hydra-core>=1.1->detectron2==0.6) (5.12.0)\n",
      "Requirement already satisfied: portalocker in /home/jovyan_venv/.venv/torch1.12.1-py3.8-cuda11.3/lib/python3.8/site-packages (from iopath<0.1.10,>=0.1.7->detectron2==0.6) (2.7.0)\n",
      "Requirement already satisfied: kiwisolver>=1.0.1 in /usr/local/lib/python3.8/dist-packages (from matplotlib->detectron2==0.6) (1.4.4)\n",
      "Requirement already satisfied: contourpy>=1.0.1 in /usr/local/lib/python3.8/dist-packages (from matplotlib->detectron2==0.6) (1.0.7)\n",
      "Requirement already satisfied: pyparsing>=2.2.1 in /usr/local/lib/python3.8/dist-packages (from matplotlib->detectron2==0.6) (3.0.9)\n",
      "Requirement already satisfied: fonttools>=4.22.0 in /usr/local/lib/python3.8/dist-packages (from matplotlib->detectron2==0.6) (4.38.0)\n",
      "Requirement already satisfied: python-dateutil>=2.7 in /usr/local/lib/python3.8/dist-packages (from matplotlib->detectron2==0.6) (2.8.2)\n",
      "Requirement already satisfied: cycler>=0.10 in /usr/local/lib/python3.8/dist-packages (from matplotlib->detectron2==0.6) (0.11.0)\n",
      "Requirement already satisfied: absl-py>=0.4 in /home/jovyan_venv/.venv/torch1.12.1-py3.8-cuda11.3/lib/python3.8/site-packages (from tensorboard->detectron2==0.6) (1.4.0)\n",
      "Requirement already satisfied: tensorboard-data-server<0.7.0,>=0.6.0 in /home/jovyan_venv/.venv/torch1.12.1-py3.8-cuda11.3/lib/python3.8/site-packages (from tensorboard->detectron2==0.6) (0.6.1)\n",
      "Requirement already satisfied: google-auth<3,>=1.6.3 in /home/jovyan_venv/.venv/torch1.12.1-py3.8-cuda11.3/lib/python3.8/site-packages (from tensorboard->detectron2==0.6) (2.17.2)\n",
      "Requirement already satisfied: protobuf>=3.6.0 in /usr/local/lib/python3.8/dist-packages (from tensorboard->detectron2==0.6) (3.20.3)\n",
      "Requirement already satisfied: markdown>=2.6.8 in /usr/local/lib/python3.8/dist-packages (from tensorboard->detectron2==0.6) (3.3.7)\n",
      "Requirement already satisfied: tensorboard-plugin-wit>=1.6.0 in /home/jovyan_venv/.venv/torch1.12.1-py3.8-cuda11.3/lib/python3.8/site-packages (from tensorboard->detectron2==0.6) (1.8.1)\n",
      "Requirement already satisfied: google-auth-oauthlib<0.5,>=0.4.1 in /home/jovyan_venv/.venv/torch1.12.1-py3.8-cuda11.3/lib/python3.8/site-packages (from tensorboard->detectron2==0.6) (0.4.6)\n",
      "Requirement already satisfied: requests<3,>=2.21.0 in /usr/local/lib/python3.8/dist-packages (from tensorboard->detectron2==0.6) (2.28.2)\n",
      "Requirement already satisfied: grpcio>=1.24.3 in /usr/local/lib/python3.8/dist-packages (from tensorboard->detectron2==0.6) (1.51.1)\n",
      "Requirement already satisfied: wheel>=0.26 in /usr/local/lib/python3.8/dist-packages (from tensorboard->detectron2==0.6) (0.38.4)\n",
      "Requirement already satisfied: werkzeug>=0.11.15 in /usr/local/lib/python3.8/dist-packages (from tensorboard->detectron2==0.6) (1.0.0)\n",
      "Requirement already satisfied: setuptools>=41.0.0 in /home/jovyan_venv/.venv/torch1.12.1-py3.8-cuda11.3/lib/python3.8/site-packages (from tensorboard->detectron2==0.6) (44.0.0)\n",
      "Requirement already satisfied: zipp>=3.1.0; python_version < \"3.10\" in /usr/local/lib/python3.8/dist-packages (from importlib-resources; python_version < \"3.9\"->hydra-core>=1.1->detectron2==0.6) (3.14.0)\n",
      "Requirement already satisfied: six>=1.5 in /usr/local/lib/python3.8/dist-packages (from python-dateutil>=2.7->matplotlib->detectron2==0.6) (1.16.0)\n",
      "Requirement already satisfied: pyasn1-modules>=0.2.1 in /home/jovyan_venv/.venv/torch1.12.1-py3.8-cuda11.3/lib/python3.8/site-packages (from google-auth<3,>=1.6.3->tensorboard->detectron2==0.6) (0.3.0rc1)\n",
      "Requirement already satisfied: rsa<5,>=3.1.4; python_version >= \"3.6\" in /home/jovyan_venv/.venv/torch1.12.1-py3.8-cuda11.3/lib/python3.8/site-packages (from google-auth<3,>=1.6.3->tensorboard->detectron2==0.6) (4.9)\n",
      "Requirement already satisfied: cachetools<6.0,>=2.0.0 in /usr/local/lib/python3.8/dist-packages (from google-auth<3,>=1.6.3->tensorboard->detectron2==0.6) (5.2.0)\n",
      "Requirement already satisfied: importlib-metadata>=4.4; python_version < \"3.10\" in /usr/local/lib/python3.8/dist-packages (from markdown>=2.6.8->tensorboard->detectron2==0.6) (6.0.0)\n"
     ]
    },
    {
     "name": "stdout",
     "output_type": "stream",
     "text": [
      "Requirement already satisfied: requests-oauthlib>=0.7.0 in /home/jovyan_venv/.venv/torch1.12.1-py3.8-cuda11.3/lib/python3.8/site-packages (from google-auth-oauthlib<0.5,>=0.4.1->tensorboard->detectron2==0.6) (1.3.1)\n",
      "Requirement already satisfied: urllib3<1.27,>=1.21.1 in /usr/local/lib/python3.8/dist-packages (from requests<3,>=2.21.0->tensorboard->detectron2==0.6) (1.26.14)\n",
      "Requirement already satisfied: idna<4,>=2.5 in /usr/local/lib/python3.8/dist-packages (from requests<3,>=2.21.0->tensorboard->detectron2==0.6) (3.4)\n",
      "Requirement already satisfied: charset-normalizer<4,>=2 in /usr/local/lib/python3.8/dist-packages (from requests<3,>=2.21.0->tensorboard->detectron2==0.6) (3.0.1)\n",
      "Requirement already satisfied: certifi>=2017.4.17 in /usr/local/lib/python3.8/dist-packages (from requests<3,>=2.21.0->tensorboard->detectron2==0.6) (2022.12.7)\n",
      "Requirement already satisfied: pyasn1<0.6.0,>=0.4.6 in /home/jovyan_venv/.venv/torch1.12.1-py3.8-cuda11.3/lib/python3.8/site-packages (from pyasn1-modules>=0.2.1->google-auth<3,>=1.6.3->tensorboard->detectron2==0.6) (0.5.0rc2)\n",
      "Requirement already satisfied: oauthlib>=3.0.0 in /home/jovyan_venv/.venv/torch1.12.1-py3.8-cuda11.3/lib/python3.8/site-packages (from requests-oauthlib>=0.7.0->google-auth-oauthlib<0.5,>=0.4.1->tensorboard->detectron2==0.6) (3.2.2)\n",
      "Building wheels for collected packages: detectron2\n",
      "  Building wheel for detectron2 (setup.py) ... \u001b[?25ldone\n",
      "\u001b[?25h  Created wheel for detectron2: filename=detectron2-0.6-cp38-cp38-linux_x86_64.whl size=6095013 sha256=42ebcaa7c5b34ed6773462ce34fc6870aa88d31bf067cf9554395a687850fd77\n",
      "  Stored in directory: /tmp/pip-ephem-wheel-cache-3zab869x/wheels/19/ac/65/e48e5e4ec2702274d927c5a6efb75709b24014371d3bb778f2\n",
      "Successfully built detectron2\n"
     ]
    }
   ],
   "source": [
    "!python -m pip install 'git+https://github.com/facebookresearch/detectron2.git'"
   ]
  },
  {
   "cell_type": "code",
   "execution_count": 11,
   "id": "89dce12a",
   "metadata": {},
   "outputs": [
    {
     "name": "stdout",
     "output_type": "stream",
     "text": [
      "Requirement already satisfied: tika in /home/jovyan_venv/.venv/torch1.12.1-py3.8-cuda11.3/lib/python3.8/site-packages (2.6.0)\r\n",
      "Requirement already satisfied: setuptools in /home/jovyan_venv/.venv/torch1.12.1-py3.8-cuda11.3/lib/python3.8/site-packages (from tika) (44.0.0)\r\n",
      "Requirement already satisfied: requests in /usr/local/lib/python3.8/dist-packages (from tika) (2.28.2)\r\n",
      "Requirement already satisfied: idna<4,>=2.5 in /usr/local/lib/python3.8/dist-packages (from requests->tika) (3.4)\r\n",
      "Requirement already satisfied: certifi>=2017.4.17 in /usr/local/lib/python3.8/dist-packages (from requests->tika) (2022.12.7)\r\n",
      "Requirement already satisfied: charset-normalizer<4,>=2 in /usr/local/lib/python3.8/dist-packages (from requests->tika) (3.0.1)\r\n",
      "Requirement already satisfied: urllib3<1.27,>=1.21.1 in /usr/local/lib/python3.8/dist-packages (from requests->tika) (1.26.14)\r\n"
     ]
    }
   ],
   "source": [
    "!pip install tika"
   ]
  },
  {
   "cell_type": "markdown",
   "id": "78b06fb1",
   "metadata": {},
   "source": [
    "#### install dependencies ####\n",
    "- sudo apt-get update\n",
    "- sudo apt-get install poppler-utils\n",
    "- sudo apt install tesseract-ocr\n",
    "- sudo apt install libtesseract-dev"
   ]
  },
  {
   "cell_type": "markdown",
   "id": "5895bb53",
   "metadata": {},
   "source": [
    "#### Load Your Data ####"
   ]
  },
  {
   "cell_type": "code",
   "execution_count": 12,
   "id": "b905257d",
   "metadata": {},
   "outputs": [],
   "source": [
    "from tika import parser\n",
    "\n",
    "raw = parser.from_file(\"./data/indsec.pdf\")\n",
    "content = raw['content']\n",
    "tex = content.strip()\n"
   ]
  },
  {
   "cell_type": "code",
   "execution_count": 3,
   "id": "d64b2135",
   "metadata": {},
   "outputs": [],
   "source": [
    "#loader = UnstructuredPDFLoader(\"./data/indsec.pdf\")"
   ]
  },
  {
   "cell_type": "code",
   "execution_count": 4,
   "id": "d110f0f2",
   "metadata": {},
   "outputs": [
    {
     "ename": "SyntaxError",
     "evalue": "EOF while scanning triple-quoted string literal (3784538299.py, line 8)",
     "output_type": "error",
     "traceback": [
      "\u001b[0;36m  Cell \u001b[0;32mIn[4], line 8\u001b[0;36m\u001b[0m\n\u001b[0;31m    print('Time elapsed (hh:mm:ss.ms) {}'.format(elapsed))\u001b[0m\n\u001b[0m                                                          \n^\u001b[0m\n\u001b[0;31mSyntaxError\u001b[0m\u001b[0;31m:\u001b[0m EOF while scanning triple-quoted string literal\n"
     ]
    }
   ],
   "source": [
    "\"\"\"\n",
    "from datetime import datetime \n",
    "start_time = datetime.now()\n",
    "\n",
    "data = loader.load()\n",
    "\n",
    "elapsed = datetime.now() - start_time\n",
    "print('Time elapsed (hh:mm:ss.ms) {}'.format(elapsed))"
   ]
  },
  {
   "cell_type": "code",
   "execution_count": 13,
   "id": "23e05acf",
   "metadata": {},
   "outputs": [
    {
     "name": "stdout",
     "output_type": "stream",
     "text": [
      "type of data: <class 'str'>\n"
     ]
    }
   ],
   "source": [
    "print(\"type of data:\", type(tex))"
   ]
  },
  {
   "cell_type": "code",
   "execution_count": 14,
   "id": "3bcf2184",
   "metadata": {},
   "outputs": [
    {
     "data": {
      "text/plain": [
       "659544"
      ]
     },
     "execution_count": 14,
     "metadata": {},
     "output_type": "execute_result"
    }
   ],
   "source": [
    "len(tex)"
   ]
  },
  {
   "cell_type": "code",
   "execution_count": 15,
   "id": "0d447935",
   "metadata": {},
   "outputs": [
    {
     "data": {
      "text/plain": [
       "92.01227678571429"
      ]
     },
     "execution_count": 15,
     "metadata": {},
     "output_type": "execute_result"
    }
   ],
   "source": [
    "659544 / 7168"
   ]
  },
  {
   "cell_type": "markdown",
   "id": "2dc78cf0",
   "metadata": {},
   "source": [
    "# def num_tokens_from_string(string: str, encoding_name: str) -> int:\n",
    "    \"\"\"Returns the number of tokens in a text string.\"\"\"\n",
    "    encoding = tiktoken.get_encoding(encoding_name)\n",
    "    num_tokens = len(encoding.encode(string))\n",
    "    return num_tokens"
   ]
  },
  {
   "cell_type": "code",
   "execution_count": 16,
   "id": "2b8f29b9",
   "metadata": {},
   "outputs": [],
   "source": [
    "import tiktoken \n",
    "def num_tokens_from_string(string: str, encoding_name: str) -> int:\n",
    "    \"\"\"Returns the number of tokens in a text string\"\"\"\n",
    "    encoding = tiktoken.get_encoding(encoding_name)\n",
    "    num_tokens = len(encoding.encode(string))\n",
    "    return num_tokens    "
   ]
  },
  {
   "cell_type": "code",
   "execution_count": 17,
   "id": "bece0199",
   "metadata": {},
   "outputs": [
    {
     "name": "stdout",
     "output_type": "stream",
     "text": [
      "532310\n"
     ]
    }
   ],
   "source": [
    "# Return the token number from string\n",
    "print(num_tokens_from_string(tex, 'cl100k_base'))   # 659544 string -> 532310 token"
   ]
  },
  {
   "cell_type": "markdown",
   "id": "7a0f7670",
   "metadata": {},
   "source": [
    "#### how many 7168 sized tokens do we have from texts token ####"
   ]
  },
  {
   "cell_type": "markdown",
   "id": "c5863f17",
   "metadata": {},
   "source": [
    "Warning: although .decode() can be applied to single tokens, beware that it can be lossy for tokens that aren't on utf-8 boundaries.\n",
    "\n",
    "For single tokens, .decode_single_token_bytes() safely converts a single integer token to the bytes it represents."
   ]
  },
  {
   "cell_type": "markdown",
   "id": "f97db403",
   "metadata": {},
   "source": [
    "#### 6. Counting tokens for chat API calls\n",
    "- ChatGPT models like gpt-3.5-turbo and gpt-4 use tokens in the same way as older completions models, but because of their message-based formatting, it's more difficult to count how many tokens will be used by a conversation.\n",
    "\n",
    "- Below is an example function for counting tokens for messages passed to gpt-3.5-turbo-0301 or gpt-4-0314.\n",
    "\n",
    "- Note that the exact way that tokens are counted from messages may change from model to model. Consider the counts from the function below an estimate, not a timeless guarantee"
   ]
  },
  {
   "cell_type": "markdown",
   "id": "8ce3fb87",
   "metadata": {},
   "source": [
    "#### Importing libraries and selecting moidels ####"
   ]
  },
  {
   "cell_type": "code",
   "execution_count": 1,
   "id": "915b35c9",
   "metadata": {},
   "outputs": [
    {
     "ename": "ModuleNotFoundError",
     "evalue": "No module named 'openai'",
     "output_type": "error",
     "traceback": [
      "\u001b[0;31m---------------------------------------------------------------------------\u001b[0m",
      "\u001b[0;31mModuleNotFoundError\u001b[0m                       Traceback (most recent call last)",
      "Cell \u001b[0;32mIn [1], line 4\u001b[0m\n\u001b[1;32m      2\u001b[0m \u001b[38;5;28;01mimport\u001b[39;00m \u001b[38;5;21;01mos\u001b[39;00m\n\u001b[1;32m      3\u001b[0m \u001b[38;5;28;01mimport\u001b[39;00m \u001b[38;5;21;01mast\u001b[39;00m  \u001b[38;5;66;03m# for converting embeddings saved as strings back to arrays\u001b[39;00m\n\u001b[0;32m----> 4\u001b[0m \u001b[38;5;28;01mimport\u001b[39;00m \u001b[38;5;21;01mopenai\u001b[39;00m  \u001b[38;5;66;03m# for calling the OpenAI API\u001b[39;00m\n\u001b[1;32m      5\u001b[0m \u001b[38;5;28;01mimport\u001b[39;00m \u001b[38;5;21;01mpandas\u001b[39;00m \u001b[38;5;28;01mas\u001b[39;00m \u001b[38;5;21;01mpd\u001b[39;00m  \u001b[38;5;66;03m# for storing text and embeddings data\u001b[39;00m\n\u001b[1;32m      6\u001b[0m \u001b[38;5;28;01mimport\u001b[39;00m \u001b[38;5;21;01mtiktoken\u001b[39;00m  \u001b[38;5;66;03m# for counting tokens\u001b[39;00m\n",
      "\u001b[0;31mModuleNotFoundError\u001b[0m: No module named 'openai'"
     ]
    }
   ],
   "source": [
    "# imports\n",
    "import os\n",
    "import ast  # for converting embeddings saved as strings back to arrays\n",
    "import openai  # for calling the OpenAI API\n",
    "import pandas as pd  # for storing text and embeddings data\n",
    "import tiktoken  # for counting tokens\n",
    "from tenacity import retry, wait_random_exponential, stop_after_attempt, retry_if_not_exception_type\n",
    "from scipy import spatial  # for calculating vector similarities for search\n",
    "\n",
    "\n",
    "\n",
    "# models\n",
    "EMBEDDING_MODEL = \"text-embedding-ada-002\"\n",
    "EMBEDDING_CTX_LENGTH = 1000\n",
    "EMBEDDING_ENCODING = 'cl100k_base'\n",
    "openai.api_key = os.environ[\"OPENAI_API_KEY\"]\n"
   ]
  },
  {
   "cell_type": "markdown",
   "id": "7b0aae89",
   "metadata": {},
   "source": [
    "#### Chunking the input text ####\n",
    "- Divide the input text into chunks and embed each chunk individually to cope with 8191 length limit"
   ]
  },
  {
   "cell_type": "code",
   "execution_count": 19,
   "id": "a7ac4ecb",
   "metadata": {},
   "outputs": [],
   "source": [
    "from itertools import islice\n",
    "\n",
    "def batched(iterable, n):\n",
    "    \"\"\"Batch data into tuples of length n. The last batch may be shorter.\"\"\"\n",
    "    # batched('ABCDEFG', 3) --> ABC DEF G\n",
    "    if n < 1:\n",
    "        raise ValueError('n must be at least one')\n",
    "    it = iter(iterable)\n",
    "    if str(it) == \"\\n\":\n",
    "        it = it.replace(\"\\n\", \" \")\n",
    "    while (batch := tuple(islice(it, n))):\n",
    "        yield batch"
   ]
  },
  {
   "cell_type": "markdown",
   "id": "717dcb4a",
   "metadata": {},
   "source": [
    "#### Define a function that encodes a string into tokens and breaks it up into chunks ####\n",
    "- In this case, chunk consists of 8191 tokens which is a maximum token size of \"text-embedding-ada-002\""
   ]
  },
  {
   "cell_type": "code",
   "execution_count": 20,
   "id": "c16737f5",
   "metadata": {},
   "outputs": [],
   "source": [
    "encoding_name = 'cl100k_base'\n",
    "def chunked_tokens(text, encoding_name, chunk_length):\n",
    "    encoding = tiktoken.get_encoding(encoding_name)\n",
    "    tokens = encoding.encode(text)\n",
    "    chunks_iterator = batched(tokens, chunk_length)  # breaks tokens up into 2000 sized chunked_iterator tokens\n",
    "    yield from chunks_iterator"
   ]
  },
  {
   "cell_type": "code",
   "execution_count": null,
   "id": "86549441",
   "metadata": {},
   "outputs": [],
   "source": []
  },
  {
   "cell_type": "code",
   "execution_count": 21,
   "id": "0fb6c66d",
   "metadata": {},
   "outputs": [],
   "source": [
    "def get_embedding(text, model=\"text-embedding-ada-002\"):\n",
    "#    text = text.replace(\"\\n\", \" \")\n",
    "    return openai.Embedding.create(input = [text], model=model)['data'][0]['embedding']"
   ]
  },
  {
   "cell_type": "markdown",
   "id": "e20dcb4f",
   "metadata": {},
   "source": [
    "#### the average flag can be set to True to return the weighted average of the chunk embeddings, or False to simply return the unmodified list of chunk embeddings ####"
   ]
  },
  {
   "cell_type": "code",
   "execution_count": 22,
   "id": "0c967eac",
   "metadata": {},
   "outputs": [],
   "source": [
    "import numpy as np\n",
    "\n",
    "def len_safe_get_embedding(text, model=EMBEDDING_MODEL, max_tokens=EMBEDDING_CTX_LENGTH, encoding_name=EMBEDDING_ENCODING, average=True):\n",
    "    chunk_embeddings = []\n",
    "    chunk_lens = []\n",
    "    for chunk in chunked_tokens(text, encoding_name=encoding_name, chunk_length=max_tokens):\n",
    "        chunk_embeddings.append(get_embedding(chunk, model=model))\n",
    "        chunk_lens.append(len(chunk))\n",
    "\n",
    "    if average:\n",
    "        chunk_embeddings = np.average(chunk_embeddings, axis=0, weights=chunk_lens)\n",
    "        chunk_embeddings = chunk_embeddings / np.linalg.norm(chunk_embeddings)  # normalizes length to 1\n",
    "        chunk_embeddings = chunk_embeddings.tolist()\n",
    "    return chunk_embeddings"
   ]
  },
  {
   "cell_type": "code",
   "execution_count": 23,
   "id": "8e776fdc",
   "metadata": {},
   "outputs": [
    {
     "name": "stdout",
     "output_type": "stream",
     "text": [
      "Setting average=False gives us 75 embedding vectors, one for each of the chunks.\n"
     ]
    }
   ],
   "source": [
    "import os\n",
    "\n",
    "\n",
    "openai.api_key = os.get_env(OPENAI_API_KEY)\n",
    "#average_embedding_vector = len_safe_get_embedding(str(data), EMBEDDING_MODEL, EMBEDDING_CTX_LENGTH, EMBEDDING_ENCODING, average=True)\n",
    "chunks_embedding_vectors = len_safe_get_embedding(tex, average=False)\n",
    "\n",
    "#print(f\"Setting average=True gives us a single {len(average_embedding_vector)}-dimensional embedding vector for our long text.\")\n",
    "print(f\"Setting average=False gives us {len(chunks_embedding_vectors)} embedding vectors, one for each of the chunks.\")"
   ]
  },
  {
   "cell_type": "code",
   "execution_count": 24,
   "id": "e160e1f5",
   "metadata": {},
   "outputs": [
    {
     "data": {
      "text/plain": [
       "75"
      ]
     },
     "execution_count": 24,
     "metadata": {},
     "output_type": "execute_result"
    }
   ],
   "source": [
    "len(chunks_embedding_vectors)"
   ]
  },
  {
   "cell_type": "code",
   "execution_count": 25,
   "id": "e6ce0e70",
   "metadata": {},
   "outputs": [
    {
     "data": {
      "text/plain": [
       "'발  간  등  록  번  호\\n\\n산업안전보건법령(20230105)\\n\\n2023. 1. 5\\n\\n법제처 국가법령정보센터\\nKorea Law Service Center\\n\\n\\n\\n법제처                                                            1                                                       국가법령정보센터\\n\\n목       차\\n \\n\\n1. 산업안전보건법\\n\\n2. 산업안전보건법 시행령\\n\\n3. 산업안전보건법 시행규칙\\n\\n4. 산업안전보건기준에 관한 규칙\\n\\n\\n\\n법제처                                                            2                                                       국가법령정보센터\\n\\n「산업안전보건법」\\n\\n \\n\\n            제1장 총칙\\n \\n\\n제1조(목적) 이 법은 산업 안전 및 보건에 관한 기준을 확립하고 그 책임의 소재를 명확하게 하\\n\\n여 산업재해를 예방하고 쾌적한 작업환경을 조성함으로써 노무를 제공하는 사람의 안전 및 보\\n\\n건을 유지ㆍ증진함을 목적으로 한다. <개정 2020. 5. 26.>\\n \\n\\n제2조(정의) 이 법에서 사용하는 용어의 뜻은 다음과 같다. <개정 2020. 5. 26.>\\n\\n1. “산업재해”란 노무를 제공하는 사람이 업무에 관계되는 건설물ㆍ설비ㆍ원재료ㆍ가스ㆍ\\n\\n증기ㆍ분진 등에 의하거나 작업 또는 그 밖의 업무로 인하여 사망 또는 부상하거나 질병에\\n\\n걸리는 것을 말한다.\\n\\n2. “중대재해”란 산업재해 중 사망 등 재해 정도가 심하거나 다수의 재해자가 발생한 경우로\\n\\n서 고용노동부령으로 정하는 재해를 말한다.\\n\\n3. “근로자”란 「근로기준법」 제2조제1항제1호에 따른 근로자를 말한다.\\n\\n4. “사업주”란 근로자를 사용하여 사업을 하는 자를 말한다.\\n\\n5. “근로자대표”란 근로자의 과반수로 조직된 노동조합이 있는 경우에는 그 노동조합을, 근\\n\\n로자의 과반수로 조직된 노'"
      ]
     },
     "execution_count": 25,
     "metadata": {},
     "output_type": "execute_result"
    }
   ],
   "source": [
    "tex[0:1000]"
   ]
  },
  {
   "cell_type": "markdown",
   "id": "85e54232",
   "metadata": {},
   "source": [
    "#### make 'id', 'embeddings' pair dataframe  ####"
   ]
  },
  {
   "cell_type": "code",
   "execution_count": 27,
   "id": "9c286269",
   "metadata": {},
   "outputs": [
    {
     "data": {
      "application/vnd.jupyter.widget-view+json": {
       "model_id": "a39fec6a0aed4c0291573f2d7cb3c2c0",
       "version_major": 2,
       "version_minor": 0
      },
      "text/plain": [
       "  0%|          | 0/93 [00:00<?, ?it/s]"
      ]
     },
     "metadata": {},
     "output_type": "display_data"
    },
    {
     "name": "stdout",
     "output_type": "stream",
     "text": [
      "Time elapsed (hh:mm:ss.ms) 0:00:47.358232\n"
     ]
    },
    {
     "data": {
      "text/html": [
       "<div>\n",
       "<style scoped>\n",
       "    .dataframe tbody tr th:only-of-type {\n",
       "        vertical-align: middle;\n",
       "    }\n",
       "\n",
       "    .dataframe tbody tr th {\n",
       "        vertical-align: top;\n",
       "    }\n",
       "\n",
       "    .dataframe thead th {\n",
       "        text-align: right;\n",
       "    }\n",
       "</style>\n",
       "<table border=\"1\" class=\"dataframe\">\n",
       "  <thead>\n",
       "    <tr style=\"text-align: right;\">\n",
       "      <th></th>\n",
       "      <th>text</th>\n",
       "      <th>embedding</th>\n",
       "      <th>id</th>\n",
       "    </tr>\n",
       "  </thead>\n",
       "  <tbody>\n",
       "    <tr>\n",
       "      <th>0</th>\n",
       "      <td>발  간  등  록  번  호\\n\\n산업안전보건법령(20230105)\\n\\n2023...</td>\n",
       "      <td>[-0.00443989597260952, -0.0021884473972022533,...</td>\n",
       "      <td>0</td>\n",
       "    </tr>\n",
       "    <tr>\n",
       "      <th>1</th>\n",
       "      <td>여 사업주에게 지도ㆍ권고할 수\\n\\n있다.\\n\\n1. 제5조제2항 각 호의 어느 하...</td>\n",
       "      <td>[-0.0075674839317798615, -0.02437097765505314,...</td>\n",
       "      <td>1</td>\n",
       "    </tr>\n",
       "    <tr>\n",
       "      <th>2</th>\n",
       "      <td>작업에 채용하거나 그 작업으로 작업내용을 변경할\\n\\n때에는 제2항에 따른 안전보...</td>\n",
       "      <td>[-0.0010535597102716565, -0.0151447132229805, ...</td>\n",
       "      <td>2</td>\n",
       "    </tr>\n",
       "    <tr>\n",
       "      <th>3</th>\n",
       "      <td>분 단서에 따른 사업주는 고용노동부령으로 정하는 바에 따라\\n\\n유해위험방지계획서의...</td>\n",
       "      <td>[-0.0099439462646842, -0.025058744475245476, 0...</td>\n",
       "      <td>3</td>\n",
       "    </tr>\n",
       "    <tr>\n",
       "      <th>4</th>\n",
       "      <td>받아야 한다.\\n\\n④ 제2항제2호에 따른 승인의 유효기간은 3년의 범위에서 정한다...</td>\n",
       "      <td>[-0.004272471182048321, -0.018619533628225327,...</td>\n",
       "      <td>4</td>\n",
       "    </tr>\n",
       "  </tbody>\n",
       "</table>\n",
       "</div>"
      ],
      "text/plain": [
       "                                                text  \\\n",
       "0  발  간  등  록  번  호\\n\\n산업안전보건법령(20230105)\\n\\n2023...   \n",
       "1  여 사업주에게 지도ㆍ권고할 수\\n\\n있다.\\n\\n1. 제5조제2항 각 호의 어느 하...   \n",
       "2   작업에 채용하거나 그 작업으로 작업내용을 변경할\\n\\n때에는 제2항에 따른 안전보...   \n",
       "3  분 단서에 따른 사업주는 고용노동부령으로 정하는 바에 따라\\n\\n유해위험방지계획서의...   \n",
       "4  받아야 한다.\\n\\n④ 제2항제2호에 따른 승인의 유효기간은 3년의 범위에서 정한다...   \n",
       "\n",
       "                                           embedding id  \n",
       "0  [-0.00443989597260952, -0.0021884473972022533,...  0  \n",
       "1  [-0.0075674839317798615, -0.02437097765505314,...  1  \n",
       "2  [-0.0010535597102716565, -0.0151447132229805, ...  2  \n",
       "3  [-0.0099439462646842, -0.025058744475245476, 0...  3  \n",
       "4  [-0.004272471182048321, -0.018619533628225327,...  4  "
      ]
     },
     "execution_count": 27,
     "metadata": {},
     "output_type": "execute_result"
    }
   ],
   "source": [
    "from tqdm.auto import tqdm\n",
    "from datetime import datetime \n",
    "\n",
    "\n",
    "\n",
    "start_time = datetime.now()\n",
    "batch_size = EMBEDDING_CTX_LENGTH\n",
    "docs = []\n",
    "tiktoken_encoding = tiktoken.get_encoding(\"cl100k_base\")\n",
    "\n",
    "for i in tqdm(range(0, len(tex), batch_size)): \n",
    "    # find end of batch\n",
    "    i_end = min(len(tex), i+batch_size)\n",
    "#    tokens - tiktoken_encoding.encode(file_content)\n",
    "#    tok = chunks_embedding_vectors[i]\n",
    "#    tok_len = len(tok)\n",
    "    meta_batch = tex[i:i_end]\n",
    "#    contents = data[0].page_content[i:i+batch_size]\n",
    "    docs.append(meta_batch)\n",
    "    \n",
    "df = pd.DataFrame(docs, columns=['text'])\n",
    "df['embedding'] = df.text.apply(lambda x:openai.Embedding.create(input=x, engine='text-embedding-ada-002')['data'][0]['embedding'])\n",
    "\n",
    "df['id'] = [str(x) for x in range(len(df))]\n",
    "\n",
    "elapsed = datetime.now() - start_time\n",
    "print('Time elapsed (hh:mm:ss.ms) {}'.format(elapsed))\n",
    "df.to_csv(\"embeddings_7168.csv\")\n",
    "df.head()"
   ]
  },
  {
   "cell_type": "code",
   "execution_count": 28,
   "id": "4e0cec38",
   "metadata": {},
   "outputs": [
    {
     "data": {
      "text/plain": [
       "93"
      ]
     },
     "execution_count": 28,
     "metadata": {},
     "output_type": "execute_result"
    }
   ],
   "source": [
    "len(df)"
   ]
  },
  {
   "cell_type": "markdown",
   "id": "f0011b27",
   "metadata": {},
   "source": [
    "#### 검색 ####\n",
    "아래와 같은 검색 함수를 정의:\n",
    "\n",
    "- 사용자 질의를 받아 test 와 embedding 컬럼을 갖는 데이터프레임 생성   \n",
    "- 사용자 질의를 OpenAI API 를 사용하여 임베딩   \n",
    "- 질의 임베딩 과 text 임베딩 간의 거리를 기반으로 랭킹 반환  \n",
    "- 두 개의 lists 를 반환:  \n",
    "    - 유사도에 따른 top N texts  \n",
    "    - 유사도 점수 (0 ~ 1)"
   ]
  },
  {
   "cell_type": "code",
   "execution_count": 51,
   "id": "2ac79888",
   "metadata": {},
   "outputs": [],
   "source": [
    "from __future__ import annotations\n",
    "\n",
    "# search function\n",
    "def strings_ranked_by_relatedness(\n",
    "    query: str,\n",
    "    df: pd.DataFrame,\n",
    "    relatedness_fn=lambda x, y: 1 - spatial.distance.cosine(x, y),\n",
    "    top_n: int = 100\n",
    ") -> tuple[list[str], list[float]]:\n",
    "    \"\"\"Returns a list of strings and relatednesses, sorted from most related to least.\"\"\"\n",
    "    query_embedding_response = openai.Embedding.create(\n",
    "        model=EMBEDDING_MODEL,\n",
    "        input=query,\n",
    "    )\n",
    "    query_embedding = query_embedding_response[\"data\"][0][\"embedding\"]\n",
    "    strings_and_relatednesses = [\n",
    "        (row[\"text\"], relatedness_fn(query_embedding, row[\"embedding\"]))\n",
    "        for i, row in df.iterrows()\n",
    "    ]\n",
    "    strings_and_relatednesses.sort(key=lambda x: x[1], reverse=True)\n",
    "    strings, relatednesses = zip(*strings_and_relatednesses)\n",
    "    return strings[:top_n], relatednesses[:top_n]"
   ]
  },
  {
   "cell_type": "code",
   "execution_count": 52,
   "id": "11fa42e6",
   "metadata": {},
   "outputs": [
    {
     "name": "stdout",
     "output_type": "stream",
     "text": [
      "relatedness=0.853\n"
     ]
    },
    {
     "data": {
      "text/plain": [
       "'\\n\\n31조 및 제32조에 따른 교육을 실시할 때에는 별표 5에 따른 안전보건교육의 교육대상별 교\\n\\n육내용에 적합한 교재를 사용해야 한다.\\n\\n② 안전보건교육기관이 사업주의 위탁을 받아 제26조에 따른 교육을 실시하였을 때에는 고용\\n\\n노동부장관이 정하는 교육 실시확인서를 발급해야 한다.\\n\\n \\n\\n            제4장 유해ㆍ위험 방지 조치\\n \\n\\n제37조(위험성평가 실시내용 및 결과의 기록ㆍ보존) ① 사업주가 법 제36조제3항에 따라 위험\\n\\n성평가의 결과와 조치사항을 기록ㆍ보존할 때에는 다음 각 호의 사항이 포함되어야 한다.\\n\\n1. 위험성평가 대상의 유해ㆍ위험요인\\n\\n2. 위험성 결정의 내용\\n\\n3. 위험성 결정에 따른 조치의 내용\\n\\n4. 그 밖에 위험성평가의 실시내용을 확인하기 위하여 필요한 사항으로서 고용노동부장관이\\n\\n정하여 고시하는 사항\\n\\n② 사업주는 제1항에 따른 자료를 3년간 보존해야 한다.\\n \\n\\n제38조(안전보건표지의 종류ㆍ형태ㆍ색채 및 용도 등) ① 법 제37조제2항에 따른 안전보건표\\n\\n지의 종류와 형태는 별표 6과 같고, 그 용도 , 설치ㆍ부착 장소, 형태 및 색채는 별표 7과 같다.\\n\\n② 안전보건표지의 표시를 명확히 하기 위하여 필요한 경우에는 그 안전보건표지의 주위에 표\\n\\n시사항을 글자로 덧붙여 적을 수 있다. 이 경우 글자는 흰색 바탕에 검은색 한글고딕체로 표기\\n\\n해야 한다.\\n\\n③ 안전보건표지에 사용되는 색채의 색도기준 및 용도는 별표 8과 같고, 사업주는 사업장에 설\\n\\n치하거나 부착한 안전보건표지의 색도기준이 유지되도록 관리해야 한다.\\n\\n④ 안전보건표지에 관하여 법 또는 법에 따른 명령에서 규정하지 않은 사항으로서 다른 법 또\\n\\n는 다른 법에 따른 명령에서 규정한 사항이 있으면 그 부분에 대해서는 그 법 또는 명령을 적\\n\\n용한다.\\n \\n\\n제39조(안전보건표지의 설치 등) ① 사업주는 법 제37조에 따라 안전보건표지를 설치하거나 부\\n\\n착할 때에는 별표 7의 구분에 따라 근로자가 쉽게 알아볼 수 있는 장소ㆍ시설 또는 물체에 설\\n\\n\\n\\n법제처                                                            16                                                       국가법령정보센터\\n\\n「산업안전보건법 시행규칙」\\n\\n치하거나 부착해야 한다.\\n\\n② 사업주는 안전보건표지를 설치하거나 부착할 때에는 흔들리거나 쉽게 파손되지 않도록 견\\n\\n고하게 설치하거나 부착해야 한다.\\n\\n③ 안전보건표지의 성질상 설치하거나 부착하는 것이 곤란한 경우에는 해당 물체에 직접 도색\\n\\n할 수 있다.\\n \\n\\n제40조(안전보건표지의 제작) ① 안전보건표지는 그 종류별로 별표 9에 따른 기본모형에 의하\\n\\n여 별표 7의 구분에 따라 제작해야 한다.\\n\\n② 안전보건표지는 그 표시내용을 근로자가 빠르고 쉽게 알아볼 수 있는 크기로 제작해야 한\\n\\n다.\\n\\n③ 안전보건표지 속의 그림 또는 부호의 크기는 안전보건표지의 크기와 비례해야 하며, 안전\\n\\n보건표지 전체 규격의 30퍼센트 이상이 되어야 한다.\\n\\n④ 안전보건표지는 쉽게 파손되거나 변형되지 않는 재료로 제작해야 한다.\\n\\n⑤ 야간에 필요한 안전보건표지는 야광물질을 사용하는 등 쉽게 알아볼 수 있도록 제작해야\\n\\n한다.\\n \\n\\n제41조(고객의 폭언등으로 인한 건강장해 예방조치) 사업주는 법 제41조제1항에 따라 건강장\\n\\n해를 예방하기 위하여 다음 각 호의 조치를 해야 한다.\\n\\n1. 법 제41조제1항에 따른 폭언등을 하지 않도록 요청하는 문구 게시 또는 음성 안내\\n\\n2. 고객과의 문제 상황 발생 시 대처방법 등을 포함하는 고객응대업무 매뉴얼 마련\\n\\n3. 제2호에 따른 고객응대업무 매뉴얼의 내용 및 건강장해 예방 관련 교육 실시\\n\\n4. 그 밖에 법 제41조제1항에 따른 고객응대근로자의 건강장해 예방을 위하여 필요한 조치\\n \\n\\n제42조(제출서류 등) ① 법 제42조제1항제1호에 해당하는 사업주가 유해위험방지계획서를 제\\n\\n출할 때에는 사업장별로 별지 제16호서식의 제조업 등 유해위험방지계획서에 다음 각 호의 서\\n\\n류를 첨부하여 해당 작업 시작 15일 전까지 공단에 2부를 제출해야 한다. 이 경우 유해위험방\\n\\n지계획서의 작성기준, 작성자, 심사기준, 그 밖에 심사에 필요한 사항은 고용노동부장관이 정\\n\\n하여 고시한다.\\n\\n1. 건축물 각 층의 평면도\\n\\n2. 기계ㆍ설비의 개요를 나타내는 서류\\n\\n3. 기계ㆍ설비의 배치도면\\n\\n4. 원재료 및 제품의 취급, 제조 등의 작업방법의 개요\\n\\n5. 그 밖에 고용노동부장관이 정하는 도면 및 서류\\n\\n② 법 제42조제1항제2호에 해당하는 사업주가 유해위험방지계획서를 제출할 때에는 사업장\\n\\n별로 별지 제16호서식의 제조업 등 유해위험방지계획서에 다음 각 호의 서류를 첨부하여 해당\\n\\n작업 시작 15일 전까지 공단에 2부를 제출해야 한다.\\n\\n1. 설치장소의 개요를 나타내는 서류\\n\\n\\n\\n법제처                                                            17                                                       국가법령정보센터\\n\\n「산업안전보건법 시행규칙」\\n\\n2. 설비의 도면\\n\\n3. 그 밖에 고용노동부장관이 정하는 도면 및 서류\\n\\n③ 법 제42조제1항제3호에 해당하는 사업주가 유해위험방지계획서를 제출할 때에는 별지 제\\n\\n17호서식의 건설공사 유해위험방지계획서에 별표 10의 서류를 첨부하여 해당 공사의 착공\\n\\n(유해위험방지계획서 작성 대상 시설물 또는 구조물의 공사를 시작하는 것을 말하며, 대지 정\\n\\n리 및 가설사무소 설치 등의 공사 준비기간은 착공으로 보지 않는다) 전날까지 공단에 2부를\\n\\n제출해야 한다. 이 경우 해당 공사가 「건설기술 진흥법」 제62조에 따른 안전관리계획을 수\\n\\n립해야 하는 건설공사에 해당하는 경우에는 유해위험방지계획서와 안전관리계획서를 통합하\\n\\n여 작성한 서류를 제출할 수 있다.\\n\\n④ 같은 사업장 내에서 영 제42조제3항 각 호에 따른 공사의 착공시기를 달리하는 사업의 사\\n\\n업주는 해당 공사별 또는 해당 공사의 단위작업공사 종류별로 유해위험방지계획서를 분리하\\n\\n여 각각 제출할 수 있다. 이 경우 이미 제출한 유해위험방지계획서의 첨부서류와 중복되는 서\\n\\n류는 제출하지 않을 수 있다.\\n\\n⑤ 법 제42조제1항 단서에서 “산업재해발생률 등을 고려하여 고용노동부령으로 정하는 기준\\n\\n에  해당하는  사업주”란  별표  11의  기준에  적합한  건설업체(이하  “자체심사  및  확인업체\\n\\n”라  한다)의  사업주를  말한다.\\n\\n⑥ 자체심사 및 확인업체는 별표 11의 자체심사 및 확인방법에 따라 유해위험방지계획서를 스\\n\\n스로 심사하여 해당 공사의 착공 전날까지 별지 제18호서식의 유해위험방지계획서 자체심사\\n\\n서를 공단에 제출해야 한다. 이 경우 공단은 필요한 경우 자체심사 및 확인업체의 자체심사에\\n\\n관하여 지도ㆍ조언할 수 있다.\\n \\n\\n제43조(유해위험방지계획서의 건설안전분야 자격 등) 법 제42조제2항에서 “건설안전 분야의\\n\\n자격 등 고용노동부령으로 정하는 자격을 갖춘 자”란 다음 각 호의 어느 하나에 해당하는 사\\n\\n람을 말한다.\\n\\n1. 건설안전 분야 산업안전지도사\\n\\n2. 건설안전기술사 또는 토목ㆍ건축 분야 기술사\\n\\n3. 건설안전산업기사 이상의 자격을 취득한 후 건설안전 관련 실무경력이 건설안전기사 이상\\n\\n의 자격은 5년, 건설안전산업기사 자격은 7년 이상인 사람\\n \\n\\n제44조(계획서의 검토 등) ① 공단은 제42조에 따른 유해위험방지계획서 및 그 첨부서류를 접\\n\\n수한 경우에는 접수일부터 15일 이내에 심사하여 사업주에게 그 결과를 알려야 한다. 다만, 제\\n\\n42조제6항에 따라 자체심사 및 확인업체가 유해위험방지계획서 자체심사서를 제출한 경우에\\n\\n는 심사를 하지 않을 수 있다.\\n\\n② 공단은 제1항에 따른 유해위험방지계획서 심사 시 관련 분야의 학식과 경험이 풍부한 사람\\n\\n을 심사위원으로 위촉하여 해당 분야의 심사에 참여하게 할 수 있다.\\n\\n③ 공단은 유해위험방지계획서 심사에 참여한 위원에게 수당과 여비를 지급할 수 있다. 다만,\\n\\n소관 업무와 직접 관련되어 참여한 위원의 경우에는 그렇지 않다.\\n\\n\\n\\n법제처                                                            18                                                       국가법령정보센터\\n\\n「산업안전보건법 시행규칙」\\n\\n④ 고용노동부장관이 정하는 건설물ㆍ기계ㆍ기구 및 설비 또는 건설공사의 경우에는 법 제\\n\\n145조에 따라 등록된 지도사에게 유해위험방지계획서에 대한 평가를 받은 후 별지 제19호서\\n\\n식에 따라 그 결과를 제출할 수 있다. 이 경우 공단은 제출된 평가 결과가 고용노동부장관이\\n\\n정하는 대상에 대하여 고용노동부장관이 정하는 요건을 갖춘 지도사가 평가한 것으로 인정되\\n\\n면 해당 평가결과서로 유해위험방지계획서의 심사를 갈음할 수 있다.\\n\\n⑤ 건설공사의 경우 제4항에 따른 유해위험방지계획서에 대한 평가는 같은 건설공사에 대하\\n\\n여 법 제42조제2항에 따라 의견을 제시한 자가 해서는 안 된다.\\n \\n\\n제45조(심사 결과의 구분) ① 공단은 유해위험방지계획서의 심사 결과를 다음 각 호와 같이 구\\n\\n분ㆍ판정한다.\\n\\n1. 적정: 근로자의 안전과 보건을 위하여 필요한 조치가 구체적으로 확보되었다고 인정되는 경\\n\\n우\\n\\n2. 조건부 적정: 근로자의 안전과 보건을 확보하기 위하여 일부 개선이 필요하다고 인정되는\\n\\n경우\\n\\n3. 부적정: 건설물ㆍ기계ㆍ기구 및 설비 또는 건설공사가 심사기준에 위반되어 공사착공 시 중\\n\\n대한 위험이 발생할 우려가 있거나 해당 계획에 근본적 결함이 있다고 인정되는 경우\\n\\n② 공단은 심사 결과 적정판정 또는 조건부 적정판정을 한 경우에는 별지 제20호서식의 유해\\n\\n위험방지계획서 심사 결과 통지서에 보완사항을 포함(조건부 적정판정을 한 경우만 해당한다\\n\\n)하여 해당 사업주에게 발급하고 지방고용노동관서의 장에게 보고해야 한다.\\n\\n③ 공단은 심사 결과 부적정판정을 한 경우에는 지체 없이 별지 제21호서식의 유해위험방지계\\n\\n획서 심사 결과(부적정) 통지서에 그 이유를 기재하여 지방고용노동관서의 장에게 통보하고\\n\\n사업장 소재지 특별자치시장ㆍ특별자치도지사ㆍ시장ㆍ군수ㆍ구청장(구청장은 자치구의 구청\\n\\n장을 말한다. 이하 같다)에게 그 사실을 통보해야 한다.\\n\\n④ 제3항에 따른 통보를 받은 지방고용노동관서의 장은 사실 여부를 확인한 후 공사착공중지\\n\\n명령, 계획변경명령 등 필요한 조치를 해야 한다.\\n\\n⑤ 사업주는 지방고용노동관서의 장으로부터 공사착공중지명령 또는 계획변경명령을 받은 경\\n\\n우에는 유해위험방지계획서를 보완하거나 변경하여 공단에 제출해야 한다.\\n \\n\\n제46조(확인) ① 법 제42조제1항제1호 및 제2호에 따라 유해위험방지계획서를 제출한 사업주\\n\\n는 해당 건설물ㆍ기계ㆍ기구 및 설비의 시운전단계에서, 법 제42조제1항제3호에 따른 사업주\\n\\n는 건설공사 중 6개월 이내마다 법 제43조제1항에 따라 다음 각 호의 사항에 관하여 공단의\\n\\n확인을 받아야 한다.\\n\\n1. 유해위험방지계획서의 내용과 실제공사 내용이 부합하는지 여부\\n\\n2. 법 제42조제6항에 따른 유해위험방지계획서 변경내용의 적정성\\n\\n3. 추가적인 유해ㆍ위험요인의 존재 여부\\n\\n② 공단은 제1항에 따른 확인을 할 경우에는 그 일정을 사업주에게 미리 통보해야 한다.\\n\\n\\n\\n법제처                                                            19                                                       국가법령정보센터\\n\\n「산업안전보건법 시행규칙」\\n\\n③ 제44조제4항에 따른 건설물ㆍ기계ㆍ기구 및 설비 또는 건설공사의 경우 사업주가 고용노\\n\\n동부장관이 정하는 요건을 갖춘 지도사에게 확인을 받고 별지 제22호서식에 따라 그 결과를\\n\\n공단에 제출하면 공단은 제1항에 따른 확인에 필요한 현장방문을 지도사의 확인결과로 대체\\n\\n할 수 있다. 다만, 건설업의 경우 최근 2년간 사망재해(별표 1 제3호라목에 따른 재해는 제외\\n\\n한다)가 발생한 경우에는 그렇지 않다.\\n\\n④ 제3항에 따른 유해위험방지계획서에 대한 확인은 제44조제4항에 따라 평가를 한 자가 해\\n\\n서는 안 된다.\\n \\n\\n제47조(자체심사 및 확인업체의 확인 등) ① 자체심사 및 확인업체의 사업주는 별표 11에 따라\\n\\n해당 공사 준공 시까지 6개월 이내마다 제46조제1항 각 호의 사항에 관하여 자체확인을 해야\\n\\n하며, 공단은 필요한 경우 해당 자체확인에 관하여 지도ㆍ조언할 수 있다. 다만, 그 공사 중 사\\n\\n망재해(별표 1 제3호라목에 따른 재해는 제외한다)가 발생한 경우에는 제46조제1항에 따른\\n\\n공단의 확인을 받아야 한다.\\n\\n② 공단은 제1항에 따른 확인을 할 경우에는 그 일정을 사업주에게 미리 통보해야 한다.\\n \\n\\n제48조(확인 결과의 조치 등) ① 공단은 제46조 및 제47조에 따른 확인 결과 해당 사업장의 유\\n\\n해ㆍ위험의 방지상태가 적정하다고 판단되는 경우에는 5일 이내에 별지 제23호서식의 확인\\n\\n결과 통지서를 사업주에게 발급해야 하며, 확인결과 경미한 유해ㆍ위험요인이 발견된 경우에\\n\\n는 일정한 기간을 정하여 개선하도록 권고하되, 해당 기간 내에 개선되지 않은 경우에는 기간\\n\\n만료일부터 10일 이내에 별지 제24호서식의 확인결과 조치 요청서에 그 이유를 적은 서면을\\n\\n첨부하여 지방고용노동관서의 장에게 보고해야 한다.\\n\\n② 공단은 확인 결과 중대한 유해ㆍ위험요인이 있어 법 제43조제3항에 따라 시설 등의 개선,\\n\\n사용중지 또는 작업중지 등의 조치가 필요하다고 인정되는 경우에는 지체 없이 별지 제24호서\\n\\n식의 확인결과 조치 요청서에 그 이유를 적은 서면을 첨부하여 지방고용노동관서의 장에게 보\\n\\n고해야 한다.\\n\\n③ 제1항 또는 제2항에 따른 보고를 받은 지방고용노동관서의 장은 사실 여부를 확인한 후 필\\n\\n요한 조치를 해야 한다.\\n \\n\\n제49조(보고 등) 공단은 유해위험방지계획서의 작성ㆍ제출ㆍ확인업무와 관련하여 다음 각 호의\\n\\n어느 하나에 해당하는 사업장을 발견한 경우에는 지체 없이 해당 사업장의 명칭ㆍ소재지 및\\n\\n사업주명 등을 구체적으로 적어 지방고용노동관서의 장에게 보고해야 한다.\\n\\n1. 유해위험방지계획서를 제출하지 않은 사업장\\n\\n2. 유해위험방지계획서 제출기간이 지난 사업장\\n\\n3. 제43조 각 호의 자격을 갖춘 자의 의견을 듣지 않고 유해위험방지계획서를 작성한 사업장\\n \\n\\n제50조(공정안전보고서의 세부 내용 등) ① 영 제44조에 따라 공정안전보고서에 포함해야 할\\n\\n세부내용은 다음 각 호와 같다.\\n\\n\\n\\n법제처                                          '"
      ]
     },
     "metadata": {},
     "output_type": "display_data"
    },
    {
     "name": "stdout",
     "output_type": "stream",
     "text": [
      "relatedness=0.845\n"
     ]
    },
    {
     "data": {
      "text/plain": [
       "'무를 수행했음을 증명할 수 있는 서류를 갖추어 두어야 한다.\\n \\n\\n제25조(안전보건관리담당자의 업무) 안전보건관리담당자의 업무는 다음 각 호와 같다. <개정\\n\\n2020. 9. 8.>\\n\\n1. 법 제29조에 따른 안전보건교육 실시에 관한 보좌 및 지도ㆍ조언\\n\\n2. 법 제36조에 따른 위험성평가에 관한 보좌 및 지도ㆍ조언\\n\\n3. 법 제125조에 따른 작업환경측정 및 개선에 관한 보좌 및 지도ㆍ조언\\n\\n4. 법 제129조부터 제131조까지의 규정에 따른 각종 건강진단에 관한 보좌 및 지도ㆍ조언\\n\\n5. 산업재해 발생의 원인 조사, 산업재해 통계의 기록 및 유지를 위한 보좌 및 지도ㆍ조언\\n\\n6. 산업 안전ㆍ보건과 관련된 안전장치 및 보호구 구입 시 적격품 선정에 관한 보좌 및 지도ㆍ\\n\\n조언\\n \\n\\n제26조(안전보건관리담당자 업무의 위탁 등) ① 법 제19조제4항에서 “대통령령으로 정하는\\n\\n사업의 종류 및 사업장의 상시근로자 수에 해당하는 사업장”이란 제24조제1항에 따라 안전\\n\\n보건관리담당자를 선임해야 하는 사업장을 말한다.\\n\\n② 안전보건관리담당자 업무의 위탁에 관하여는 제19조제2항을 준용한다. 이 경우 “법 제\\n\\n17조제5항 및 이 조 제1항”은 “법 제19조제4항 및 이 조 제1항”으로, “안전관리자”는\\n\\n“안전보건관리담당자”로, “안전관리전문기관”은 “안전관리전문기관 또는 보건관리전문\\n\\n기관”으로 본다.<개정 2021. 11. 19.>\\n \\n\\n제27조(안전관리전문기관 등의 지정 요건) ① 법 제21조제1항에 따라 안전관리전문기관으로\\n\\n지정받을 수 있는 자는 다음 각 호의 어느 하나에 해당하는 자로서 별표 7에 따른 인력ㆍ시설\\n\\n및 장비를 갖춘 자로 한다.\\n\\n1. 법 제145조제1항에 따라 등록한 산업안전지도사(건설안전 분야의 산업안전지도사는 제외\\n\\n한다)\\n\\n\\n\\n법제처                                                            11                                                       국가법령정보센터\\n\\n「산업안전보건법 시행령」\\n\\n2. 안전관리 업무를 하려는 법인\\n\\n② 법 제21조제1항에 따라 보건관리전문기관으로 지정받을 수 있는 자는 다음 각 호의 어느\\n\\n하나에 해당하는 자로서 별표 8에 따른 인력ㆍ시설 및 장비를 갖춘 자로 한다.\\n\\n1. 법 제145조제1항에 따라 등록한 산업보건지도사\\n\\n2. 국가 또는 지방자치단체의 소속기관\\n\\n3. 「의료법」에 따른 종합병원 또는 병원\\n\\n4. 「고등교육법」 제2조제1호부터 제6호까지의 규정에 따른 대학 또는 그 부속기관\\n\\n5. 보건관리 업무를 하려는 법인\\n \\n\\n제28조(안전관리전문기관 등의 지정 취소 등의 사유) 법 제21조제4항제5호에서 “대통령령으\\n\\n로 정하는 사유에 해당하는 경우”란 다음 각 호의 경우를 말한다.\\n\\n1. 안전관리 또는 보건관리 업무 관련 서류를 거짓으로 작성한 경우\\n\\n2. 정당한 사유 없이 안전관리 또는 보건관리 업무의 수탁을 거부한 경우\\n\\n3. 위탁받은 안전관리 또는 보건관리 업무에 차질을 일으키거나 업무를 게을리한 경우\\n\\n4. 안전관리 또는 보건관리 업무를 수행하지 않고 위탁 수수료를 받은 경우\\n\\n5. 안전관리 또는 보건관리 업무와 관련된 비치서류를 보존하지 않은 경우\\n\\n6. 안전관리 또는 보건관리 업무 수행과 관련한 대가 외에 금품을 받은 경우\\n\\n7. 법에 따른 관계 공무원의 지도ㆍ감독을 거부ㆍ방해 또는 기피한 경우\\n \\n\\n제29조(산업보건의의 선임 등) ① 법 제22조제1항에 따라 산업보건의를 두어야 하는 사업의 종\\n\\n류와 사업장은 제20조 및 별표 5에 따라 보건관리자를 두어야 하는 사업으로서 상시근로자 수\\n\\n가 50명 이상인 사업장으로 한다. 다만, 다음 각 호의 어느 하나에 해당하는 경우는 그렇지 않\\n\\n다. <개정 2021. 11. 19.>\\n\\n1. 의사를 보건관리자로 선임한 경우\\n\\n2. 법 제18조제5항에 따라 보건관리전문기관에 보건관리자의 업무를 위탁한 경우\\n\\n② 산업보건의는 외부에서 위촉할 수 있다.\\n\\n③ 사업주는 제1항 또는 제2항에 따라 산업보건의를 선임하거나 위촉했을 때에는 고용노동부\\n\\n령으로 정하는 바에 따라 선임하거나 위촉한 날부터 14일 이내에 고용노동부장관에게 그 사실\\n\\n을 증명할 수 있는 서류를 제출해야 한다.\\n\\n④ 제2항에 따라 위촉된 산업보건의가 담당할 사업장 수 및 근로자 수, 그 밖에 필요한 사항은\\n\\n고용노동부장관이 정한다.\\n \\n\\n제30조(산업보건의의 자격) 산업보건의의 자격은 「의료법」에 따른 의사로서 직업환경의학과\\n\\n전문의, 예방의학 전문의 또는 산업보건에 관한 학식과 경험이 있는 사람으로 한다.\\n \\n\\n제31조(산업보건의의 직무 등) ① 산업보건의의 직무 내용은 다음 각 호와 같다.\\n\\n1. 법 제134조에 따른 건강진단 결과의 검토 및 그 결과에 따른 작업 배치, 작업 전환 또는 근\\n\\n로시간의 단축 등 근로자의 건강보호 조치\\n\\n\\n\\n법제처                                                            12                                                       국가법령정보센터\\n\\n「산업안전보건법 시행령」\\n\\n2. 근로자의 건강장해의 원인 조사와 재발 방지를 위한 의학적 조치\\n\\n3. 그 밖에 근로자의 건강 유지 및 증진을 위하여 필요한 의학적 조치에 관하여 고용노동부장\\n\\n관이 정하는 사항\\n\\n② 산업보건의에 대한 지원에 관하여는 제14조제2항을 준용한다. 이 경우 “안전보건관리책\\n\\n임자”는 “산업보건의”로, “법 제15조제1항”은 “제1항”으로 본다.\\n \\n\\n제32조(명예산업안전감독관 위촉 등) ① 고용노동부장관은 다음 각 호의 어느 하나에 해당하는\\n\\n사람 중에서 법 제23조제1항에 따른 명예산업안전감독관(이하 “명예산업안전감독관”이라\\n\\n한다)을 위촉할 수 있다.\\n\\n1. 산업안전보건위원회 구성 대상 사업의 근로자 또는 노사협의체 구성ㆍ운영 대상 건설공사\\n\\n의 근로자 중에서 근로자대표(해당 사업장에 단위 노동조합의 산하 노동단체가 그 사업장\\n\\n근로자의 과반수로 조직되어 있는 경우에는 지부ㆍ분회 등 명칭이 무엇이든 관계없이 해당\\n\\n노동단체의 대표자를 말한다. 이하 같다)가 사업주의 의견을 들어 추천하는 사람\\n\\n2. 「노동조합 및 노동관계조정법」 제10조에 따른 연합단체인 노동조합 또는 그 지역 대표기\\n\\n구에 소속된 임직원 중에서 해당 연합단체인 노동조합 또는 그 지역 대표기구가 추천하는 사\\n\\n람\\n\\n3. 전국 규모의 사업주단체 또는 그 산하조직에 소속된 임직원 중에서 해당 단체 또는 그 산하\\n\\n조직이 추천하는 사람\\n\\n4. 산업재해 예방 관련 업무를 하는 단체 또는 그 산하조직에 소속된 임직원 중에서 해당 단체\\n\\n또는 그 산하조직이 추천하는 사람\\n\\n② 명예산업안전감독관의 업무는 다음 각 호와 같다. 이 경우 제1항제1호에 따라 위촉된 명예\\n\\n산업안전감독관의  업무  범위는  해당  사업장에서의  업무(제8호는  제외한다)로  한정하며,  제\\n\\n1항제2호부터 제4호까지의 규정에 따라 위촉된 명예산업안전감독관의 업무 범위는 제8호부\\n\\n터 제10호까지의 규정에 따른 업무로 한정한다.\\n\\n1. 사업장에서 하는 자체점검 참여 및 「근로기준법」 제101조에 따른 근로감독관(이하 “근\\n\\n로감독관”이라 한다)이 하는 사업장 감독 참여\\n\\n2. 사업장 산업재해 예방계획 수립 참여 및 사업장에서 하는 기계ㆍ기구 자체검사 참석\\n\\n3. 법령을 위반한 사실이 있는 경우 사업주에 대한 개선 요청 및 감독기관에의 신고\\n\\n4. 산업재해 발생의 급박한 위험이 있는 경우 사업주에 대한 작업중지 요청\\n\\n5. 작업환경측정, 근로자 건강진단 시의 참석 및 그 결과에 대한 설명회 참여\\n\\n6. 직업성 질환의 증상이 있거나 질병에 걸린 근로자가 여러 명 발생한 경우 사업주에 대한 임\\n\\n시건강진단 실시 요청\\n\\n7. 근로자에 대한 안전수칙 준수 지도\\n\\n8. 법령 및 산업재해 예방정책 개선 건의\\n\\n9. 안전ㆍ보건 의식을 북돋우기 위한 활동 등에 대한 참여와 지원\\n\\n10. 그 밖에 산업재해 예방에 대한 홍보 등 산업재해 예방업무와 관련하여 고용노동부장관이\\n\\n정하는 업무\\n\\n\\n\\n법제처                                                            13                                                       국가법령정보센터\\n\\n「산업안전보건법 시행령」\\n\\n③ 명예산업안전감독관의 임기는 2년으로 하되, 연임할 수 있다.\\n\\n④ 고용노동부장관은 명예산업안전감독관의 활동을 지원하기 위하여 수당 등을 지급할 수 있\\n\\n다.\\n\\n⑤ 제1항부터 제4항까지에서 규정한 사항 외에 명예산업안전감독관의 위촉 및 운영 등에 필요\\n\\n한 사항은 고용노동부장관이 정한다.\\n \\n\\n제33조(명예산업안전감독관의 해촉) 고용노동부장관은 다음 각 호의 어느 하나에 해당하는 경\\n\\n우에는 명예산업안전감독관을 해촉(解囑)할 수 있다.\\n\\n1. 근로자대표가 사업주의 의견을 들어 제32조제1항제1호에 따라 위촉된 명예산업안전감독\\n\\n관의 해촉을 요청한 경우\\n\\n2. 제32조제1항제2호부터 제4호까지의 규정에 따라 위촉된 명예산업안전감독관이 해당 단체\\n\\n또는 그 산하조직으로부터 퇴직하거나 해임된 경우\\n\\n3. 명예산업안전감독관의 업무와 관련하여 부정한 행위를 한 경우\\n\\n4. 질병이나 부상 등의 사유로 명예산업안전감독관의 업무 수행이 곤란하게 된 경우\\n \\n\\n제34조(산업안전보건위원회 구성 대상) 법 제24조제1항에 따라 산업안전보건위원회를 구성해\\n\\n야 할 사업의 종류 및 사업장의 상시근로자 수는 별표 9와 같다.\\n \\n\\n제35조(산업안전보건위원회의 구성) ① 산업안전보건위원회의 근로자위원은 다음 각 호의 사람\\n\\n으로 구성한다.\\n\\n1. 근로자대표\\n\\n2. 명예산업안전감독관이 위촉되어 있는 사업장의 경우 근로자대표가 지명하는 1명 이상의 명\\n\\n예산업안전감독관\\n\\n3. 근로자대표가 지명하는 9명(근로자인 제2호의 위원이 있는 경우에는 9명에서 그 위원의\\n\\n수를 제외한 수를 말한다) 이내의 해당 사업장의 근로자\\n\\n② 산업안전보건위원회의 사용자위원은 다음 각 호의 사람으로 구성한다.  다만,  상시근로자\\n\\n50명 이상 100명 미만을 사용하는 사업장에서는 제5호에 해당하는 사람을 제외하고 구성할\\n\\n수 있다.\\n\\n1. 해당 사업의 대표자(같은 사업으로서 다른 지역에 사업장이 있는 경우에는 그 사업장의 안\\n\\n전보건관리책임자를 말한다. 이하 같다)\\n\\n2. 안전관리자(제16조제1항에 따라 안전관리자를 두어야 하는 사업장으로 한정하되, 안전관\\n\\n리자의 업무를 안전관리전문기관에 위탁한 사업장의 경우에는 그 안전관리전문기관의 해당\\n\\n사업장 담당자를 말한다) 1명\\n\\n3. 보건관리자(제20조제1항에 따라 보건관리자를 두어야 하는 사업장으로 한정하되, 보건관\\n\\n리자의 업무를 보건관리전문기관에 위탁한 사업장의 경우에는 그 보건관리전문기관의 해당\\n\\n사업장 담당자를 말한다) 1명\\n\\n4. 산업보건의(해당 사업장에 선임되어 있는 경우로 한정한다)\\n\\n\\n\\n법제처                                                            14                                                       국가법령정보센터\\n\\n「산업안전보건법 시행령」\\n\\n5. 해당 사업의 대표자가 지명하는 9명 이내의 해당 사업장 부서의 장\\n\\n③ 제1항 및 제2항에도 불구하고 법 제69조제1항에 따른 건설공사도급인(이하 “건설공사도\\n\\n급인”이라 한다)이 법 제64조제1항제1호에 따른 안전 및 보건에 관한 협의체를 구성한 경우\\n\\n에는 산업안전보건위원회의 위원을 다음 각 호의 사람을 포함하여 구성할 수 있다.\\n\\n1. 근로자위원: 도급 또는 하도급 사업을 포함한 전체 사업의 근로자대표, 명예산업안전감독관\\n\\n및 근로자대표가 지명하는 해당 사업장의 근로자\\n\\n2. 사용자위원: 도급인 대표자, 관계수급인의 각 대표자 및 안전관리자\\n \\n\\n제36조(산업안전보건위원회의 위원장) 산업안전보건위원회의 위원장은 위원 중에서 호선(互選\\n\\n)한다. 이 경우 근로자위원과 사용자위원 중 각 1명을 공동위원장으로 선출할 수 있다.\\n \\n\\n제37조(산업안전보건위원회의 회의 등) ① 법 제24조제3항에 따라 산업안전보건위원회의 회의\\n\\n는 정기회의와 임시회의로 구분하되, 정기회의는 분기마다 산업안전보건위원회의 위원장이\\n\\n소집하며, 임시회의는 위원장이 필요하다고 인정할 때에 소집한다.\\n\\n② 회의는 근로자위원 및 사용자위원 각 과반수의 출석으로 개의(開議)하고 출석위원 과반수\\n\\n의 찬성으로 의결한다.\\n\\n③ 근로자대표, 명예산업안전감독관, 해당 사업의 대표자, 안전관리자 또는 보건관리자는 회의\\n\\n에 출석할 수 없는 경우에는 해당 사업에 종사하는 사람 중에서 1명을 지정하여 위원으로서의\\n\\n직무를 대리하게 할 수 있다.\\n\\n④ 산업안전보건위원회는 다음 각 호의 사항을 기록한 회의록을 작성하여 갖추어 두어야 한다\\n\\n.\\n\\n1. 개최 일시 및 장소\\n\\n2. 출석위원\\n\\n3. 심의 내용 및 의결ㆍ결정 사항\\n\\n4. 그 밖의 토의사항\\n \\n\\n제38조(의결되지 않은 사항 등의 처리) ① 산업안전보건위원회는 다음 각 호의 어느 하나에 해\\n\\n당하는 경우에는 근로자위원과 사용자위원의 합의에 따라 산업안전보건위원회에 중재기구를\\n\\n두어 해결하거나 제3자에 의한 중재를 받아야 한다.\\n\\n1. 법 제24조제2항 각 호에 따른 사항에 대하여 산업안전보건위원회에서 의결하지 못한 경우\\n\\n2. 산업안전보건위원회에서 의결된 사항의 해석 또는 이행방법 등에 관하여 의견이 일치하지\\n\\n않는 경우\\n\\n② 제1항에 따른 중재 결정이 있는 경우에는 산업안전보건위원회의 의결을 거친 것으로 보며,\\n\\n사업주와 근로자는 그 결정에 따라야 한다.\\n \\n\\n제39조(회의 결과 등의 공지) 산업안전보건위원회의 위원장은 산업안전보건위원회에서 심의ㆍ\\n\\n의결된 내용 등 회의 결과와 중재 결정된 내용 등을 사내방송이나 사내보(社內報), 게시 또는\\n\\n자체 정례조회, 그 밖의 적절한 방법으로 근로자에게 신속히 알려야 한다.\\n\\n\\n\\n법제처                                                            15                                                       국가법령정보센터\\n\\n「산업안전보건법 시행령」\\n\\n \\n\\n            제3장 안전보건교육\\n \\n\\n제40조(안전보건교육기관의 등록 및 취소) ① 법 제33조제1항 전단에 따라 법 제29조제1항부\\n\\n터 제3항까지의 규정에 따른 안전보건교육에 대한 안전보건교육기관(이하 “근로자안전보건\\n\\n교육기관”이라 한다)으로 등록하려는 자는 법인 또는 산업 안전ㆍ보건 관련 학과가 있는 「\\n\\n고등교육법」'"
      ]
     },
     "metadata": {},
     "output_type": "display_data"
    },
    {
     "name": "stdout",
     "output_type": "stream",
     "text": [
      "relatedness=0.844\n"
     ]
    },
    {
     "data": {
      "text/plain": [
       "' 제2조에 따른 학교로서 별표 10에 따른 인력ㆍ시설 및 장비 등을 갖추어야 한다\\n\\n.\\n\\n② 법 제33조제1항 전단에 따라 법 제31조제1항 본문에 따른 안전보건교육에 대한 안전보건\\n\\n교육기관으로 등록하려는 자는 법인 또는 산업 안전ㆍ보건 관련 학과가 있는 「고등교육법」\\n\\n제2조에 따른 학교로서 별표 11에 따른 인력ㆍ시설 및 장비를 갖추어야 한다.\\n\\n③ 법 제33조제1항 전단에 따라 법 제32조제1항 각 호 외의 부분 본문에 따른 안전보건교육\\n\\n에 대한 안전보건교육기관(이하 “직무교육기관”이라 한다)으로 등록할 수 있는 자는 다음\\n\\n각 호의 어느 하나에 해당하는 자로 한다.\\n\\n1. 「한국산업안전보건공단법」에 따른 한국산업안전보건공단(이하 “공단”이라 한다)\\n\\n2. 다음 각 목의 어느 하나에 해당하는 기관으로서 별표 12에 따른 인력ㆍ시설 및 장비를 갖춘\\n\\n기관\\n\\n가. 산업 안전ㆍ보건 관련 학과가 있는 「고등교육법」 제2조에 따른 학교\\n\\n나. 비영리법인\\n\\n④ 법 제33조제1항 후단에서 “대통령령으로 정하는 중요한 사항”이란 다음 각 호의 사항을\\n\\n말한다.\\n\\n1. 교육기관의 명칭(상호)\\n\\n2. 교육기관의 소재지\\n\\n3. 대표자의 성명\\n\\n⑤ 제1항부터 제3항까지의 규정에 따른 안전보건교육기관에 관하여 법 제33조제4항에 따라\\n\\n준용되는 법 제21조제4항제5호에서 “대통령령으로 정하는 사유에 해당하는 경우”란 다음\\n\\n각 호의 경우를 말한다.\\n\\n1. 교육 관련 서류를 거짓으로 작성한 경우\\n\\n2. 정당한 사유 없이 교육 실시를 거부한 경우\\n\\n3. 교육을 실시하지 않고 수수료를 받은 경우\\n\\n4. 법 제29조제1항부터 제3항까지, 제31조제1항 본문 또는 제32조제1항 각 호 외의 부분 본\\n\\n문에 따른 교육의 내용 및 방법을 위반한 경우\\n\\n \\n\\n            제4장 유해ㆍ위험 방지 조치\\n \\n\\n\\n\\n법제처                                                            16                                                       국가법령정보센터\\n\\n「산업안전보건법 시행령」\\n\\n제41조(제3자의 폭언등으로 인한 건강장해 발생 등에 대한 조치) 법 제41조제2항에서 “업무\\n\\n의 일시적 중단 또는 전환 등 대통령령으로 정하는 필요한 조치”란 다음 각 호의 조치 중 필\\n\\n요한 조치를 말한다. <개정 2021. 10. 14.>\\n\\n1. 업무의 일시적 중단 또는 전환\\n\\n2. 「근로기준법」 제54조제1항에 따른 휴게시간의 연장\\n\\n3. 법 제41조제2항에 따른 폭언등으로 인한 건강장해 관련 치료 및 상담 지원\\n\\n4. 관할 수사기관 또는 법원에 증거물ㆍ증거서류를 제출하는 등 법 제41조제2항에 따른 폭언\\n\\n등으로 인한 고소, 고발 또는 손해배상 청구 등을 하는 데 필요한 지원\\n\\n[제목개정 2021. 10. 14.]\\n \\n\\n제42조(유해위험방지계획서 제출 대상) ① 법 제42조제1항제1호에서 “대통령령으로 정하는\\n\\n사업의 종류 및 규모에 해당하는 사업”이란 다음 각 호의 어느 하나에 해당하는 사업으로서\\n\\n전기 계약용량이 300킬로와트 이상인 경우를 말한다.\\n\\n1. 금속가공제품 제조업; 기계 및 가구 제외\\n\\n2. 비금속 광물제품 제조업\\n\\n3. 기타 기계 및 장비 제조업\\n\\n4. 자동차 및 트레일러 제조업\\n\\n5. 식료품 제조업\\n\\n6. 고무제품 및 플라스틱제품 제조업\\n\\n7. 목재 및 나무제품 제조업\\n\\n8. 기타 제품 제조업\\n\\n9. 1차 금속 제조업\\n\\n10. 가구 제조업\\n\\n11. 화학물질 및 화학제품 제조업\\n\\n12. 반도체 제조업\\n\\n13. 전자부품 제조업\\n\\n② 법 제42조제1항제2호에서 “대통령령으로 정하는 기계ㆍ기구 및 설비”란 다음 각 호의\\n\\n어느 하나에 해당하는 기계ㆍ기구 및 설비를 말한다. 이 경우 다음 각 호에 해당하는 기계ㆍ기\\n\\n구 및 설비의 구체적인 범위는 고용노동부장관이 정하여 고시한다.<개정 2021. 11. 19.>\\n\\n1. 금속이나 그 밖의 광물의 용해로\\n\\n2. 화학설비\\n\\n3. 건조설비\\n\\n4. 가스집합 용접장치\\n\\n5. 근로자의 건강에 상당한 장해를 일으킬 우려가 있는 물질로서 고용노동부령으로 정하는 물\\n\\n질의 밀폐ㆍ환기ㆍ배기를 위한 설비\\n\\n6. 삭제 <2021. 11. 19.>\\n\\n\\n\\n법제처                                                            17                                                       국가법령정보센터\\n\\n「산업안전보건법 시행령」\\n\\n③ 법 제42조제1항제3호에서 “대통령령으로 정하는 크기 높이 등에 해당하는 건설공사”란\\n\\n다음 각 호의 어느 하나에 해당하는 공사를 말한다.\\n\\n1.  다음  각  목의  어느  하나에  해당하는  건축물  또는  시설  등의  건설ㆍ개조  또는  해체(이하\\n\\n“건설등”이라  한다)  공사\\n\\n가. 지상높이가 31미터 이상인 건축물 또는 인공구조물\\n\\n나. 연면적 3만제곱미터 이상인 건축물\\n\\n다. 연면적 5천제곱미터 이상인 시설로서 다음의 어느 하나에 해당하는 시설\\n\\n1) 문화 및 집회시설(전시장 및 동물원ㆍ식물원은 제외한다)\\n\\n2) 판매시설, 운수시설(고속철도의 역사 및 집배송시설은 제외한다)\\n\\n3) 종교시설\\n\\n4) 의료시설 중 종합병원\\n\\n5) 숙박시설 중 관광숙박시설\\n\\n6) 지하도상가\\n\\n7) 냉동ㆍ냉장 창고시설\\n\\n2. 연면적 5천제곱미터 이상인 냉동ㆍ냉장 창고시설의 설비공사 및 단열공사\\n\\n3. 최대 지간(支間)길이(다리의 기둥과 기둥의 중심사이의 거리)가 50미터 이상인 다리의 건\\n\\n설등 공사\\n\\n4. 터널의 건설등 공사\\n\\n5. 다목적댐, 발전용댐, 저수용량 2천만톤 이상의 용수 전용 댐 및 지방상수도 전용 댐의 건설\\n\\n등 공사\\n\\n6. 깊이 10미터 이상인 굴착공사\\n \\n\\n제43조(공정안전보고서의 제출 대상) ① 법 제44조제1항 전단에서 “대통령령으로 정하는 유\\n\\n해하거나 위험한 설비”란 다음 각 호의 어느 하나에 해당하는 사업을 하는 사업장의 경우에\\n\\n는 그 보유설비를 말하고, 그 외의 사업을 하는 사업장의 경우에는 별표 13에 따른 유해ㆍ위험\\n\\n물질 중 하나 이상의 물질을 같은 표에 따른 규정량 이상 제조ㆍ취급ㆍ저장하는 설비 및 그 설\\n\\n비의 운영과 관련된 모든 공정설비를 말한다.\\n\\n1. 원유 정제처리업\\n\\n2. 기타 석유정제물 재처리업\\n\\n3. 석유화학계 기초화학물질 제조업 또는 합성수지 및 기타 플라스틱물질 제조업. 다만, 합성\\n\\n수지 및 기타 플라스틱물질 제조업은 별표 13 제1호 또는 제2호에 해당하는 경우로 한정한\\n\\n다.\\n\\n4. 질소 화합물, 질소ㆍ인산 및 칼리질 화학비료 제조업 중 질소질 비료 제조\\n\\n5. 복합비료 및 기타 화학비료 제조업 중 복합비료 제조(단순혼합 또는 배합에 의한 경우는 제\\n\\n외한다)\\n\\n6. 화학 살균ㆍ살충제 및 농업용 약제 제조업[농약 원제(原劑) 제조만 해당한다]\\n\\n\\n\\n법제처                                                            18                                                       국가법령정보센터\\n\\n「산업안전보건법 시행령」\\n\\n7. 화약 및 불꽃제품 제조업\\n\\n② 제1항에도 불구하고 다음 각 호의 설비는 유해하거나 위험한 설비로 보지 않는다.\\n\\n1. 원자력 설비\\n\\n2. 군사시설\\n\\n3. 사업주가 해당 사업장 내에서 직접 사용하기 위한 난방용 연료의 저장설비 및 사용설비\\n\\n4. 도매ㆍ소매시설\\n\\n5. 차량 등의 운송설비\\n\\n6. 「액화석유가스의 안전관리 및 사업법」에 따른 액화석유가스의 충전ㆍ저장시설\\n\\n7. 「도시가스사업법」에 따른 가스공급시설\\n\\n8. 그 밖에 고용노동부장관이 누출ㆍ화재ㆍ폭발 등의 사고가 있더라도 그에 따른 피해의 정도\\n\\n가 크지 않다고 인정하여 고시하는 설비\\n\\n③ 법 제44조제1항 전단에서 “대통령령으로 정하는 사고”란 다음 각 호의 어느 하나에 해당\\n\\n하는 사고를 말한다.\\n\\n1. 근로자가 사망하거나 부상을 입을 수 있는 제1항에 따른 설비(제2항에 따른 설비는 제외한\\n\\n다. 이하 제2호에서 같다)에서의 누출ㆍ화재ㆍ폭발 사고\\n\\n2. 인근 지역의 주민이 인적 피해를 입을 수 있는 제1항에 따른 설비에서의 누출ㆍ화재ㆍ폭발\\n\\n사고\\n \\n\\n제44조(공정안전보고서의 내용) ① 법 제44조제1항 전단에 따른 공정안전보고서에는 다음 각\\n\\n호의 사항이 포함되어야 한다.\\n\\n1. 공정안전자료\\n\\n2. 공정위험성 평가서\\n\\n3. 안전운전계획\\n\\n4. 비상조치계획\\n\\n5. 그 밖에 공정상의 안전과 관련하여 고용노동부장관이 필요하다고 인정하여 고시하는 사항\\n\\n② 제1항제1호부터 제4호까지의 규정에 따른 사항에 관한 세부 내용은 고용노동부령으로 정\\n\\n한다.\\n \\n\\n제45조(공정안전보고서의 제출) ① 사업주는 제43조에 따른 유해하거나 위험한 설비를 설치(기\\n\\n존 설비의 제조ㆍ취급ㆍ저장 물질이 변경되거나 제조량ㆍ취급량ㆍ저장량이 증가하여 별표\\n\\n13에 따른 유해ㆍ위험물질 규정량에 해당하게 된 경우를 포함한다)ㆍ이전하거나 고용노동부\\n\\n장관이 정하는 주요 구조부분을 변경할 때에는 고용노동부령으로 정하는 바에 따라 법 제44조\\n\\n제1항 전단에 따른 공정안전보고서를 작성하여 고용노동부장관에게 제출해야 한다. 이 경우\\n\\n「화학물질관리법」에 따라 사업주가 환경부장관에게 제출해야 하는 같은 법 제23조에 따른\\n\\n화학사고예방관리계획서의 내용이 제44조에 따라 공정안전보고서에 포함시켜야 할 사항에 해\\n\\n당하는 경우에는 그 해당 부분에 대한 작성ㆍ제출을 같은 법 제23조에 따른 화학사고예방관리\\n\\n계획서 사본의 제출로 갈음할 수 있다. <개정 2020. 9. 8.>\\n\\n\\n\\n법제처                                                            19                                                       국가법령정보센터\\n\\n「산업안전보건법 시행령」\\n\\n② 제1항 전단에도 불구하고 사업주가 제출해야 할 공정안전보고서가 「고압가스 안전관리법\\n\\n」 제2조에 따른 고압가스를 사용하는 단위공정 설비에 관한 것인 경우로서 해당 사업주가 같\\n\\n은 법 제11조에 따른 안전관리규정과 같은 법 제13조의2에 따른 안전성향상계획을 작성하여\\n\\n공단 및 같은 법 제28조에 따른 한국가스안전공사가 공동으로 검토ㆍ작성한 의견서를 첨부하\\n\\n여 허가 관청에 제출한 경우에는 해당 단위공정 설비에 관한 공정안전보고서를 제출한 것으로\\n\\n본다.\\n \\n\\n제46조(안전보건진단의 종류 및 내용) ① 법 제47조제1항에 따른 안전보건진단(이하 “안전보\\n\\n건진단”이라 한다)의 종류 및 내용은 별표 14와 같다.\\n\\n② 고용노동부장관은 법 제47조제1항에 따라 안전보건진단 명령을 할 경우 기계ㆍ화공ㆍ전기\\n\\nㆍ건설 등 분야별로 한정하여 진단을 받을 것을 명할 수 있다.\\n\\n③ 안전보건진단 결과보고서에는 산업재해 또는 사고의 발생원인, 작업조건ㆍ작업방법에 대\\n\\n한 평가 등의 사항이 포함되어야 한다.\\n \\n\\n제47조(안전보건진단기관의 지정 요건) 법 제48조제1항에 따라 안전보건진단기관으로 지정받\\n\\n으려는 자는 법인으로서 제46조제1항 및 별표 14에 따른 안전보건진단 종류별로 종합진단기\\n\\n관은 별표 15, 안전진단기관은 별표 16, 보건진단기관은 별표 17에 따른 인력ㆍ시설 및 장비\\n\\n등의 요건을 각각 갖추어야 한다.\\n \\n\\n제48조(안전보건진단기관의 지정 취소 등의 사유) 법 제48조제4항에 따라 준용되는 법 제21조\\n\\n제4항제5호에서 “대통령령으로 정하는 사유에 해당하는 경우”란 다음 각 호의 경우를 말한\\n\\n다.\\n\\n1. 안전보건진단 업무 관련 서류를 거짓으로 작성한 경우\\n\\n2. 정당한 사유 없이 안전보건진단 업무의 수탁을 거부한 경우\\n\\n3. 제47조에 따른 인력기준에 해당하지 않은 사람에게 안전보건진단 업무를 수행하게 한 경우\\n\\n4. 안전보건진단 업무를 수행하지 않고 위탁 수수료를 받은 경우\\n\\n5. 안전보건진단 업무와 관련된 비치서류를 보존하지 않은 경우\\n\\n6. 안전보건진단 업무 수행과 관련한 대가 외의 금품을 받은 경우\\n\\n7. 법에 따른 관계 공무원의 지도ㆍ감독을 거부ㆍ방해 또는 기피한 경우\\n \\n\\n제49조(안전보건진단을 받아 안전보건개선계획을 수립할 대상) 법 제49조제1항 각 호 외의 부\\n\\n분 후단에서 “대통령령으로 정하는 사업장”이란 다음 각 호의 사업장을 말한다.\\n\\n1. 산업재해율이 같은 업종 평균 산업재해율의 2배 이상인 사업장\\n\\n2. 법 제49조제1항제2호에 해당하는 사업장\\n\\n3. 직업성 질병자가 연간 2명 이상(상시근로자 1천명 이상 사업장의 경우 3명 이상) 발생한\\n\\n사업장\\n\\n4. 그 밖에 작업환경 불량, 화재ㆍ폭발 또는 누출 사고 등으로 사업장 주변까지 피해가 확산된\\n\\n사업장으로서 고용노동부령으로 정하는 사업장\\n\\n\\n\\n법제처                                                            20                                                       국가법령정보센터\\n\\n「산업안전보건법 시행령」\\n\\n제50조(안전보건개선계획 수립 대상) 법 제49조제1항제3호에서 “대통령령으로 정하는 수 이\\n\\n상의 직업성 질병자가 발생한 사업장”이란 직업성 질병자가 연간 2명 이상 발생한 사업장을\\n\\n말한다.\\n\\n \\n\\n            제5장 도급 시 산업재해 예방\\n \\n\\n제51조(도급승인 대상 작업) 법 제59조제1항 전단에서 “급성 독성, 피부 부식성 등이 있는 물\\n\\n질의 취급 등 대통령령으로 정하는 작업”이란 다음 각 호의 어느 하나에 해당하는 작업을 말\\n\\n한다.\\n\\n1. 중량비율 1퍼센트 이상의 황산, 불화수소, 질산 또는 염화수소를 취급하는 설비를 개조ㆍ분\\n\\n해ㆍ해체ㆍ철거하는 작업 또는 해당 설비의 내부에서 이루어지는 작업. 다만, 도급인이 해당\\n\\n화학물질을 모두 제거한 후 증명자료를 첨부하여 고용노동부장관에게 신고한 경우는 제외한\\n\\n다.\\n\\n2.  그 밖에 「산업재해보상보험법」 제8조제1항에 따른 산업재해보상보험및예방심의위원회\\n\\n(이하 “산업재해보상보험및예방심의위원회”라 한다)의 심의를 거쳐 고용노동부장관이 정\\n\\n하는 작업\\n \\n\\n제52조(안전보건총괄책임자 지정 대상사업) 법 제62조제1항에 따른 안전보건총괄책임자(이하\\n\\n“안전보건총괄책임자”라 한다)를 지정해야 하는 사업의 종류 및 사업장의 상시근로자 수는\\n\\n관계수급인에게 고용된 근로자를 포함한 상시근로자가 100명(선박 및 보트 건조업, 1차 금속\\n\\n제조업 및 토사석 광업의 경우에는 50명) 이상인 사업이나 관계수급인의 공사금액을 포함한\\n\\n해당 공사의 총공사금액이 20억원 이상인 건설업으로 한다.\\n \\n\\n제53조(안전보건총괄책임자의 직무 등) ① 안전보건총괄책임자의 직무는'"
      ]
     },
     "metadata": {},
     "output_type": "display_data"
    },
    {
     "name": "stdout",
     "output_type": "stream",
     "text": [
      "relatedness=0.837\n"
     ]
    },
    {
     "data": {
      "text/plain": [
       "'제공하는 자의 건강 유지ㆍ증진을 위하여 설치된 근로\\n\\n자건강센터(이하 “근로자건강센터”라 한다)에서 실시하는 안전보건교육, 건강상담, 건강관\\n\\n리프로그램 등 근로자 건강관리 활동에 해당 사업장의 근로자를 참여하게 한 경우에는 해당\\n\\n시간을 제26조제1항에 따른 교육 중 해당 분기(관리감독자의 지위에 있는 사람의 경우 해당\\n\\n연도)의 근로자 정기교육 시간에서 면제할 수 있다. 이 경우 사업주는 해당 사업장의 근로자가\\n\\n근로자건강센터에서 실시하는 건강관리 활동에 참여한 사실을 입증할 수 있는 서류를 갖춰 두\\n\\n어야 한다.\\n\\n③ 법 제30조제1항제3호에 따라 관리감독자가 다음 각 호의 어느 하나에 해당하는 교육을 이\\n\\n수한 경우 별표 4에서 정한 근로자 정기교육시간을 면제할 수 있다.\\n\\n1. 법 제32조제1항 각 호 외의 부분 본문에 따라 영 제40조제3항에 따른 직무교육기관(이하\\n\\n“직무교육기관”이라 한다)에서 실시한 전문화교육\\n\\n2. 법 제32조제1항 각 호 외의 부분 본문에 따라 직무교육기관에서 실시한 인터넷 원격교육\\n\\n3. 법 제32조제1항 각 호 외의 부분 본문에 따라 공단에서 실시한 안전보건관리담당자 양성교\\n\\n육\\n\\n\\n\\n법제처                                                            11                                                       국가법령정보센터\\n\\n「산업안전보건법 시행규칙」\\n\\n4. 법 제98조제1항제2호에 따른 검사원 성능검사 교육\\n\\n5. 그 밖에 고용노동부장관이 근로자 정기교육 면제대상으로 인정하는 교육\\n\\n④ 사업주는 법 제30조제2항에 따라 해당 근로자가 채용되거나 변경된 작업에 경험이 있을 경\\n\\n우 채용 시 교육 또는 특별교육 시간을 다음 각 호의 기준에 따라 실시할 수 있다.\\n\\n1. 「통계법」 제22조에 따라 통계청장이 고시한 한국표준산업분류의 세분류 중 같은 종류의\\n\\n업종에 6개월 이상 근무한 경험이 있는 근로자를 이직 후 1년 이내에 채용하는 경우: 별표\\n\\n4에서 정한 채용 시 교육시간의 100분의 50 이상\\n\\n2. 별표 5의 특별교육 대상작업에 6개월 이상 근무한 경험이 있는 근로자가 다음 각 목의 어느\\n\\n하나에 해당하는 경우: 별표 4에서 정한 특별교육 시간의 100분의 50 이상\\n\\n가. 근로자가 이직 후 1년 이내에 채용되어 이직 전과 동일한 특별교육 대상작업에 종사하는\\n\\n경우\\n\\n나. 근로자가 같은 사업장 내 다른 작업에 배치된 후 1년 이내에 배치 전과 동일한 특별교육\\n\\n대상작업에 종사하는 경우\\n\\n3. 채용 시 교육 또는 특별교육을 이수한 근로자가 같은 도급인의 사업장 내에서 이전에 하던\\n\\n업무와 동일한 업무에 종사하는 경우: 소속 사업장의 변경에도 불구하고 해당 근로자에 대한\\n\\n채용 시 교육 또는 특별교육 면제\\n\\n4. 그 밖에 고용노동부장관이 채용 시 교육 또는 특별교육 면제 대상으로 인정하는 교육\\n \\n\\n제28조(건설업 기초안전보건교육의 시간ㆍ내용 및 방법 등) ① 법 제31조제1항에 따라 건설 일\\n\\n용근로자를 채용할 때 실시하는 안전보건교육(이하 “건설업 기초안전보건교육”이라 한다\\n\\n)의 교육시간은 별표 4에 따르고, 교육내용은 별표 5에 따른다.\\n\\n② 건설업 기초안전보건교육을 하기 위하여 등록한 기관(이하 “건설업 기초안전ㆍ보건교육\\n\\n기관”이라 한다)이 건설업 기초안전보건교육을 할 때에는 별표 5의 교육내용에 적합한 교육\\n\\n교재를 사용해야 하고, 영 별표 11의 인력기준에 적합한 사람을 배치해야 한다.\\n\\n③ 제1항 및 제2항에서 정한 사항 외에 교육생 관리 등 교육에 필요한 사항은 고용노동부장관\\n\\n이 정하여 고시한다.\\n \\n\\n제29조(안전보건관리책임자 등에 대한 직무교육) ① 법 제32조제1항 각 호 외의 부분 본문에\\n\\n따라 다음 각 호의 어느 하나에 해당하는 사람은 해당 직위에 선임(위촉의 경우를 포함한다.\\n\\n이하 같다)되거나 채용된 후 3개월(보건관리자가 의사인 경우는 1년을 말한다) 이내에 직무\\n\\n를 수행하는 데 필요한 신규교육을 받아야 하며, 신규교육을 이수한 후 매 2년이 되는 날을 기\\n\\n준으로 전후 3개월 사이에 고용노동부장관이 실시하는 안전보건에 관한 보수교육을 받아야\\n\\n한다.\\n\\n1. 법 제15조제1항에 따른 안전보건관리책임자\\n\\n2. 법 제17조제1항에 따른 안전관리자(「기업활동 규제완화에 관한 특별조치법」 제30조제\\n\\n3항에 따라 안전관리자로 채용된 것으로 보는 사람을 포함한다)\\n\\n\\n\\n법제처                                                            12                                                       국가법령정보센터\\n\\n「산업안전보건법 시행규칙」\\n\\n3. 법 제18조제1항에 따른 보건관리자\\n\\n4. 법 제19조제1항에 따른 안전보건관리담당자\\n\\n5. 법 제21조제1항에 따른 안전관리전문기관 또는 보건관리전문기관에서 안전관리자 또는 보\\n\\n건관리자의 위탁 업무를 수행하는 사람\\n\\n6. 법 제74조제1항에 따른 건설재해예방전문지도기관에서 지도업무를 수행하는 사람\\n\\n7. 법 제96조제1항에 따라 지정받은 안전검사기관에서 검사업무를 수행하는 사람\\n\\n8. 법 제100조제1항에 따라 지정받은 자율안전검사기관에서 검사업무를 수행하는 사람\\n\\n9. 법 제120조제1항에 따른 석면조사기관에서 석면조사 업무를 수행하는 사람\\n\\n② 제1항에 따른 신규교육 및 보수교육(이하 “직무교육”이라 한다)의 교육시간은 별표 4와\\n\\n같고, 교육내용은 별표 5와 같다.\\n\\n③ 직무교육을 실시하기 위한 집체교육, 현장교육, 인터넷원격교육 등의 교육 방법, 직무교육\\n\\n기관의 관리, 그 밖에 교육에 필요한 사항은 고용노동부장관이 정하여 고시한다.\\n \\n\\n제30조(직무교육의 면제) ① 법 제32조제1항 각 호 외의 부분 단서에 따라 다음 각 호의 어느\\n\\n하나에 해당하는 사람에 대해서는 직무교육 중 신규교육을 면제한다.\\n\\n1. 법 제19조제1항에 따른 안전보건관리담당자\\n\\n2. 영 별표 4 제6호에 해당하는 사람\\n\\n3. 영 별표 4 제7호에 해당하는 사람\\n\\n② 영 별표 4 제8호 각 목의 어느 하나에 해당하는 사람, 「기업활동 규제완화에 관한 특별조\\n\\n치법」 제30조제3항제4호 또는 제5호에 따라 안전관리자로 채용된 것으로 보는 사람, 보건관\\n\\n리자로서 영 별표 6 제2호 또는 제3호에 해당하는 사람이 해당 법령에 따른 교육기관에서 제\\n\\n29조제2항의 교육내용 중 고용노동부장관이 정하는 내용이 포함된 교육을 이수하고 해당 교\\n\\n육기관에서 발행하는 확인서를 제출하는 경우에는 직무교육 중 보수교육을 면제한다.\\n\\n③ 제29조제1항 각 호의 어느 하나에 해당하는 사람이 고용노동부장관이 정하여 고시하는 안\\n\\n전ㆍ보건에 관한 교육을 이수한 경우에는 직무교육 중 보수교육을 면제한다.\\n \\n\\n제31조(안전보건교육기관 등록신청 등) ① 영 제40조제1항 및 제3항에 따라 안전보건교육기관\\n\\n으로 등록하려는 자는 다음 각 호의 구분에 따라 관련 서류를 첨부하여 주된 사무소의 소재지\\n\\n를 관할하는 지방고용노동청장에게 제출해야 한다.\\n\\n1. 영 제40조제1항에 따라 근로자안전보건교육기관으로 등록하려는 자: 별지 제9호서식의 근\\n\\n로자안전보건교육기관 등록 신청서에 다음 각 목의 서류를 첨부\\n\\n가.  영 제40조제1항에 따른 법인 또는 산업안전보건관련 학과가 있는 「고등교육법」 제\\n\\n2조에 따른 학교에 해당함을 증명하는 서류\\n\\n나. 영 별표 10에 따른 인력기준을 갖추었음을 증명할 수 있는 자 격증(국가기술자격증은 제\\n\\n외한다), 졸업증명서, 경력증명서 또는 재직증명서 등 서류\\n\\n다. 영 별표 10에 따른 시설 및 장비 기준을 갖추었음을 증명할 수 있는 서류와 시설ㆍ장비\\n\\n명세서\\n\\n\\n\\n법제처                                                            13                                                       국가법령정보센터\\n\\n「산업안전보건법 시행규칙」\\n\\n라. 최초 1년간의 교육사업계획서\\n\\n2. 영 제40조제3항에 따라 직무교육기관으로 등록하려는 자: 별지 제10호서식의 직무교육기\\n\\n관 등록 신청서에 다음 각 목의 서류를 첨부\\n\\n가. 영 제40조제3항 각 호의 어느 하나에 해당함을 증명하는 서류\\n\\n나. 영 별표 12에 따른 인력기준을 갖추었음을 증명할 수 있는 자격증(국가기술자격증은 제\\n\\n외한다), 졸업증명서, 경력증명서 또는 재직증명서 등 서류\\n\\n다. 영 별표 12에 따른 시설 및 장비 기준을 갖추었음을 증명할 수 있는 서류와 시설ㆍ장비\\n\\n명세서\\n\\n라. 최초 1년간의 교육사업계획서\\n\\n② 제1항에 따른 신청서를 제출받은 지방고용노동청장은 「전자정부법」 제36조제1항에 따\\n\\n른 행정정보의 공동이용을 통하여 다음 각 호의 서류를 확인해야 한다. 다만, 신청인이 제1호\\n\\n및 제3호의 서류의 확인에 동의하지 않는 경우에는 그 사본을 첨부하도록 해야 한다.\\n\\n1. 국가기술자격증\\n\\n2. 법인등기사항증명서(법인만 해당한다)\\n\\n3. 사업자등록증(개인만 해당한다)\\n\\n③ 지방고용노동청장은 제1항에 따른 등록 신청이 영 제40조제1항 또는 제3항에 따른 등록\\n\\n요건에 적합하다고 인정되면 그 신청서를 받은 날부터 20일 이내에 별지 제11호서식 또는 별\\n\\n지 제12호서식의 근로자안전보건교육기관 등록증 또는 직무교육기관 등록증을 신청인에게 발\\n\\n급해야 한다.\\n\\n④ 제3항에 따라 등록증을 발급받은 사람이 등록증을 분실하거나 등록증이 훼손된 경우에는\\n\\n재발급 신청을 할 수 있다.\\n\\n⑤ 법 제33조제1항에 따라 안전보건교육기관이 등록받은 사항을 변경하려는 경우에는 별지\\n\\n제9호서식 또는 별지 제10호서식의 변경등록 신청서에 변경내용을 증명하는 서류와 등록증을\\n\\n첨부하여 지방고용노동청장에게 제출해야 한다. 이 경우 변경등록신청서의 처리에 관하여는\\n\\n제3항을 준용한다.\\n\\n⑥ 안전보건교육기관이 해당 업무를 폐지하거나 등록이 취소된 경우 지체 없이 제3항 및 제\\n\\n5항에 따른 등록증을 지방고용노동청장에게 반납해야 한다.\\n \\n\\n제32조(안전보건교육기관의 평가 등) ① 공단이 법 제33조제2항에 따라 안전보건교육기관을\\n\\n평가하는 기준은 다음 각 호와 같다.\\n\\n1. 인력ㆍ시설 및 장비의 보유수준과 활용도\\n\\n2. 교육과정의 운영체계 및 업무성과\\n\\n3. 교육서비스의 적정성 및 만족도\\n\\n② 제1항에 따른 안전보건교육기관에 대한 평가 방법 및 평가 결과의 공개에 관하여는 제17조\\n\\n제2항부터 제8항까지의 규정을 준용한다. 이 경우 “안전관리전문기관 또는 보건관리전문기\\n\\n관”은 “안전보건교육기관”으로 본다.\\n\\n\\n\\n법제처                                                            14                                                       국가법령정보센터\\n\\n「산업안전보건법 시행규칙」\\n\\n제33조(건설업 기초안전ㆍ보건교육기관의 등록신청 등) ① 건설업 기초안전ㆍ보건교육기관으\\n\\n로 등록하려는 자는 별지 제13호서식의 건설업 기초안전ㆍ보건교육기관 등록신청서에 다음\\n\\n각 호의 서류를 첨부하여 공단에 제출해야 한다.\\n\\n1. 영 제40조제2항의 자격에 해당함을 증명하는 서류\\n\\n2. 영 별표 11에 따른 인력기준을 갖추었음을 증명할 수 있는 자격증(국가기술자격증은 제외\\n\\n한다), 졸업증명서, 경력증명서 및 재직증명서 등 서류\\n\\n3. 영 별표 11에 따른 시설ㆍ장비기준을 갖추었음을 증명할 수 있는 서류와 시설ㆍ장비 명세\\n\\n서\\n\\n② 제1항에 따른 등록신청서를 제출받은 공단은 「전자정부법」 제36조제1항에 따른 행정정\\n\\n보의 공동이용을 통하여 다음 각 호의 서류를 확인해야 한다. 다만, 제1호 및 제3호의 서류의\\n\\n경우 신청인이 그 확인에 동의하지 않으면 그 사본을 첨부하도록 해야 한다.\\n\\n1. 국가기술자격증\\n\\n2. 법인등기사항증명서(법인만 해당한다)\\n\\n3. 사업자등록증(개인만 해당한다)\\n\\n③ 공단은 제1항에 따른 등록신청서를 접수한 경우 접수일부터 15일 이내에 영 제40조제2항\\n\\n에 따른 요건에 적합한지를 확인하고 적합한 경우 그 결과를 고용노동부장관에게 보고해야 한\\n\\n다.\\n\\n④ 고용노동부장관은 제3항에 따른 보고를 받은 날부터 7일 이내에 등록 적합 여부를 공단에\\n\\n통보해야 하고, 공단은 등록이 적합하다는 통보를 받은 경우 지체 없이 별지 제14호서식의 건\\n\\n설업 기초안전ㆍ보건교육기관 등록증을 신청인에게 발급해야 한다.\\n\\n⑤ 건설업 기초안전ㆍ보건교육기관이 등록사항을 변경하려는 경우에는 별지 제13호서식의 건\\n\\n설업 기초안전ㆍ보건교육기관 변경신청서에 변경내용을 증명하는 서류 및 등록증(등록증의\\n\\n기재사항에 변경이 있는 경우만 해당한다)을 첨부하여 공단에 제출해야 한다.\\n\\n⑥ 제5항에 따른 등록 변경에 관하여는 제3항 및 제4항을 준용한다. 다만, 고용노동부장관이\\n\\n정하는 경미한 사항의 경우 공단은 변경내용을 확인한 후 적합한 경우에는 지체 없이 등록사\\n\\n항을 변경하고, 등록증을 변경하여 발급(등록증의 기재사항에 변경이 있는 경우만 해당한다\\n\\n)할 수 있다.\\n \\n\\n제34조(건설업 기초안전ㆍ보건교육기관 등록 취소 등) ① 공단은 법 제33조제4항에 따른 취소\\n\\n등 사유에 해당하는 사실을 확인한 경우에는 그 사실을 증명할 수 있는 서류를 첨부하여 해당\\n\\n등록기관의 주된 사무소의 소재지를 관할하는 지방고용노동관서의 장에게 보고해야 한다.\\n\\n② 지방고용노동관서의 장은 법 제33조제4항에 따라 등록 취소 등을 한 경우에는 그 사실을\\n\\n공단에 통보해야 한다.\\n \\n\\n제35조(직무교육의 신청 등) ① 직무교육을 받으려는 자는 별지 제15호서식의 직무교육 수강신\\n\\n청서를 직무교육기관의 장에게 제출해야 한다.\\n\\n\\n\\n법제처                                                            15                                                       국가법령정보센터\\n\\n「산업안전보건법 시행규칙」\\n\\n② 직무교육기관의 장은 직무교육을 실시하기 15일 전까지 교육 일시 및 장소 등을 직무교육\\n\\n대상자에게 알려야 한다.\\n\\n③ 직무교육을 이수한 사람이 다른 사업장으로 전직하여 신규로 선임되어 선임신고를 하는 경\\n\\n우에는 전직 전에 받은 교육이수증명서를 제출하면 해당 교육을 이수한 것으로 본다.\\n\\n④ 직무교육기관의 장이 직무교육을 실시하려는 경우에는 매년 12월 31일까지 다음 연도의\\n\\n교육 실시계획서를 고용노동부장관에게 제출(전자문서로 제출하는 것을 포함한다)하여 승인\\n\\n을 받아야 한다.\\n \\n\\n제36조(교재 등) ① 사업주 또는 법 제33조제1항에 따른 안전보건교육기관이 법 제29조ㆍ제'"
      ]
     },
     "metadata": {},
     "output_type": "display_data"
    },
    {
     "name": "stdout",
     "output_type": "stream",
     "text": [
      "relatedness=0.836\n"
     ]
    },
    {
     "data": {
      "text/plain": [
       "'                  20                                                       국가법령정보센터\\n\\n「산업안전보건법 시행규칙」\\n\\n1. 공정안전자료\\n\\n가. 취급ㆍ저장하고 있거나 취급ㆍ저장하려는 유해ㆍ위험물질의 종류 및 수량\\n\\n나. 유해ㆍ위험물질에 대한 물질안전보건자료\\n\\n다. 유해하거나 위험한 설비의 목록 및 사양\\n\\n라. 유해하거나 위험한 설비의 운전방법을 알 수 있는 공정도면\\n\\n마. 각종 건물ㆍ설비의 배치도\\n\\n바. 폭발위험장소 구분도 및 전기단선도\\n\\n사. 위험설비의 안전설계ㆍ제작 및 설치 관련 지침서\\n\\n2.  공정위험성평가서  및  잠재위험에  대한  사고예방ㆍ피해  최소화  대책(공정위험성평가서는\\n\\n공정의 특성 등을 고려하여 다음 각 목의 위험성평가 기법 중 한 가지 이상을 선정하여 위험\\n\\n성평가를 한 후 그 결과에 따라 작성해야 하며, 사고예방ㆍ피해최소화 대책은 위험성평가 결\\n\\n과 잠재위험이 있다고 인정되는 경우에만 작성한다)\\n\\n가. 체크리스트(Check List)\\n\\n나. 상대위험순위 결정(Dow and Mond Indices)\\n\\n다. 작업자 실수 분석(HEA)\\n\\n라. 사고 예상 질문 분석(What-if)\\n\\n마. 위험과 운전 분석(HAZOP)\\n\\n바. 이상위험도 분석(FMECA)\\n\\n사. 결함 수 분석(FTA)\\n\\n아. 사건 수 분석(ETA)\\n\\n자. 원인결과 분석(CCA)\\n\\n차. 가목부터 자목까지의 규정과 같은 수준 이상의 기술적 평가기법\\n\\n3. 안전운전계획\\n\\n가. 안전운전지침서\\n\\n나. 설비점검ㆍ검사 및 보수계획, 유지계획 및 지침서\\n\\n다. 안전작업허가\\n\\n라. 도급업체 안전관리계획\\n\\n마. 근로자 등 교육계획\\n\\n바. 가동 전 점검지침\\n\\n사. 변경요소 관리계획\\n\\n아. 자체감사 및 사고조사계획\\n\\n자. 그 밖에 안전운전에 필요한 사항\\n\\n4. 비상조치계획\\n\\n가. 비상조치를 위한 장비ㆍ인력 보유현황\\n\\n나. 사고발생 시 각 부서ㆍ관련 기관과의 비상연락체계\\n\\n\\n\\n법제처                                                            21                                                       국가법령정보센터\\n\\n「산업안전보건법 시행규칙」\\n\\n다. 사고발생 시 비상조치를 위한 조직의 임무 및 수행 절차\\n\\n라. 비상조치계획에 따른 교육계획\\n\\n마. 주민홍보계획\\n\\n바. 그 밖에 비상조치 관련 사항\\n\\n② 공정안전보고서의 세부내용별 작성기준, 작성자 및 심사기준, 그 밖에 심사에 필요한 사항\\n\\n은 고용노동부장관이 정하여 고시한다.\\n \\n\\n제51조(공정안전보고서의 제출 시기) 사업주는 영 제45조제1항에 따라 유해하거나 위험한 설\\n\\n비의 설치ㆍ이전 또는 주요 구조부분의 변경공사의 착공일(기존 설비의 제조ㆍ취급ㆍ저장 물\\n\\n질이 변경되거나 제조량ㆍ취급량ㆍ저장량이 증가하여 영 별표 13에 따른 유해ㆍ위험물질 규\\n\\n정량에 해당하게 된 경우에는 그 해당일을 말한다) 30일 전까지 공정안전보고서를 2부 작성\\n\\n하여 공단에 제출해야 한다.\\n \\n\\n제52조(공정안전보고서의 심사 등) ① 공단은 제51조에 따라 공정안전보고서를 제출받은 경우\\n\\n에는 제출받은 날부터 30일 이내에 심사하여 1부를 사업주에게 송부하고, 그 내용을 지방고용\\n\\n노동관서의 장에게 보고해야 한다.\\n\\n② 공단은 제1항에 따라 공정안전보고서를 심사한 결과 「위험물안전관리법」에 따른 화재의\\n\\n예방ㆍ소방 등과 관련된 부분이 있다고 인정되는 경우에는 그 관련 내용을 관할 소방관서의\\n\\n장에게 통보해야 한다.\\n \\n\\n제53조(공정안전보고서의 확인 등) ① 공정안전보고서를 제출하여 심사를 받은 사업주는 법 제\\n\\n46조제2항에 따라 다음 각 호의 시기별로 공단의 확인을 받아야 한다. 다만, 화공안전 분야 산\\n\\n업안전지도사, 대학에서 조교수 이상으로 재직하고 있는 사람으로서 화공 관련 교과를 담당하\\n\\n고 있는 사람, 그 밖에 자격 및 관련 업무 경력 등을 고려하여 고용노동부장관이 정하여 고시\\n\\n하는 요건을 갖춘 사람에게 제50조제3호아목에 따른 자체감사를 하게 하고 그 결과를 공단에\\n\\n제출한 경우에는 공단의 확인을 생략할 수 있다.\\n\\n1. 신규로 설치될 유해하거나 위험한 설비에 대해서는 설치 과정 및 설치 완료 후 시운전단계\\n\\n에서 각 1회\\n\\n2. 기존에 설치되어 사용 중인 유해하거나 위험한 설비에 대해서는 심사 완료 후 3개월 이내\\n\\n3. 유해하거나 위험한 설비와 관련한 공정의 중대한 변경이 있는 경우에는 변경 완료 후 1개월\\n\\n이내\\n\\n4. 유해하거나 위험한 설비 또는 이와 관련된 공정에 중대한 사고 또는 결함이 발생한 경우에\\n\\n는 1개월 이내. 다만, 법 제47조에 따른 안전보건진단을 받은 사업장 등 고용노동부장관이\\n\\n정하여 고시하는 사업장의 경우에는 공단의 확인을 생략할 수 있다.\\n\\n② 공단은 사업주로부터 확인요청을 받은 날부터 1개월 이내에 제50조제1호부터 제4호까지\\n\\n의 내용이 현장과 일치하는지 여부를 확인하고, 확인한 날부터 15일 이내에 그 결과를 사업주\\n\\n에게 통보하고 지방고용노동관서의 장에게 보고해야 한다.\\n\\n\\n\\n법제처                                                            22                                                       국가법령정보센터\\n\\n「산업안전보건법 시행규칙」\\n\\n③ 제1항 및 제2항에 따른 확인의 절차 등에 관하여 필요한 사항은 고용노동부장관이 정하여\\n\\n고시한다.\\n \\n\\n제54조(공정안전보고서 이행 상태의 평가) ① 법 제46조제4항에 따라 고용노동부장관은 같은\\n\\n조 제2항에 따른 공정안전보고서의 확인(신규로 설치되는 유해하거나 위험한 설비의 경우에\\n\\n는 설치 완료 후 시운전 단계에서의 확인을 말한다) 후 1년이 지난 날부터 2년 이내에 공정안\\n\\n전보고서 이행 상태의 평가(이하 “이행상태평가”라 한다)를 해야 한다.\\n\\n② 고용노동부장관은 제1항에 따른 이행상태평가 후 4년마다 이행상태평가를 해야 한다. 다만\\n\\n, 다음 각 호의 어느 하나에 해당하는 경우에는 1년 또는 2년마다 이행상태평가를 할 수 있다.\\n\\n1. 이행상태평가 후 사업주가 이행상태평가를 요청하는 경우\\n\\n2. 법 제155조에 따라 사업장에 출입하여 검사 및 안전ㆍ보건점검 등을 실시한 결과 제50조\\n\\n제1항제3호사목에 따른 변경요소 관리계획 미준수로 공정안전보고서 이행상태가 불량한 것\\n\\n으로 인정되는 경우 등 고용노동부장관이 정하여 고시하는 경우\\n\\n③ 이행상태평가는 제50조제1항 각 호에 따른 공정안전보고서의 세부내용에 관하여 실시한다\\n\\n.\\n\\n④ 이행상태평가의 방법 등 이행상태평가에 필요한 세부적인 사항은 고용노동부장관이 정한\\n\\n다.\\n \\n\\n제55조(안전보건진단 명령) 법 제47조제1항에 따른 안전보건진단 명령은 별지 제25호서식에\\n\\n따른다.\\n \\n\\n제56조(안전보건진단 의뢰) 법 제47조제2항에 따라 안전보건진단 명령을 받은 사업주는 15일\\n\\n이내에 안전보건진단기관에 안전보건진단을 의뢰해야 한다.\\n \\n\\n제57조(안전보건진단 결과의 보고) 법 제47조제2항에 따른 안전보건진단을 실시한 안전보건진\\n\\n단기관은 영 별표 14의 진단내용에 해당하는 사항에 대한 조사ㆍ평가 및 측정 결과와 그 개선\\n\\n방법이 포함된 보고서를 진단을 의뢰받은 날로부터 30일 이내에 해당 사업장의 사업주 및 관\\n\\n할 지방고용노동관서의 장에게 제출(전자문서로 제출하는 것을 포함한다)해야 한다.\\n \\n\\n제58조(안전보건진단기관의 평가 등) ① 법 제48조제2항에 따른 안전보건진단기관 평가의 기\\n\\n준은 다음 각 호와 같다.\\n\\n1. 인력ㆍ시설 및 장비의 보유 수준과 그에 대한 관리능력\\n\\n2. 유해위험요인의 평가ㆍ분석 충실성 등 안전보건진단 업무 수행능력\\n\\n3. 안전보건진단 대상 사업장의 만족도\\n\\n② 법 제48조제2항에 따른 안전보건진단기관 평가의 방법 및 평가 결과의 공개에 관하여는 제\\n\\n17조제2항부터 제8항까지의 규정을 준용한다. 이 경우 “안전관리전문기관 또는 보건관리전\\n\\n문기관”은 “안전보건진단기관”으로 본다.\\n \\n\\n\\n\\n법제처                                                            23                                                       국가법령정보센터\\n\\n「산업안전보건법 시행규칙」\\n\\n제59조(안전보건진단기관의 지정신청 등) ① 안전보건진단기관으로 지정받으려는 자는 법 제\\n\\n48조제3항에 따라 별지 제6호서식의 안전보건진단기관 지정신청서에 다음 각 호의 서류를 첨\\n\\n부하여 지방고용노동청장에게 제출(전자문서로 제출하는 것을 포함한다)해야 한다.\\n\\n1. 정관\\n\\n2. 영 별표 15, 별표 16 및 별표 17에 따른 인력기준에 해당하는 사람의 자격과 채용을 증명\\n\\n할 수 있는 자격증(국가기술자격증은 제외한다), 경력증명서 및 재직증명서 등의 서류\\n\\n3. 건물임대차계약서 사본이나 그 밖에 사무실의 보유를 증명할 수 있는 서류와 시설ㆍ장비 명\\n\\n세서\\n\\n4. 최초 1년간의 안전보건진단사업계획서\\n\\n② 제1항에 따라 신청서를 제출받은 지방고용노동청장은 「전자정부법」 제36조제1항에 따\\n\\n른 행정정보의 공동이용을 통하여 법인등기사항증명서 및 국가기술자격증을 확인해야 하며,\\n\\n신청인이 국가기술자격증의 확인에 동의하지 않는 경우에는 그 사본을 첨부하도록 해야 한다.\\n\\n③ 안전보건진단기관에 대한 지정서의 발급, 지정받은 사항의 변경, 지정서의 반납 등에 관하\\n\\n여는 제16조제3항부터 제6항까지의 규정을 준용한다. 이 경우 “안전관리전문기관 또는 보건\\n\\n관리전문기관”은 “안전보건진단기관”으로, “고용노동부장관 또는 지방고용노동청장”은\\n\\n“지방고용노동청장”으로 본다.\\n \\n\\n제60조(안전보건개선계획의 수립ㆍ시행 명령) 법 제49조제1항에 따른 안전보건개선계획의 수\\n\\n립ㆍ시행 명령은 별지 제26호서식에 따른다.\\n \\n\\n제61조(안전보건개선계획의 제출 등) ① 법 제50조제1항에 따라 안전보건개선계획서를 제출해\\n\\n야 하는 사업주는 법 제49조제1항에 따른 안전보건개선계획서 수립ㆍ시행 명령을 받은 날부\\n\\n터 60일 이내에 관할 지방고용노동관서의 장에게 해당 계획서를 제출(전자문서로 제출하는\\n\\n것을 포함한다)해야 한다.\\n\\n② 제1항에 따른 안전보건개선계획서에는 시설,  안전보건관리체제,  안전보건교육,  산업재해\\n\\n예방 및 작업환경의 개선을 위하여 필요한 사항이 포함되어야 한다.\\n \\n\\n제62조(안전보건개선계획서의 검토 등) ① 지방고용노동관서의 장이 제61조에 따른 안전보건\\n\\n개선계획서를 접수한 경우에는 접수일부터 15일 이내에 심사하여 사업주에게 그 결과를 알려\\n\\n야 한다.\\n\\n② 법 제50조제2항에 따라 지방고용노동관서의 장은 안전보건개선계획서에 제61조제2항에\\n\\n서 정한 사항이 적정하게 포함되어 있는지 검토해야 한다. 이 경우 지방고용노동관서의 장은\\n\\n안전보건개선계획서의 적정 여부 확인을 공단 또는 지도사에게 요청할 수 있다.\\n \\n\\n제63조(기계ㆍ설비 등에 대한 안전 및 보건조치) 법 제53조제1항에서 “안전 및 보건에 관하여\\n\\n고용노동부령으로 정하는 필요한 조치”란 다음 각 호의 어느 하나에 해당하는 조치를 말한다\\n\\n.\\n\\n\\n\\n법제처                                                            24                                                       국가법령정보센터\\n\\n「산업안전보건법 시행규칙」\\n\\n1. 안전보건규칙에서 건설물 또는 그 부속건설물ㆍ기계ㆍ기구ㆍ설비ㆍ원재료에 대하여 정하\\n\\n는 안전조치 또는 보건조치\\n\\n2. 법 제87조에 따른 안전인증대상기계등의 사용금지\\n\\n3. 법 제92조에 따른 자율안전확인대상기계등의 사용금지\\n\\n4. 법 제95조에 따른 안전검사대상기계등의 사용금지\\n\\n5. 법 제99조제2항에 따른 안전검사대상기계등의 사용금지\\n\\n6. 법 제117조제1항에 따른 제조등금지물질의 사용금지\\n\\n7. 법 제118조제1항에 따른 허가대상물질에 대한 허가의 취득\\n \\n\\n제64조(사용의 중지) ① 고용노동부장관이 법 제53조제1항에 따른 사용중지를 명하려는 경우\\n\\n에는 별지 제27호서식에 따른 사용중지명령서 또는 고용노동부장관이 정하는 표지(이하 “사\\n\\n용중지명령서등”이라 한다)를 발부하거나 부착할 수 있다.\\n\\n② 사업주는 제1항에 따라 사용중지명령서등을 받은 경우에는 관계 근로자에게 해당 사항을\\n\\n알려야 한다.\\n\\n③ 제1항에 따라 사용중지명령서를 받은 사업주는 발부받은 때부터 그 개선이 완료되어 고용\\n\\n노동부장관이 사용중지명령을 해제할 때까지 해당 건설물 또는 그 부속건설물 및 기계ㆍ기구\\n\\nㆍ설비ㆍ원재료를 사용해서는 안 된다.\\n\\n④ 사업주는 제1항에 따라 발부되거나 부착된 사용중지명령서등을 해당 건설물 또는 그 부속\\n\\n건설물 및 기계ㆍ기구ㆍ설비ㆍ원재료로부터 임의로 제거하거나 훼손해서는 안 된다.\\n\\n⑤ 지방고용노동관서의 장은 법 제53조제5항에 따라 사용중지를 해제하는 경우 그 내용을 사\\n\\n업주에게 알려주어야 한다.\\n \\n\\n제65조(작업의 중지) ① 고용노동부장관은 법 제53조제3항에 따라 작업의 전부 또는 일부 중지\\n\\n를 명하려는 경우에는 별지 제27호서식에 따른 작업중지명령서 또는 고용노동부장관이 정하\\n\\n는 표지(이하 “작업중지명령서등”이라 한다)를 발부하거나 부착할 수 있다.\\n\\n② 작업중지명령 고지 등에 관하여는 제64조제2항부터제5항까지를 준용한다. 이 경우 “사용\\n\\n중지명령서등”은 “작업중지명령서등”으로,  “사용중지명령서”는 “작업중지명령서”로,\\n\\n“사용중지”는 “작업중지”로 본다.\\n \\n\\n제66조(시정조치 명령서의 게시) 법 제53조제1항에 따라 이 법 위반으로 고용노동부장관의 시\\n\\n정조치 명령을 받은 사업주는 법 제53조제2항에 따라 해당 내용을 시정할 때까지 위반 장소\\n\\n또는 사내 게시판 등에 게시해야 한다.\\n \\n\\n제67조(중대재해 발생 시 보고) 사업주는 중대재해가 발생한 사실을 알게 된 경우에는 법 제\\n\\n54조제2항에 따라 지체 없이 다음 각 호의 사항을 사업장 소재지를 관할하는 지방고용노동관\\n\\n서의 장에게 전화ㆍ팩스 또는 그 밖의 적절한 방법으로 보고해야 한다.\\n\\n1. 발생 개요 및 피해 상황\\n\\n\\n\\n법제처                                                            25                                                       국가법령정보센터\\n\\n「산업안전보건법 시행규칙」\\n\\n2. 조치 및 전망\\n\\n3. 그 밖의 중요한 사항\\n \\n\\n제68조(작업중지명령서) 법 제55조제1항에 따라 작업중지를 명하는 경우에는 별지 제28호서\\n\\n식에 따른 작업중지명령서를 발부해야 한다.\\n \\n\\n'"
      ]
     },
     "metadata": {},
     "output_type": "display_data"
    }
   ],
   "source": [
    "\n",
    "# examples\n",
    "strings, relatednesses = strings_ranked_by_relatedness(\"안전보건교육에 관한 사항은 몇 조?\", df, top_n=5)\n",
    "for string, relatedness in zip(strings, relatednesses):\n",
    "    print(f\"{relatedness=:.3f}\")\n",
    "    display(string)"
   ]
  },
  {
   "cell_type": "markdown",
   "id": "b121fd40",
   "metadata": {},
   "source": [
    "#### 문의 ####\n",
    "위의 검색 함수를 이용하여, 이제 자동으로 관련 지식을 추출하여 GPT 에 메세지로 삽입\n",
    "아래 문의 함수 정의:\n",
    "- 사용자 질의를 입력 받음\n",
    "- 질의에 관련된 문서를 검색\n",
    "- GPT 에 메세지로 들어갈 Stuffs 생성\n",
    "- 메세지를 GPT 로 발송\n",
    "- GPT 답을 리턴"
   ]
  },
  {
   "cell_type": "code",
   "execution_count": 53,
   "id": "f93c2a4a",
   "metadata": {},
   "outputs": [],
   "source": [
    "def num_tokens(text: str, model: str = GPT_MODEL) -> int:\n",
    "    \"\"\"Return the number of tokens in a string.\"\"\"\n",
    "    encoding = tiktoken.encoding_for_model(model)\n",
    "    return len(encoding.encode(text))"
   ]
  },
  {
   "cell_type": "code",
   "execution_count": 54,
   "id": "0f0b9398",
   "metadata": {},
   "outputs": [],
   "source": [
    "from __future__ import annotations\n",
    "\n",
    "def query_message(\n",
    "    query: str,\n",
    "    df: pd.DataFrame,\n",
    "    model: str,\n",
    "    token_budget: int\n",
    ") -> str:\n",
    "    \"\"\"Return a message for GPT, with relevant source texts pulled from a dataframe.\"\"\"\n",
    "    strings, relatednesses = strings_ranked_by_relatedness(query, df)\n",
    "    introduction = '아래의 산업안전보건볍령을 사용하여 관련되는 질문에 응답하시오. 만약 문서로부터 질문을 발견하지 못하면 \"답을 찾지 못했습니다\" 라고 응답\"'\n",
    "    question = f\"\\n\\nQuestion: {query}\"\n",
    "    message = introduction\n",
    "    for string in strings:\n",
    "        next_article = f'\\n\\n산업안전보건법 내용:\\n\"\"\"\\n{string}\\n\"\"\"'\n",
    "        if (\n",
    "            num_tokens(message + next_article + question, model=model)\n",
    "            > token_budget\n",
    "        ):\n",
    "            break\n",
    "        else:\n",
    "            message += next_article\n",
    "    return message + question\n"
   ]
  },
  {
   "cell_type": "code",
   "execution_count": 55,
   "id": "5a759140",
   "metadata": {},
   "outputs": [],
   "source": [
    "from __future__ import annotations\n",
    "\n",
    "GPT_MODEL = 'gpt-3.5-turbo'\n",
    "\n",
    "def ask(\n",
    "    query: str,\n",
    "    df: pd.DataFrame = df,\n",
    "    model: str = GPT_MODEL,\n",
    "    token_budget: int = 4096 - 500,\n",
    "    print_message: bool = False,\n",
    ") -> str:\n",
    "    \"\"\"Answers a query using GPT and a dataframe of relevant texts and embeddings.\"\"\"\n",
    "    message = query_message(query, df, model=model, token_budget=token_budget)\n",
    "    if print_message:\n",
    "        print(message)\n",
    "    messages = [\n",
    "        {\"role\": \"system\", \"content\": \"당신은 이제 산업안전보건법령에 대한 문의에 답변을 제공하는 사람.\"},\n",
    "        {\"role\": \"user\", \"content\": message},\n",
    "    ]\n",
    "    response = openai.ChatCompletion.create(\n",
    "        model=model,\n",
    "        messages=messages,\n",
    "        temperature=0\n",
    "    )\n",
    "    response_message = response[\"choices\"][0][\"message\"][\"content\"]\n",
    "    return response_message"
   ]
  },
  {
   "cell_type": "markdown",
   "id": "813a9134",
   "metadata": {},
   "source": [
    "#### 문의 예 ####"
   ]
  },
  {
   "cell_type": "code",
   "execution_count": 58,
   "id": "e0162e18",
   "metadata": {},
   "outputs": [
    {
     "name": "stdout",
     "output_type": "stream",
     "text": [
      "아래의 산업안전보건볍령을 사용하여 관련되는 질문에 응답하시오. 만약 문서로부터 질문을 발견하지 못하면 \"답을 찾지 못했습니다\" 라고 응답\"\n",
      "\n",
      "Question: 안전보건교육에 관한 사항은 몇 조 인가?\n"
     ]
    },
    {
     "data": {
      "text/plain": [
       "'안전보건교육에 관한 사항은 산업안전보건법령 제17조에 기재되어 있습니다.'"
      ]
     },
     "execution_count": 58,
     "metadata": {},
     "output_type": "execute_result"
    }
   ],
   "source": [
    "ask(\"안전보건교육에 관한 사항은 몇 조 인가?\", model=\"gpt-3.5-turbo\", print_message=True)"
   ]
  },
  {
   "cell_type": "code",
   "execution_count": 45,
   "id": "9606b527",
   "metadata": {},
   "outputs": [
    {
     "data": {
      "text/plain": [
       "'근로자에 대한 안전보건교육은 산업안전보건법령 제 17조에 기재되어 있습니다.'"
      ]
     },
     "execution_count": 45,
     "metadata": {},
     "output_type": "execute_result"
    }
   ],
   "source": [
    "ask(\"근로자에 대한 안전보건교육은 제 몇 조에 기재되어 있는가?\")"
   ]
  },
  {
   "cell_type": "code",
   "execution_count": null,
   "id": "f3a83824",
   "metadata": {},
   "outputs": [],
   "source": []
  },
  {
   "cell_type": "code",
   "execution_count": null,
   "id": "9390030b",
   "metadata": {},
   "outputs": [],
   "source": []
  },
  {
   "cell_type": "code",
   "execution_count": null,
   "id": "3a3a94d3",
   "metadata": {},
   "outputs": [],
   "source": []
  },
  {
   "cell_type": "code",
   "execution_count": null,
   "id": "70361053",
   "metadata": {},
   "outputs": [],
   "source": []
  },
  {
   "cell_type": "code",
   "execution_count": null,
   "id": "2775dc78",
   "metadata": {},
   "outputs": [],
   "source": []
  },
  {
   "cell_type": "code",
   "execution_count": null,
   "id": "cc9bf7f0",
   "metadata": {},
   "outputs": [],
   "source": []
  },
  {
   "cell_type": "code",
   "execution_count": null,
   "id": "5e21c681",
   "metadata": {},
   "outputs": [],
   "source": []
  },
  {
   "cell_type": "markdown",
   "id": "5e702910",
   "metadata": {},
   "source": [
    "#### Dataframe to dict ####\n",
    "- to_dict method convert dataframe object to dict format\n",
    "- orient: define the format of dict output. \n",
    "- records is one of format.  records return [{column: value, column:value}, {column:value column, value}]"
   ]
  },
  {
   "cell_type": "code",
   "execution_count": 516,
   "id": "d7a3707a",
   "metadata": {},
   "outputs": [
    {
     "data": {
      "application/vnd.jupyter.widget-view+json": {
       "model_id": "9cd0a8b83aab40c1ae6ee91fcccd0765",
       "version_major": 2,
       "version_minor": 0
      },
      "text/plain": [
       "  0%|          | 0/1 [00:00<?, ?it/s]"
      ]
     },
     "metadata": {},
     "output_type": "display_data"
    }
   ],
   "source": [
    "from tqdm.auto import tqdm\n",
    "\n",
    "batch_size = len(df)   # how many records in df will be inserted at once \n",
    "\n",
    "# Convert the DataFrame to a list of dictionaries\n",
    "\n",
    "chunks = df.to_dict(orient='records')\n",
    "\n",
    "# Upsert embeddings into Pincecoine in batches of 5\n",
    "for i in tqdm(range(0, len(chunks), batch_size)):\n",
    "    i_end = min(len(chunks), i+batch_size)\n",
    "    meta_batch = chunks[i:i_end]\n",
    "    ids_batch = [x['id'] for x in meta_batch]\n",
    "    embeddings = [x['embeddings'] for x in meta_batch]\n",
    "    data = [{\n",
    "        'texts': x['texts']     \n",
    "    } for x in meta_batch]\n",
    "    to_upsert = list(zip(ids_batch, embeddings, data))\n",
    "    index.upsert(vectors=to_upsert)"
   ]
  },
  {
   "cell_type": "code",
   "execution_count": 517,
   "id": "94b9c8b7",
   "metadata": {},
   "outputs": [
    {
     "data": {
      "text/plain": [
       "IndexDescription(name='indsec-idx', metric='cosine', replicas=1, dimension=1536.0, shards=1, pods=1, pod_type='p1.x1', status={'ready': True, 'state': 'Ready'}, metadata_config=None, source_collection='')"
      ]
     },
     "execution_count": 517,
     "metadata": {},
     "output_type": "execute_result"
    }
   ],
   "source": [
    "pinecone.describe_index('indsec-idx')"
   ]
  },
  {
   "cell_type": "code",
   "execution_count": 518,
   "id": "f1d9a665",
   "metadata": {},
   "outputs": [
    {
     "data": {
      "text/plain": [
       "{'dimension': 1536,\n",
       " 'index_fullness': 0.0,\n",
       " 'namespaces': {'': {'vector_count': 150}},\n",
       " 'total_vector_count': 150}"
      ]
     },
     "execution_count": 518,
     "metadata": {},
     "output_type": "execute_result"
    }
   ],
   "source": [
    "index.describe_index_stats()"
   ]
  },
  {
   "cell_type": "code",
   "execution_count": null,
   "id": "d1728ed5",
   "metadata": {},
   "outputs": [],
   "source": []
  },
  {
   "cell_type": "markdown",
   "id": "0d517c1e",
   "metadata": {},
   "source": [
    "#### Making Queries ####\n",
    "- To search, need to create a query vector xq:"
   ]
  },
  {
   "cell_type": "code",
   "execution_count": 521,
   "id": "e9082dab",
   "metadata": {},
   "outputs": [],
   "source": [
    "embed_model = \"text-embedding-ada-002\"\n",
    "query = \"안전보건교육에 관한 사항은 몇 조? \"    # 제 29조\n",
    "\n",
    "res = openai.Embedding.create(\n",
    "    input=[query],\n",
    "    engine=embed_model\n",
    ")\n",
    "\n",
    "# retrieve from Pinecone\n",
    "xq = res['data'][0]['embedding']\n",
    "\n",
    "# get relevant contexts (including the questions)\n",
    "res = index.query(xq, top_k=2, include_metadata=True)"
   ]
  },
  {
   "cell_type": "code",
   "execution_count": 522,
   "id": "3d2f8864",
   "metadata": {},
   "outputs": [
    {
     "data": {
      "text/plain": [
       "{'matches': [{'id': '119',\n",
       "              'metadata': {'texts': '비재해예방지도기관, 환산재해율, 안전관리 자-건설업) '\n",
       "                                    '044-202-8942, 8939, 8940 고용노동부 '\n",
       "                                    '(화학사고예방과-MSDS, PSM) 044-202-8971, 8967\\n'\n",
       "                                    '\\n'\n",
       "                                    '도급이 여러 단계에 걸쳐 체결된 경우에 각 단계별로 도급받은 사업주\\n'\n",
       "                                    '\\n'\n",
       "                                    '제3조(적용 범위) 이 법은 모든 사업에 적용한다. 다만, 유해ㆍ위험의 '\n",
       "                                    '정도, 사업의 종류, 사업장 의 상시근로자 수(건설공사의 경우에는 건설공사 '\n",
       "                                    '금액을 말한다. 이하 같다) 등을 고려하여 대통령령으로 정하는 종류의 사업 '\n",
       "                                    '또는 사업장에는 이 법의 전부 또는 일부를 적용하지 아니\\n'\n",
       "                                    '\\n'\n",
       "                                    '9. 그 밖에 노무를 제공하는 사람의 안전 및 건강의 보호ㆍ증진 ② 정부는 '\n",
       "                                    '제1항 각 호의 사항을 효율적으로 수행하기 위하여 '\n",
       "                                    '「한국산업안전보건공단법」에 따른 한국산업안전보건공단(이하 “공단”이라 '\n",
       "                                    '한다), 그 밖의 관련 단체 및 연구기관에 행정 적ㆍ재정적 지원을 할 수 '\n",
       "                                    '있다.\\n'\n",
       "                                    '\\n'\n",
       "                                    '따른 산업재해 예방 활동에 필요한 사항은 지방자치단체가 조례로 정할 수 '\n",
       "                                    '있다.\\n'\n",
       "                                    '\\n'\n",
       "                                    '는 자와 제78조에 따른 물건의 수거ㆍ배달 등을 중개하는 자를 포함한다. '\n",
       "                                    '이하 이 조 및 제6조 에서 같다)는 다음 각 호의 사항을 이행함으로써 '\n",
       "                                    '근로자(제77조에 따른 특수형태근로종사자 와 제78조에 따른 물건의 '\n",
       "                                    '수거ㆍ배달 등을 하는 사람을 포함한다. 이하 이 조 및 제6조에서 같 '\n",
       "                                    '다)의 안전 및 건강을 유지ㆍ증진시키고 국가의 산업재해 예방정책을 따라야 '\n",
       "                                    '한다. <개정\\n'\n",
       "                                    '\\n'\n",
       "                                    '② 다음 각 호의 어느 하나에 해당하는 자는 발주ㆍ설계ㆍ제조ㆍ수입 또는 '\n",
       "                                    '건설을 할 때 이 과 이 법에 따른 명령으로 정하는 기준을 지켜야 하고, '\n",
       "                                    '발주ㆍ설계ㆍ제조ㆍ수입 또는 사용되는 물건으로 인하여 발생하는 산업재해를 '\n",
       "                                    '방지하기 위하여 필요한 조치를 하여야 1. 기계ㆍ기구와 그 밖의 설비를 '\n",
       "                                    '설계ㆍ제조 또는 수입하는 자 2. 원재료 등을 제조ㆍ수입하는 자 3. '\n",
       "                                    '건설물을 발주ㆍ설계ㆍ건설하는 자\\n'\n",
       "                                    '\\n'\n",
       "                                    '④ 고용노동부장관은 산업재해 예방을 위하여 필요하다고 인정할 때에는 '\n",
       "                                    '사업주, 사업주단체, 그 밖의 관계인에게 필요한 사항을 권고하거나 협조를 '\n",
       "                                    '요청할 수 있다. ⑤ 고용노동부장관은 산업재해 예방을 위하여 중앙행정기관의 '\n",
       "                                    '장과 지방자치단체의 장 또는 공단 등 관련 기관ㆍ단체의 장에게 다음 각 '\n",
       "                                    '호의 정보 또는 자료의 제공 및 관계 전산망의 이 용을 요청할 수 있다. '\n",
       "                                    '이 경우 요청을 받은 중앙행정기관의 장과 지방자치단체의 장 또는 관련 '\n",
       "                                    '기관ㆍ단체의 장은 정당한 사유가 없으면 그 요청에 따라야 한다. 1. '\n",
       "                                    '「부가가치세법」 제8조 및 「법인세법」 제111조에 따른 사업자등록에 관한 '\n",
       "                                    '정보 2. 「고용보험법」 제15조에 따른 근로자의 피보험자격의 취득 및 '\n",
       "                                    '상실 등에 관한 정보 3. 그 밖에 산업재해 예방사업을 수행하기 위하여 '\n",
       "                                    '필요한 정보 또는 자료로서 대통령령으로 정\\n'\n",
       "                                    '\\n'\n",
       "                                    '호의 시설을 설치ㆍ운영할 수 있다. <개정 2020. 5. 26.> 1. '\n",
       "                                    '산업 안전 및 보건에 관한 지도시설, 연구시설 및 교육시설 2. '\n",
       "                                    '안전보건진단 및 작업환경측정을 위한 시설 3. 노무를 제공하는 사람의 '\n",
       "                                    '건강을 유지ㆍ증진하기 위한 시설 4. 그 밖에 고용노동부령으로 정하는 '\n",
       "                                    '산업재해 예방을 위한\\n'\n",
       "                                    '\\n'\n",
       "                                    '1. 제11조 각 호에 따른 시설의 설치와 그 운영에 필요한 비용 2. '\n",
       "                                    '산업재해 예방 관련 사업 및 비영리법인에 위탁하는 업무 수행에 필요한 비용 '\n",
       "                                    '3. 그 밖에 산업재해 예방에 필요한 사업으로서 고용노동부장관이 인정하는 '\n",
       "                                    '사업의 사업비\\n'\n",
       "                                    '\\n'\n",
       "                                    '제2장 안전보건관리체제 등 제1절 안전보건관리체제\\n'\n",
       "                                    '\\n'\n",
       "                                    '제16조(관리감독자) ① 사업주는 사업장의 생산과 관련되는 업무와 그 소속 '\n",
       "                                    '직원을 직접 지휘ㆍ 감독하는 직위에 있는 사람(이하 “관리감독자”라 '\n",
       "                                    '한다)에게 산업 안전 및 보건에 관한 업무 로서 대통령령으로 정하는 업무를 '\n",
       "                                    '수행하도록 하여야 한다. ② 관리감독자가 있는 경우에는 「건설기술 진흥법」 '\n",
       "                                    '제64조제1항제2호에 따른 임자 및 같은 항 제3호에 따른 안전관리담당자를 '\n",
       "                                    '각각 둔 것으로 본다.\\n'\n",
       "                                    '\\n'\n",
       "                                    '사항에 관하여 사업주 또는 안전보건관리책임자를 보좌하고 관리감독자에게 '\n",
       "                                    '지도ㆍ조언하는 업무를 수행하는 사람(이하 “안전관리자”라 한다)을 두어야 '\n",
       "                                    '한다. ② 안전관리자를 두어야 하는 '},\n",
       "              'score': 0.848154485,\n",
       "              'values': []},\n",
       "             {'id': '112',\n",
       "              'metadata': {'texts': '방과-안전관리비재해예방지도기관, 환산재해율, 안전관리 자-건설업) '\n",
       "                                    '044-202-8942, 8939, 8940 고용노동부 '\n",
       "                                    '(화학사고예방과-MSDS, PSM) 044-202-8971, 8967\\n'\n",
       "                                    '\\n'\n",
       "                                    '도급이 여러 단계에 걸쳐 체결된 경우에 각 단계별로 도급받은 사업주\\n'\n",
       "                                    '\\n'\n",
       "                                    '제3조(적용 범위) 이 법은 모든 사업에 적용한다. 다만, 유해ㆍ위험의 '\n",
       "                                    '정도, 사업의 종류, 사업장 의 상시근로자 수(건설공사의 경우에는 건설공사 '\n",
       "                                    '금액을 말한다. 이하 같다) 등을 고려하여 대통령령으로 정하는 종류의 사업 '\n",
       "                                    '또는 사업장에는 이 법의 전부 또는 일부를 적용하지 아니\\n'\n",
       "                                    '\\n'\n",
       "                                    '9. 그 밖에 노무를 제공하는 사람의 안전 및 건강의 보호ㆍ증진 ② 정부는 '\n",
       "                                    '제1항 각 호의 사항을 효율적으로 수행하기 위하여 '\n",
       "                                    '「한국산업안전보건공단법」에 따른 한국산업안전보건공단(이하 “공단”이라 '\n",
       "                                    '한다), 그 밖의 관련 단체 및 연구기관에 행정 적ㆍ재정적 지원을 할 수 '\n",
       "                                    '있다.\\n'\n",
       "                                    '\\n'\n",
       "                                    '따른 산업재해 예방 활동에 필요한 사항은 지방자치단체가 조례로 정할 수 '\n",
       "                                    '있다.\\n'\n",
       "                                    '\\n'\n",
       "                                    '는 자와 제78조에 따른 물건의 수거ㆍ배달 등을 중개하는 자를 포함한다. '\n",
       "                                    '이하 이 조 및 제6조 에서 같다)는 다음 각 호의 사항을 이행함으로써 '\n",
       "                                    '근로자(제77조에 따른 특수형태근로종사자 와 제78조에 따른 물건의 '\n",
       "                                    '수거ㆍ배달 등을 하는 사람을 포함한다. 이하 이 조 및 제6조에서 같 '\n",
       "                                    '다)의 안전 및 건강을 유지ㆍ증진시키고 국가의 산업재해 예방정책을 따라야 '\n",
       "                                    '한다. <개정\\n'\n",
       "                                    '\\n'\n",
       "                                    '② 다음 각 호의 어느 하나에 해당하는 자는 발주ㆍ설계ㆍ제조ㆍ수입 또는 '\n",
       "                                    '건설을 할 때 이 과 이 법에 따른 명령으로 정하는 기준을 지켜야 하고, '\n",
       "                                    '발주ㆍ설계ㆍ제조ㆍ수입 또는 사용되는 물건으로 인하여 발생하는 산업재해를 '\n",
       "                                    '방지하기 위하여 필요한 조치를 하여야 1. 기계ㆍ기구와 그 밖의 설비를 '\n",
       "                                    '설계ㆍ제조 또는 수입하는 자 2. 원재료 등을 제조ㆍ수입하는 자 3. '\n",
       "                                    '건설물을 발주ㆍ설계ㆍ건설하는 자\\n'\n",
       "                                    '\\n'\n",
       "                                    '④ 고용노동부장관은 산업재해 예방을 위하여 필요하다고 인정할 때에는 '\n",
       "                                    '사업주, 사업주단체, 그 밖의 관계인에게 필요한 사항을 권고하거나 협조를 '\n",
       "                                    '요청할 수 있다. ⑤ 고용노동부장관은 산업재해 예방을 위하여 중앙행정기관의 '\n",
       "                                    '장과 지방자치단체의 장 또는 공단 등 관련 기관ㆍ단체의 장에게 다음 각 '\n",
       "                                    '호의 정보 또는 자료의 제공 및 관계 전산망의 이 용을 요청할 수 있다. '\n",
       "                                    '이 경우 요청을 받은 중앙행정기관의 장과 지방자치단체의 장 또는 관련 '\n",
       "                                    '기관ㆍ단체의 장은 정당한 사유가 없으면 그 요청에 따라야 한다. 1. '\n",
       "                                    '「부가가치세법」 제8조 및 「법인세법」 제111조에 따른 사업자등록에 관한 '\n",
       "                                    '정보 2. 「고용보험법」 제15조에 따른 근로자의 피보험자격의 취득 및 '\n",
       "                                    '상실 등에 관한 정보 3. 그 밖에 산업재해 예방사업을 수행하기 위하여 '\n",
       "                                    '필요한 정보 또는 자료로서 대통령령으로 정\\n'\n",
       "                                    '\\n'\n",
       "                                    '호의 시설을 설치ㆍ운영할 수 있다. <개정 2020. 5. 26.> 1. '\n",
       "                                    '산업 안전 및 보건에 관한 지도시설, 연구시설 및 교육시설 2. '\n",
       "                                    '안전보건진단 및 작업환경측정을 위한 시설 3. 노무를 제공하는 사람의 '\n",
       "                                    '건강을 유지ㆍ증진하기 위한 시설 4. 그 밖에 고용노동부령으로 정하는 '\n",
       "                                    '산업재해 예방을 위한\\n'\n",
       "                                    '\\n'\n",
       "                                    '1. 제11조 각 호에 따른 시설의 설치와 그 운영에 필요한 비용 2. '\n",
       "                                    '산업재해 예방 관련 사업 및 비영리법인에 위탁하는 업무 수행에 필요한 비용 '\n",
       "                                    '3. 그 밖에 산업재해 예방에 필요한 사업으로서 고용노동부장관이 인정하는 '\n",
       "                                    '사업의 사업비\\n'\n",
       "                                    '\\n'\n",
       "                                    '제2장 안전보건관리체제 등 제1절 안전보건관리체제\\n'\n",
       "                                    '\\n'\n",
       "                                    '제16조(관리감독자) ① 사업주는 사업장의 생산과 관련되는 업무와 그 소속 '\n",
       "                                    '직원을 직접 지휘ㆍ 감독하는 직위에 있는 사람(이하 “관리감독자”라 '\n",
       "                                    '한다)에게 산업 안전 및 보건에 관한 업무 로서 대통령령으로 정하는 업무를 '\n",
       "                                    '수행하도록 하여야 한다. ② 관리감독자가 있는 경우에는 「건설기술 진흥법」 '\n",
       "                                    '제64조제1항제2호에 따른 임자 및 같은 항 제3호에 따른 안전관리담당자를 '\n",
       "                                    '각각 둔 것으로 본다.\\n'\n",
       "                                    '\\n'\n",
       "                                    '사항에 관하여 사업주 또는 안전보건관리책임자를 보좌하고 관리감독자에게 '\n",
       "                                    '지도ㆍ조언하는 업무를 수행하는 사람(이하 “안전관리자”라 한다)을 두어야 '\n",
       "                                    '한다. ② 안전관리자를 '},\n",
       "              'score': 0.848094225,\n",
       "              'values': []}],\n",
       " 'namespace': ''}"
      ]
     },
     "execution_count": 522,
     "metadata": {},
     "output_type": "execute_result"
    }
   ],
   "source": [
    "res"
   ]
  },
  {
   "cell_type": "code",
   "execution_count": 523,
   "id": "f8f63815",
   "metadata": {},
   "outputs": [
    {
     "data": {
      "text/plain": [
       "[{'id': '119',\n",
       "  'metadata': {'texts': '비재해예방지도기관, 환산재해율, 안전관리 자-건설업) 044-202-8942, 8939, 8940 '\n",
       "                        '고용노동부 (화학사고예방과-MSDS, PSM) 044-202-8971, 8967\\n'\n",
       "                        '\\n'\n",
       "                        '도급이 여러 단계에 걸쳐 체결된 경우에 각 단계별로 도급받은 사업주\\n'\n",
       "                        '\\n'\n",
       "                        '제3조(적용 범위) 이 법은 모든 사업에 적용한다. 다만, 유해ㆍ위험의 정도, 사업의 종류, '\n",
       "                        '사업장 의 상시근로자 수(건설공사의 경우에는 건설공사 금액을 말한다. 이하 같다) 등을 고려하여 '\n",
       "                        '대통령령으로 정하는 종류의 사업 또는 사업장에는 이 법의 전부 또는 일부를 적용하지 아니\\n'\n",
       "                        '\\n'\n",
       "                        '9. 그 밖에 노무를 제공하는 사람의 안전 및 건강의 보호ㆍ증진 ② 정부는 제1항 각 호의 사항을 '\n",
       "                        '효율적으로 수행하기 위하여 「한국산업안전보건공단법」에 따른 한국산업안전보건공단(이하 “공단”이라 '\n",
       "                        '한다), 그 밖의 관련 단체 및 연구기관에 행정 적ㆍ재정적 지원을 할 수 있다.\\n'\n",
       "                        '\\n'\n",
       "                        '따른 산업재해 예방 활동에 필요한 사항은 지방자치단체가 조례로 정할 수 있다.\\n'\n",
       "                        '\\n'\n",
       "                        '는 자와 제78조에 따른 물건의 수거ㆍ배달 등을 중개하는 자를 포함한다. 이하 이 조 및 제6조 '\n",
       "                        '에서 같다)는 다음 각 호의 사항을 이행함으로써 근로자(제77조에 따른 특수형태근로종사자 와 '\n",
       "                        '제78조에 따른 물건의 수거ㆍ배달 등을 하는 사람을 포함한다. 이하 이 조 및 제6조에서 같 '\n",
       "                        '다)의 안전 및 건강을 유지ㆍ증진시키고 국가의 산업재해 예방정책을 따라야 한다. <개정\\n'\n",
       "                        '\\n'\n",
       "                        '② 다음 각 호의 어느 하나에 해당하는 자는 발주ㆍ설계ㆍ제조ㆍ수입 또는 건설을 할 때 이 과 이 '\n",
       "                        '법에 따른 명령으로 정하는 기준을 지켜야 하고, 발주ㆍ설계ㆍ제조ㆍ수입 또는 사용되는 물건으로 '\n",
       "                        '인하여 발생하는 산업재해를 방지하기 위하여 필요한 조치를 하여야 1. 기계ㆍ기구와 그 밖의 설비를 '\n",
       "                        '설계ㆍ제조 또는 수입하는 자 2. 원재료 등을 제조ㆍ수입하는 자 3. 건설물을 발주ㆍ설계ㆍ건설하는 '\n",
       "                        '자\\n'\n",
       "                        '\\n'\n",
       "                        '④ 고용노동부장관은 산업재해 예방을 위하여 필요하다고 인정할 때에는 사업주, 사업주단체, 그 밖의 '\n",
       "                        '관계인에게 필요한 사항을 권고하거나 협조를 요청할 수 있다. ⑤ 고용노동부장관은 산업재해 예방을 '\n",
       "                        '위하여 중앙행정기관의 장과 지방자치단체의 장 또는 공단 등 관련 기관ㆍ단체의 장에게 다음 각 호의 '\n",
       "                        '정보 또는 자료의 제공 및 관계 전산망의 이 용을 요청할 수 있다. 이 경우 요청을 받은 '\n",
       "                        '중앙행정기관의 장과 지방자치단체의 장 또는 관련 기관ㆍ단체의 장은 정당한 사유가 없으면 그 요청에 '\n",
       "                        '따라야 한다. 1. 「부가가치세법」 제8조 및 「법인세법」 제111조에 따른 사업자등록에 관한 '\n",
       "                        '정보 2. 「고용보험법」 제15조에 따른 근로자의 피보험자격의 취득 및 상실 등에 관한 정보 3. '\n",
       "                        '그 밖에 산업재해 예방사업을 수행하기 위하여 필요한 정보 또는 자료로서 대통령령으로 정\\n'\n",
       "                        '\\n'\n",
       "                        '호의 시설을 설치ㆍ운영할 수 있다. <개정 2020. 5. 26.> 1. 산업 안전 및 보건에 '\n",
       "                        '관한 지도시설, 연구시설 및 교육시설 2. 안전보건진단 및 작업환경측정을 위한 시설 3. 노무를 '\n",
       "                        '제공하는 사람의 건강을 유지ㆍ증진하기 위한 시설 4. 그 밖에 고용노동부령으로 정하는 산업재해 '\n",
       "                        '예방을 위한\\n'\n",
       "                        '\\n'\n",
       "                        '1. 제11조 각 호에 따른 시설의 설치와 그 운영에 필요한 비용 2. 산업재해 예방 관련 사업 '\n",
       "                        '및 비영리법인에 위탁하는 업무 수행에 필요한 비용 3. 그 밖에 산업재해 예방에 필요한 사업으로서 '\n",
       "                        '고용노동부장관이 인정하는 사업의 사업비\\n'\n",
       "                        '\\n'\n",
       "                        '제2장 안전보건관리체제 등 제1절 안전보건관리체제\\n'\n",
       "                        '\\n'\n",
       "                        '제16조(관리감독자) ① 사업주는 사업장의 생산과 관련되는 업무와 그 소속 직원을 직접 지휘ㆍ '\n",
       "                        '감독하는 직위에 있는 사람(이하 “관리감독자”라 한다)에게 산업 안전 및 보건에 관한 업무 로서 '\n",
       "                        '대통령령으로 정하는 업무를 수행하도록 하여야 한다. ② 관리감독자가 있는 경우에는 「건설기술 '\n",
       "                        '진흥법」 제64조제1항제2호에 따른 임자 및 같은 항 제3호에 따른 안전관리담당자를 각각 둔 '\n",
       "                        '것으로 본다.\\n'\n",
       "                        '\\n'\n",
       "                        '사항에 관하여 사업주 또는 안전보건관리책임자를 보좌하고 관리감독자에게 지도ㆍ조언하는 업무를 '\n",
       "                        '수행하는 사람(이하 “안전관리자”라 한다)을 두어야 한다. ② 안전관리자를 두어야 하는 '},\n",
       "  'score': 0.848154485,\n",
       "  'values': []},\n",
       " {'id': '112',\n",
       "  'metadata': {'texts': '방과-안전관리비재해예방지도기관, 환산재해율, 안전관리 자-건설업) 044-202-8942, '\n",
       "                        '8939, 8940 고용노동부 (화학사고예방과-MSDS, PSM) 044-202-8971, '\n",
       "                        '8967\\n'\n",
       "                        '\\n'\n",
       "                        '도급이 여러 단계에 걸쳐 체결된 경우에 각 단계별로 도급받은 사업주\\n'\n",
       "                        '\\n'\n",
       "                        '제3조(적용 범위) 이 법은 모든 사업에 적용한다. 다만, 유해ㆍ위험의 정도, 사업의 종류, '\n",
       "                        '사업장 의 상시근로자 수(건설공사의 경우에는 건설공사 금액을 말한다. 이하 같다) 등을 고려하여 '\n",
       "                        '대통령령으로 정하는 종류의 사업 또는 사업장에는 이 법의 전부 또는 일부를 적용하지 아니\\n'\n",
       "                        '\\n'\n",
       "                        '9. 그 밖에 노무를 제공하는 사람의 안전 및 건강의 보호ㆍ증진 ② 정부는 제1항 각 호의 사항을 '\n",
       "                        '효율적으로 수행하기 위하여 「한국산업안전보건공단법」에 따른 한국산업안전보건공단(이하 “공단”이라 '\n",
       "                        '한다), 그 밖의 관련 단체 및 연구기관에 행정 적ㆍ재정적 지원을 할 수 있다.\\n'\n",
       "                        '\\n'\n",
       "                        '따른 산업재해 예방 활동에 필요한 사항은 지방자치단체가 조례로 정할 수 있다.\\n'\n",
       "                        '\\n'\n",
       "                        '는 자와 제78조에 따른 물건의 수거ㆍ배달 등을 중개하는 자를 포함한다. 이하 이 조 및 제6조 '\n",
       "                        '에서 같다)는 다음 각 호의 사항을 이행함으로써 근로자(제77조에 따른 특수형태근로종사자 와 '\n",
       "                        '제78조에 따른 물건의 수거ㆍ배달 등을 하는 사람을 포함한다. 이하 이 조 및 제6조에서 같 '\n",
       "                        '다)의 안전 및 건강을 유지ㆍ증진시키고 국가의 산업재해 예방정책을 따라야 한다. <개정\\n'\n",
       "                        '\\n'\n",
       "                        '② 다음 각 호의 어느 하나에 해당하는 자는 발주ㆍ설계ㆍ제조ㆍ수입 또는 건설을 할 때 이 과 이 '\n",
       "                        '법에 따른 명령으로 정하는 기준을 지켜야 하고, 발주ㆍ설계ㆍ제조ㆍ수입 또는 사용되는 물건으로 '\n",
       "                        '인하여 발생하는 산업재해를 방지하기 위하여 필요한 조치를 하여야 1. 기계ㆍ기구와 그 밖의 설비를 '\n",
       "                        '설계ㆍ제조 또는 수입하는 자 2. 원재료 등을 제조ㆍ수입하는 자 3. 건설물을 발주ㆍ설계ㆍ건설하는 '\n",
       "                        '자\\n'\n",
       "                        '\\n'\n",
       "                        '④ 고용노동부장관은 산업재해 예방을 위하여 필요하다고 인정할 때에는 사업주, 사업주단체, 그 밖의 '\n",
       "                        '관계인에게 필요한 사항을 권고하거나 협조를 요청할 수 있다. ⑤ 고용노동부장관은 산업재해 예방을 '\n",
       "                        '위하여 중앙행정기관의 장과 지방자치단체의 장 또는 공단 등 관련 기관ㆍ단체의 장에게 다음 각 호의 '\n",
       "                        '정보 또는 자료의 제공 및 관계 전산망의 이 용을 요청할 수 있다. 이 경우 요청을 받은 '\n",
       "                        '중앙행정기관의 장과 지방자치단체의 장 또는 관련 기관ㆍ단체의 장은 정당한 사유가 없으면 그 요청에 '\n",
       "                        '따라야 한다. 1. 「부가가치세법」 제8조 및 「법인세법」 제111조에 따른 사업자등록에 관한 '\n",
       "                        '정보 2. 「고용보험법」 제15조에 따른 근로자의 피보험자격의 취득 및 상실 등에 관한 정보 3. '\n",
       "                        '그 밖에 산업재해 예방사업을 수행하기 위하여 필요한 정보 또는 자료로서 대통령령으로 정\\n'\n",
       "                        '\\n'\n",
       "                        '호의 시설을 설치ㆍ운영할 수 있다. <개정 2020. 5. 26.> 1. 산업 안전 및 보건에 '\n",
       "                        '관한 지도시설, 연구시설 및 교육시설 2. 안전보건진단 및 작업환경측정을 위한 시설 3. 노무를 '\n",
       "                        '제공하는 사람의 건강을 유지ㆍ증진하기 위한 시설 4. 그 밖에 고용노동부령으로 정하는 산업재해 '\n",
       "                        '예방을 위한\\n'\n",
       "                        '\\n'\n",
       "                        '1. 제11조 각 호에 따른 시설의 설치와 그 운영에 필요한 비용 2. 산업재해 예방 관련 사업 '\n",
       "                        '및 비영리법인에 위탁하는 업무 수행에 필요한 비용 3. 그 밖에 산업재해 예방에 필요한 사업으로서 '\n",
       "                        '고용노동부장관이 인정하는 사업의 사업비\\n'\n",
       "                        '\\n'\n",
       "                        '제2장 안전보건관리체제 등 제1절 안전보건관리체제\\n'\n",
       "                        '\\n'\n",
       "                        '제16조(관리감독자) ① 사업주는 사업장의 생산과 관련되는 업무와 그 소속 직원을 직접 지휘ㆍ '\n",
       "                        '감독하는 직위에 있는 사람(이하 “관리감독자”라 한다)에게 산업 안전 및 보건에 관한 업무 로서 '\n",
       "                        '대통령령으로 정하는 업무를 수행하도록 하여야 한다. ② 관리감독자가 있는 경우에는 「건설기술 '\n",
       "                        '진흥법」 제64조제1항제2호에 따른 임자 및 같은 항 제3호에 따른 안전관리담당자를 각각 둔 '\n",
       "                        '것으로 본다.\\n'\n",
       "                        '\\n'\n",
       "                        '사항에 관하여 사업주 또는 안전보건관리책임자를 보좌하고 관리감독자에게 지도ㆍ조언하는 업무를 '\n",
       "                        '수행하는 사람(이하 “안전관리자”라 한다)을 두어야 한다. ② 안전관리자를 '},\n",
       "  'score': 0.848094225,\n",
       "  'values': []}]"
      ]
     },
     "execution_count": 523,
     "metadata": {},
     "output_type": "execute_result"
    }
   ],
   "source": [
    "res['matches']"
   ]
  },
  {
   "cell_type": "code",
   "execution_count": 524,
   "id": "726d8f19",
   "metadata": {},
   "outputs": [],
   "source": [
    "limit = 3000\n",
    "\n",
    "def retrieve(query):\n",
    "    res = openai.Embedding.create(\n",
    "        input=[query],\n",
    "        engine=embed_model\n",
    "    )\n",
    "\n",
    "    # retrieve from Pinecone\n",
    "    xq = res['data'][0]['embedding']\n",
    "\n",
    "    # get relevant contexts\n",
    "    res = index.query(xq, top_k=3, include_metadata=True)\n",
    "    contexts = [\n",
    "        x['metadata']['texts'] for x in res['matches']\n",
    "    ]\n",
    "\n",
    "    # build our prompt with the retrieved contexts included\n",
    "    prompt_start = (\n",
    "        \"Answer the question based on the context below.\\n\\n\"+\n",
    "        \"Context:\\n\"\n",
    "    )\n",
    "    prompt_end = (\n",
    "        f\"\\n\\nQuestion: {query}\\nAnswer:\"\n",
    "    )\n",
    "    # append contexts until hitting limit\n",
    "    for i in range(1, len(contexts)):\n",
    "        if len(\"\\n\\n---\\n\\n\".join(contexts[:i])) >= limit:\n",
    "            prompt = (\n",
    "                prompt_start +\n",
    "                \"\\n\\n---\\n\\n\".join(contexts[:i-1]) +\n",
    "                prompt_end\n",
    "            )\n",
    "            break\n",
    "        elif i == len(contexts)-1:\n",
    "            prompt = (\n",
    "                prompt_start +\n",
    "                \"\\n\\n---\\n\\n\".join(contexts) +\n",
    "                prompt_end\n",
    "            )\n",
    "    return prompt"
   ]
  },
  {
   "cell_type": "code",
   "execution_count": null,
   "id": "df2e4697",
   "metadata": {},
   "outputs": [],
   "source": []
  },
  {
   "cell_type": "code",
   "execution_count": 525,
   "id": "13745b12",
   "metadata": {},
   "outputs": [],
   "source": [
    "# first let's make it simpler to get answers\n",
    "def complete(prompt):\n",
    "    # query text-embedding-ada-002\n",
    "    res = openai.Completion.create(\n",
    "        engine='text-davinci-003',\n",
    "        prompt=prompt,\n",
    "        temperature=0,\n",
    "        max_tokens=200,\n",
    "        top_p=1,\n",
    "        frequency_penalty=0,\n",
    "        presence_penalty=0,\n",
    "        stop=None\n",
    "    )\n",
    "    return res['choices'][0]['text'].strip()"
   ]
  },
  {
   "cell_type": "code",
   "execution_count": 526,
   "id": "77cfbbcb",
   "metadata": {},
   "outputs": [
    {
     "data": {
      "text/plain": [
       "'Answer the question based on the context below.\\n\\nContext:\\n비재해예방지도기관, 환산재해율, 안전관리 자-건설업) 044-202-8942, 8939, 8940 고용노동부 (화학사고예방과-MSDS, PSM) 044-202-8971, 8967\\n\\n도급이 여러 단계에 걸쳐 체결된 경우에 각 단계별로 도급받은 사업주\\n\\n제3조(적용 범위) 이 법은 모든 사업에 적용한다. 다만, 유해ㆍ위험의 정도, 사업의 종류, 사업장 의 상시근로자 수(건설공사의 경우에는 건설공사 금액을 말한다. 이하 같다) 등을 고려하여 대통령령으로 정하는 종류의 사업 또는 사업장에는 이 법의 전부 또는 일부를 적용하지 아니\\n\\n9. 그 밖에 노무를 제공하는 사람의 안전 및 건강의 보호ㆍ증진 ② 정부는 제1항 각 호의 사항을 효율적으로 수행하기 위하여 「한국산업안전보건공단법」에 따른 한국산업안전보건공단(이하 “공단”이라 한다), 그 밖의 관련 단체 및 연구기관에 행정 적ㆍ재정적 지원을 할 수 있다.\\n\\n따른 산업재해 예방 활동에 필요한 사항은 지방자치단체가 조례로 정할 수 있다.\\n\\n는 자와 제78조에 따른 물건의 수거ㆍ배달 등을 중개하는 자를 포함한다. 이하 이 조 및 제6조 에서 같다)는 다음 각 호의 사항을 이행함으로써 근로자(제77조에 따른 특수형태근로종사자 와 제78조에 따른 물건의 수거ㆍ배달 등을 하는 사람을 포함한다. 이하 이 조 및 제6조에서 같 다)의 안전 및 건강을 유지ㆍ증진시키고 국가의 산업재해 예방정책을 따라야 한다. <개정\\n\\n② 다음 각 호의 어느 하나에 해당하는 자는 발주ㆍ설계ㆍ제조ㆍ수입 또는 건설을 할 때 이 과 이 법에 따른 명령으로 정하는 기준을 지켜야 하고, 발주ㆍ설계ㆍ제조ㆍ수입 또는 사용되는 물건으로 인하여 발생하는 산업재해를 방지하기 위하여 필요한 조치를 하여야 1. 기계ㆍ기구와 그 밖의 설비를 설계ㆍ제조 또는 수입하는 자 2. 원재료 등을 제조ㆍ수입하는 자 3. 건설물을 발주ㆍ설계ㆍ건설하는 자\\n\\n④ 고용노동부장관은 산업재해 예방을 위하여 필요하다고 인정할 때에는 사업주, 사업주단체, 그 밖의 관계인에게 필요한 사항을 권고하거나 협조를 요청할 수 있다. ⑤ 고용노동부장관은 산업재해 예방을 위하여 중앙행정기관의 장과 지방자치단체의 장 또는 공단 등 관련 기관ㆍ단체의 장에게 다음 각 호의 정보 또는 자료의 제공 및 관계 전산망의 이 용을 요청할 수 있다. 이 경우 요청을 받은 중앙행정기관의 장과 지방자치단체의 장 또는 관련 기관ㆍ단체의 장은 정당한 사유가 없으면 그 요청에 따라야 한다. 1. 「부가가치세법」 제8조 및 「법인세법」 제111조에 따른 사업자등록에 관한 정보 2. 「고용보험법」 제15조에 따른 근로자의 피보험자격의 취득 및 상실 등에 관한 정보 3. 그 밖에 산업재해 예방사업을 수행하기 위하여 필요한 정보 또는 자료로서 대통령령으로 정\\n\\n호의 시설을 설치ㆍ운영할 수 있다. <개정 2020. 5. 26.> 1. 산업 안전 및 보건에 관한 지도시설, 연구시설 및 교육시설 2. 안전보건진단 및 작업환경측정을 위한 시설 3. 노무를 제공하는 사람의 건강을 유지ㆍ증진하기 위한 시설 4. 그 밖에 고용노동부령으로 정하는 산업재해 예방을 위한\\n\\n1. 제11조 각 호에 따른 시설의 설치와 그 운영에 필요한 비용 2. 산업재해 예방 관련 사업 및 비영리법인에 위탁하는 업무 수행에 필요한 비용 3. 그 밖에 산업재해 예방에 필요한 사업으로서 고용노동부장관이 인정하는 사업의 사업비\\n\\n제2장 안전보건관리체제 등 제1절 안전보건관리체제\\n\\n제16조(관리감독자) ① 사업주는 사업장의 생산과 관련되는 업무와 그 소속 직원을 직접 지휘ㆍ 감독하는 직위에 있는 사람(이하 “관리감독자”라 한다)에게 산업 안전 및 보건에 관한 업무 로서 대통령령으로 정하는 업무를 수행하도록 하여야 한다. ② 관리감독자가 있는 경우에는 「건설기술 진흥법」 제64조제1항제2호에 따른 임자 및 같은 항 제3호에 따른 안전관리담당자를 각각 둔 것으로 본다.\\n\\n사항에 관하여 사업주 또는 안전보건관리책임자를 보좌하고 관리감독자에게 지도ㆍ조언하는 업무를 수행하는 사람(이하 “안전관리자”라 한다)을 두어야 한다. ② 안전관리자를 두어야 하는 \\n\\nQuestion: 안전보건교육에 관한 사항은 몇 조? \\nAnswer:'"
      ]
     },
     "execution_count": 526,
     "metadata": {},
     "output_type": "execute_result"
    }
   ],
   "source": [
    "# first we retrieve relevant items from Pinecone\n",
    "query_with_contexts = retrieve(query)\n",
    "query_with_contexts"
   ]
  },
  {
   "cell_type": "code",
   "execution_count": 527,
   "id": "6bbb1c26",
   "metadata": {},
   "outputs": [
    {
     "ename": "InvalidRequestError",
     "evalue": "This model's maximum context length is 4097 tokens, however you requested 4323 tokens (4123 in your prompt; 200 for the completion). Please reduce your prompt; or completion length.",
     "output_type": "error",
     "traceback": [
      "\u001b[0;31m---------------------------------------------------------------------------\u001b[0m",
      "\u001b[0;31mInvalidRequestError\u001b[0m                       Traceback (most recent call last)",
      "Cell \u001b[0;32mIn[527], line 2\u001b[0m\n\u001b[1;32m      1\u001b[0m \u001b[38;5;66;03m# then we complete the context-infused query\u001b[39;00m\n\u001b[0;32m----> 2\u001b[0m \u001b[43mcomplete\u001b[49m\u001b[43m(\u001b[49m\u001b[43mquery_with_contexts\u001b[49m\u001b[43m)\u001b[49m\n",
      "Cell \u001b[0;32mIn[525], line 4\u001b[0m, in \u001b[0;36mcomplete\u001b[0;34m(prompt)\u001b[0m\n\u001b[1;32m      2\u001b[0m \u001b[38;5;28;01mdef\u001b[39;00m \u001b[38;5;21mcomplete\u001b[39m(prompt):\n\u001b[1;32m      3\u001b[0m     \u001b[38;5;66;03m# query text-embedding-ada-002\u001b[39;00m\n\u001b[0;32m----> 4\u001b[0m     res \u001b[38;5;241m=\u001b[39m \u001b[43mopenai\u001b[49m\u001b[38;5;241;43m.\u001b[39;49m\u001b[43mCompletion\u001b[49m\u001b[38;5;241;43m.\u001b[39;49m\u001b[43mcreate\u001b[49m\u001b[43m(\u001b[49m\n\u001b[1;32m      5\u001b[0m \u001b[43m        \u001b[49m\u001b[43mengine\u001b[49m\u001b[38;5;241;43m=\u001b[39;49m\u001b[38;5;124;43m'\u001b[39;49m\u001b[38;5;124;43mtext-davinci-003\u001b[39;49m\u001b[38;5;124;43m'\u001b[39;49m\u001b[43m,\u001b[49m\n\u001b[1;32m      6\u001b[0m \u001b[43m        \u001b[49m\u001b[43mprompt\u001b[49m\u001b[38;5;241;43m=\u001b[39;49m\u001b[43mprompt\u001b[49m\u001b[43m,\u001b[49m\n\u001b[1;32m      7\u001b[0m \u001b[43m        \u001b[49m\u001b[43mtemperature\u001b[49m\u001b[38;5;241;43m=\u001b[39;49m\u001b[38;5;241;43m0\u001b[39;49m\u001b[43m,\u001b[49m\n\u001b[1;32m      8\u001b[0m \u001b[43m        \u001b[49m\u001b[43mmax_tokens\u001b[49m\u001b[38;5;241;43m=\u001b[39;49m\u001b[38;5;241;43m200\u001b[39;49m\u001b[43m,\u001b[49m\n\u001b[1;32m      9\u001b[0m \u001b[43m        \u001b[49m\u001b[43mtop_p\u001b[49m\u001b[38;5;241;43m=\u001b[39;49m\u001b[38;5;241;43m1\u001b[39;49m\u001b[43m,\u001b[49m\n\u001b[1;32m     10\u001b[0m \u001b[43m        \u001b[49m\u001b[43mfrequency_penalty\u001b[49m\u001b[38;5;241;43m=\u001b[39;49m\u001b[38;5;241;43m0\u001b[39;49m\u001b[43m,\u001b[49m\n\u001b[1;32m     11\u001b[0m \u001b[43m        \u001b[49m\u001b[43mpresence_penalty\u001b[49m\u001b[38;5;241;43m=\u001b[39;49m\u001b[38;5;241;43m0\u001b[39;49m\u001b[43m,\u001b[49m\n\u001b[1;32m     12\u001b[0m \u001b[43m        \u001b[49m\u001b[43mstop\u001b[49m\u001b[38;5;241;43m=\u001b[39;49m\u001b[38;5;28;43;01mNone\u001b[39;49;00m\n\u001b[1;32m     13\u001b[0m \u001b[43m    \u001b[49m\u001b[43m)\u001b[49m\n\u001b[1;32m     14\u001b[0m     \u001b[38;5;28;01mreturn\u001b[39;00m res[\u001b[38;5;124m'\u001b[39m\u001b[38;5;124mchoices\u001b[39m\u001b[38;5;124m'\u001b[39m][\u001b[38;5;241m0\u001b[39m][\u001b[38;5;124m'\u001b[39m\u001b[38;5;124mtext\u001b[39m\u001b[38;5;124m'\u001b[39m]\u001b[38;5;241m.\u001b[39mstrip()\n",
      "File \u001b[0;32m~/.venv/torch1.12.1-py3.8-cuda11.3/lib/python3.8/site-packages/openai/api_resources/completion.py:25\u001b[0m, in \u001b[0;36mCompletion.create\u001b[0;34m(cls, *args, **kwargs)\u001b[0m\n\u001b[1;32m     23\u001b[0m \u001b[38;5;28;01mwhile\u001b[39;00m \u001b[38;5;28;01mTrue\u001b[39;00m:\n\u001b[1;32m     24\u001b[0m     \u001b[38;5;28;01mtry\u001b[39;00m:\n\u001b[0;32m---> 25\u001b[0m         \u001b[38;5;28;01mreturn\u001b[39;00m \u001b[38;5;28;43msuper\u001b[39;49m\u001b[43m(\u001b[49m\u001b[43m)\u001b[49m\u001b[38;5;241;43m.\u001b[39;49m\u001b[43mcreate\u001b[49m\u001b[43m(\u001b[49m\u001b[38;5;241;43m*\u001b[39;49m\u001b[43margs\u001b[49m\u001b[43m,\u001b[49m\u001b[43m \u001b[49m\u001b[38;5;241;43m*\u001b[39;49m\u001b[38;5;241;43m*\u001b[39;49m\u001b[43mkwargs\u001b[49m\u001b[43m)\u001b[49m\n\u001b[1;32m     26\u001b[0m     \u001b[38;5;28;01mexcept\u001b[39;00m TryAgain \u001b[38;5;28;01mas\u001b[39;00m e:\n\u001b[1;32m     27\u001b[0m         \u001b[38;5;28;01mif\u001b[39;00m timeout \u001b[38;5;129;01mis\u001b[39;00m \u001b[38;5;129;01mnot\u001b[39;00m \u001b[38;5;28;01mNone\u001b[39;00m \u001b[38;5;129;01mand\u001b[39;00m time\u001b[38;5;241m.\u001b[39mtime() \u001b[38;5;241m>\u001b[39m start \u001b[38;5;241m+\u001b[39m timeout:\n",
      "File \u001b[0;32m~/.venv/torch1.12.1-py3.8-cuda11.3/lib/python3.8/site-packages/openai/api_resources/abstract/engine_api_resource.py:153\u001b[0m, in \u001b[0;36mEngineAPIResource.create\u001b[0;34m(cls, api_key, api_base, api_type, request_id, api_version, organization, **params)\u001b[0m\n\u001b[1;32m    127\u001b[0m \u001b[38;5;129m@classmethod\u001b[39m\n\u001b[1;32m    128\u001b[0m \u001b[38;5;28;01mdef\u001b[39;00m \u001b[38;5;21mcreate\u001b[39m(\n\u001b[1;32m    129\u001b[0m     \u001b[38;5;28mcls\u001b[39m,\n\u001b[0;32m   (...)\u001b[0m\n\u001b[1;32m    136\u001b[0m     \u001b[38;5;241m*\u001b[39m\u001b[38;5;241m*\u001b[39mparams,\n\u001b[1;32m    137\u001b[0m ):\n\u001b[1;32m    138\u001b[0m     (\n\u001b[1;32m    139\u001b[0m         deployment_id,\n\u001b[1;32m    140\u001b[0m         engine,\n\u001b[0;32m   (...)\u001b[0m\n\u001b[1;32m    150\u001b[0m         api_key, api_base, api_type, api_version, organization, \u001b[38;5;241m*\u001b[39m\u001b[38;5;241m*\u001b[39mparams\n\u001b[1;32m    151\u001b[0m     )\n\u001b[0;32m--> 153\u001b[0m     response, _, api_key \u001b[38;5;241m=\u001b[39m \u001b[43mrequestor\u001b[49m\u001b[38;5;241;43m.\u001b[39;49m\u001b[43mrequest\u001b[49m\u001b[43m(\u001b[49m\n\u001b[1;32m    154\u001b[0m \u001b[43m        \u001b[49m\u001b[38;5;124;43m\"\u001b[39;49m\u001b[38;5;124;43mpost\u001b[39;49m\u001b[38;5;124;43m\"\u001b[39;49m\u001b[43m,\u001b[49m\n\u001b[1;32m    155\u001b[0m \u001b[43m        \u001b[49m\u001b[43murl\u001b[49m\u001b[43m,\u001b[49m\n\u001b[1;32m    156\u001b[0m \u001b[43m        \u001b[49m\u001b[43mparams\u001b[49m\u001b[38;5;241;43m=\u001b[39;49m\u001b[43mparams\u001b[49m\u001b[43m,\u001b[49m\n\u001b[1;32m    157\u001b[0m \u001b[43m        \u001b[49m\u001b[43mheaders\u001b[49m\u001b[38;5;241;43m=\u001b[39;49m\u001b[43mheaders\u001b[49m\u001b[43m,\u001b[49m\n\u001b[1;32m    158\u001b[0m \u001b[43m        \u001b[49m\u001b[43mstream\u001b[49m\u001b[38;5;241;43m=\u001b[39;49m\u001b[43mstream\u001b[49m\u001b[43m,\u001b[49m\n\u001b[1;32m    159\u001b[0m \u001b[43m        \u001b[49m\u001b[43mrequest_id\u001b[49m\u001b[38;5;241;43m=\u001b[39;49m\u001b[43mrequest_id\u001b[49m\u001b[43m,\u001b[49m\n\u001b[1;32m    160\u001b[0m \u001b[43m        \u001b[49m\u001b[43mrequest_timeout\u001b[49m\u001b[38;5;241;43m=\u001b[39;49m\u001b[43mrequest_timeout\u001b[49m\u001b[43m,\u001b[49m\n\u001b[1;32m    161\u001b[0m \u001b[43m    \u001b[49m\u001b[43m)\u001b[49m\n\u001b[1;32m    163\u001b[0m     \u001b[38;5;28;01mif\u001b[39;00m stream:\n\u001b[1;32m    164\u001b[0m         \u001b[38;5;66;03m# must be an iterator\u001b[39;00m\n\u001b[1;32m    165\u001b[0m         \u001b[38;5;28;01massert\u001b[39;00m \u001b[38;5;129;01mnot\u001b[39;00m \u001b[38;5;28misinstance\u001b[39m(response, OpenAIResponse)\n",
      "File \u001b[0;32m~/.venv/torch1.12.1-py3.8-cuda11.3/lib/python3.8/site-packages/openai/api_requestor.py:226\u001b[0m, in \u001b[0;36mAPIRequestor.request\u001b[0;34m(self, method, url, params, headers, files, stream, request_id, request_timeout)\u001b[0m\n\u001b[1;32m    205\u001b[0m \u001b[38;5;28;01mdef\u001b[39;00m \u001b[38;5;21mrequest\u001b[39m(\n\u001b[1;32m    206\u001b[0m     \u001b[38;5;28mself\u001b[39m,\n\u001b[1;32m    207\u001b[0m     method,\n\u001b[0;32m   (...)\u001b[0m\n\u001b[1;32m    214\u001b[0m     request_timeout: Optional[Union[\u001b[38;5;28mfloat\u001b[39m, Tuple[\u001b[38;5;28mfloat\u001b[39m, \u001b[38;5;28mfloat\u001b[39m]]] \u001b[38;5;241m=\u001b[39m \u001b[38;5;28;01mNone\u001b[39;00m,\n\u001b[1;32m    215\u001b[0m ) \u001b[38;5;241m-\u001b[39m\u001b[38;5;241m>\u001b[39m Tuple[Union[OpenAIResponse, Iterator[OpenAIResponse]], \u001b[38;5;28mbool\u001b[39m, \u001b[38;5;28mstr\u001b[39m]:\n\u001b[1;32m    216\u001b[0m     result \u001b[38;5;241m=\u001b[39m \u001b[38;5;28mself\u001b[39m\u001b[38;5;241m.\u001b[39mrequest_raw(\n\u001b[1;32m    217\u001b[0m         method\u001b[38;5;241m.\u001b[39mlower(),\n\u001b[1;32m    218\u001b[0m         url,\n\u001b[0;32m   (...)\u001b[0m\n\u001b[1;32m    224\u001b[0m         request_timeout\u001b[38;5;241m=\u001b[39mrequest_timeout,\n\u001b[1;32m    225\u001b[0m     )\n\u001b[0;32m--> 226\u001b[0m     resp, got_stream \u001b[38;5;241m=\u001b[39m \u001b[38;5;28;43mself\u001b[39;49m\u001b[38;5;241;43m.\u001b[39;49m\u001b[43m_interpret_response\u001b[49m\u001b[43m(\u001b[49m\u001b[43mresult\u001b[49m\u001b[43m,\u001b[49m\u001b[43m \u001b[49m\u001b[43mstream\u001b[49m\u001b[43m)\u001b[49m\n\u001b[1;32m    227\u001b[0m     \u001b[38;5;28;01mreturn\u001b[39;00m resp, got_stream, \u001b[38;5;28mself\u001b[39m\u001b[38;5;241m.\u001b[39mapi_key\n",
      "File \u001b[0;32m~/.venv/torch1.12.1-py3.8-cuda11.3/lib/python3.8/site-packages/openai/api_requestor.py:620\u001b[0m, in \u001b[0;36mAPIRequestor._interpret_response\u001b[0;34m(self, result, stream)\u001b[0m\n\u001b[1;32m    612\u001b[0m     \u001b[38;5;28;01mreturn\u001b[39;00m (\n\u001b[1;32m    613\u001b[0m         \u001b[38;5;28mself\u001b[39m\u001b[38;5;241m.\u001b[39m_interpret_response_line(\n\u001b[1;32m    614\u001b[0m             line, result\u001b[38;5;241m.\u001b[39mstatus_code, result\u001b[38;5;241m.\u001b[39mheaders, stream\u001b[38;5;241m=\u001b[39m\u001b[38;5;28;01mTrue\u001b[39;00m\n\u001b[1;32m    615\u001b[0m         )\n\u001b[1;32m    616\u001b[0m         \u001b[38;5;28;01mfor\u001b[39;00m line \u001b[38;5;129;01min\u001b[39;00m parse_stream(result\u001b[38;5;241m.\u001b[39miter_lines())\n\u001b[1;32m    617\u001b[0m     ), \u001b[38;5;28;01mTrue\u001b[39;00m\n\u001b[1;32m    618\u001b[0m \u001b[38;5;28;01melse\u001b[39;00m:\n\u001b[1;32m    619\u001b[0m     \u001b[38;5;28;01mreturn\u001b[39;00m (\n\u001b[0;32m--> 620\u001b[0m         \u001b[38;5;28;43mself\u001b[39;49m\u001b[38;5;241;43m.\u001b[39;49m\u001b[43m_interpret_response_line\u001b[49m\u001b[43m(\u001b[49m\n\u001b[1;32m    621\u001b[0m \u001b[43m            \u001b[49m\u001b[43mresult\u001b[49m\u001b[38;5;241;43m.\u001b[39;49m\u001b[43mcontent\u001b[49m\u001b[38;5;241;43m.\u001b[39;49m\u001b[43mdecode\u001b[49m\u001b[43m(\u001b[49m\u001b[38;5;124;43m\"\u001b[39;49m\u001b[38;5;124;43mutf-8\u001b[39;49m\u001b[38;5;124;43m\"\u001b[39;49m\u001b[43m)\u001b[49m\u001b[43m,\u001b[49m\n\u001b[1;32m    622\u001b[0m \u001b[43m            \u001b[49m\u001b[43mresult\u001b[49m\u001b[38;5;241;43m.\u001b[39;49m\u001b[43mstatus_code\u001b[49m\u001b[43m,\u001b[49m\n\u001b[1;32m    623\u001b[0m \u001b[43m            \u001b[49m\u001b[43mresult\u001b[49m\u001b[38;5;241;43m.\u001b[39;49m\u001b[43mheaders\u001b[49m\u001b[43m,\u001b[49m\n\u001b[1;32m    624\u001b[0m \u001b[43m            \u001b[49m\u001b[43mstream\u001b[49m\u001b[38;5;241;43m=\u001b[39;49m\u001b[38;5;28;43;01mFalse\u001b[39;49;00m\u001b[43m,\u001b[49m\n\u001b[1;32m    625\u001b[0m \u001b[43m        \u001b[49m\u001b[43m)\u001b[49m,\n\u001b[1;32m    626\u001b[0m         \u001b[38;5;28;01mFalse\u001b[39;00m,\n\u001b[1;32m    627\u001b[0m     )\n",
      "File \u001b[0;32m~/.venv/torch1.12.1-py3.8-cuda11.3/lib/python3.8/site-packages/openai/api_requestor.py:683\u001b[0m, in \u001b[0;36mAPIRequestor._interpret_response_line\u001b[0;34m(self, rbody, rcode, rheaders, stream)\u001b[0m\n\u001b[1;32m    681\u001b[0m stream_error \u001b[38;5;241m=\u001b[39m stream \u001b[38;5;129;01mand\u001b[39;00m \u001b[38;5;124m\"\u001b[39m\u001b[38;5;124merror\u001b[39m\u001b[38;5;124m\"\u001b[39m \u001b[38;5;129;01min\u001b[39;00m resp\u001b[38;5;241m.\u001b[39mdata\n\u001b[1;32m    682\u001b[0m \u001b[38;5;28;01mif\u001b[39;00m stream_error \u001b[38;5;129;01mor\u001b[39;00m \u001b[38;5;129;01mnot\u001b[39;00m \u001b[38;5;241m200\u001b[39m \u001b[38;5;241m<\u001b[39m\u001b[38;5;241m=\u001b[39m rcode \u001b[38;5;241m<\u001b[39m \u001b[38;5;241m300\u001b[39m:\n\u001b[0;32m--> 683\u001b[0m     \u001b[38;5;28;01mraise\u001b[39;00m \u001b[38;5;28mself\u001b[39m\u001b[38;5;241m.\u001b[39mhandle_error_response(\n\u001b[1;32m    684\u001b[0m         rbody, rcode, resp\u001b[38;5;241m.\u001b[39mdata, rheaders, stream_error\u001b[38;5;241m=\u001b[39mstream_error\n\u001b[1;32m    685\u001b[0m     )\n\u001b[1;32m    686\u001b[0m \u001b[38;5;28;01mreturn\u001b[39;00m resp\n",
      "\u001b[0;31mInvalidRequestError\u001b[0m: This model's maximum context length is 4097 tokens, however you requested 4323 tokens (4123 in your prompt; 200 for the completion). Please reduce your prompt; or completion length."
     ]
    }
   ],
   "source": [
    "# then we complete the context-infused query\n",
    "complete(query_with_contexts)"
   ]
  },
  {
   "cell_type": "code",
   "execution_count": null,
   "id": "ee6c3e7d",
   "metadata": {},
   "outputs": [],
   "source": []
  },
  {
   "cell_type": "code",
   "execution_count": null,
   "id": "77ba0f7c",
   "metadata": {},
   "outputs": [],
   "source": []
  },
  {
   "cell_type": "code",
   "execution_count": null,
   "id": "72dd4ea0",
   "metadata": {},
   "outputs": [],
   "source": []
  },
  {
   "cell_type": "code",
   "execution_count": null,
   "id": "d672028d",
   "metadata": {},
   "outputs": [],
   "source": [
    "res = openai.Embedding.create(\n",
    "    input=[query],\n",
    "    engine=embed_model\n",
    ")\n",
    "\n",
    "# retrieve from Pinecone\n",
    "xq = res['data'][0]['embedding']\n",
    "\n",
    "# get relevant contexts (including the questions)\n",
    "res = index.query(xq, top_k=2, include_metadata=True)"
   ]
  },
  {
   "cell_type": "code",
   "execution_count": null,
   "id": "56d1b6d7",
   "metadata": {},
   "outputs": [],
   "source": [
    "res"
   ]
  },
  {
   "cell_type": "markdown",
   "id": "313acef8",
   "metadata": {},
   "source": [
    "#### To make expanded query sampler, we pack function named retrieve ####"
   ]
  },
  {
   "cell_type": "markdown",
   "id": "e6cf9122",
   "metadata": {},
   "source": [
    "limit = 3750\n",
    "\n",
    "def retrieve(query):\n",
    "    res = openai.Embedding.create(\n",
    "        input=[query],\n",
    "        engine=embed_model\n",
    "    )\n",
    "\n",
    "    # retrieve from Pinecone\n",
    "    xq = res['data'][0]['embedding']\n",
    "\n",
    "    # get relevant contexts\n",
    "    res = index.query(xq, top_k=3, include_metadata=True)\n",
    "    contexts = [\n",
    "        x['metadata']['text'] for x in res['matches']\n",
    "    ]\n",
    "\n",
    "    # build our prompt with the retrieved contexts included\n",
    "    prompt_start = (\n",
    "        \"Answer the question based on the context below.\\n\\n\"+\n",
    "        \"Context:\\n\"\n",
    "    )\n",
    "    prompt_end = (\n",
    "        f\"\\n\\nQuestion: {query}\\nAnswer:\"\n",
    "    )\n",
    "    # append contexts until hitting limit\n",
    "    for i in range(1, len(contexts)):\n",
    "        if len(\"\\n\\n---\\n\\n\".join(contexts[:i])) >= limit:\n",
    "            prompt = (\n",
    "                prompt_start +\n",
    "                \"\\n\\n---\\n\\n\".join(contexts[:i-1]) +\n",
    "                prompt_end\n",
    "            )\n",
    "            break\n",
    "        elif i == len(contexts)-1:\n",
    "            prompt = (\n",
    "                prompt_start +\n",
    "                \"\\n\\n---\\n\\n\".join(contexts) +"
   ]
  },
  {
   "cell_type": "markdown",
   "id": "e1b6a594",
   "metadata": {},
   "source": [
    "#### Using retrieve we return the expanded query: ####"
   ]
  },
  {
   "cell_type": "code",
   "execution_count": null,
   "id": "ba1f1041",
   "metadata": {},
   "outputs": [],
   "source": [
    "# first we retrieve relevant items from Pinecone\n",
    "query_with_contexts = retrieve(query)\n",
    "query_with_contexts"
   ]
  },
  {
   "cell_type": "markdown",
   "id": "d769c6b4",
   "metadata": {},
   "source": [
    "#### Pass our expanded query to the LLM: ####"
   ]
  },
  {
   "cell_type": "code",
   "execution_count": null,
   "id": "70c637ae",
   "metadata": {},
   "outputs": [],
   "source": [
    "# then we complete the context-infused query\n",
    "complete(query_with_contexts)"
   ]
  },
  {
   "cell_type": "code",
   "execution_count": null,
   "id": "0e7a48bd",
   "metadata": {},
   "outputs": [],
   "source": []
  },
  {
   "cell_type": "code",
   "execution_count": 44,
   "id": "ebb2bd7e",
   "metadata": {},
   "outputs": [],
   "source": [
    "\"\"\"\n",
    "EMBEDDING_MODEL = \"text-embedding-ada-002\"\n",
    "\n",
    "res = openai.Embedding.create(\n",
    "    input=[\n",
    "        \"Sample document text goes here\",\n",
    "        \"there will be several phrases in each batch\"\n",
    "    ], engine=EMBEDDING_MODEL\n",
    ")"
   ]
  },
  {
   "cell_type": "code",
   "execution_count": 88,
   "id": "36acf762",
   "metadata": {},
   "outputs": [
    {
     "name": "stdout",
     "output_type": "stream",
     "text": [
      "<class 'list'>\n"
     ]
    }
   ],
   "source": [
    "print(type(chunks_embedding_vectors))"
   ]
  },
  {
   "cell_type": "code",
   "execution_count": 91,
   "id": "6e117874",
   "metadata": {},
   "outputs": [
    {
     "data": {
      "text/plain": [
       "1536"
      ]
     },
     "execution_count": 91,
     "metadata": {},
     "output_type": "execute_result"
    }
   ],
   "source": [
    "len(chunks_embedding_vectors[0])"
   ]
  },
  {
   "cell_type": "code",
   "execution_count": null,
   "id": "1c8f7030",
   "metadata": {},
   "outputs": [],
   "source": []
  }
 ],
 "metadata": {
  "kernelspec": {
   "display_name": "Python 3 (ipykernel)",
   "language": "python",
   "name": "python3"
  },
  "language_info": {
   "codemirror_mode": {
    "name": "ipython",
    "version": 3
   },
   "file_extension": ".py",
   "mimetype": "text/x-python",
   "name": "python",
   "nbconvert_exporter": "python",
   "pygments_lexer": "ipython3",
   "version": "3.9.6"
  }
 },
 "nbformat": 4,
 "nbformat_minor": 5
}
